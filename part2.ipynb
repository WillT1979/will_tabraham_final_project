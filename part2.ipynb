{
 "cells": [
  {
   "cell_type": "markdown",
   "metadata": {},
   "source": [
    "# Final Project Part 2"
   ]
  },
  {
   "cell_type": "markdown",
   "metadata": {},
   "source": [
    "## Import libraries"
   ]
  },
  {
   "cell_type": "code",
   "execution_count": 1,
   "metadata": {},
   "outputs": [],
   "source": [
    "import pandas as pd\n",
    "import matplotlib.pyplot as plt\n",
    "import numpy as np\n",
    "import seaborn as sns\n",
    "from pathlib import Path\n",
    "\n",
    "%matplotlib inline"
   ]
  },
  {
   "cell_type": "markdown",
   "metadata": {},
   "source": [
    "## Import data"
   ]
  },
  {
   "cell_type": "code",
   "execution_count": 2,
   "metadata": {},
   "outputs": [],
   "source": [
    "engagement_raw = pd.read_csv('engagement_subset.csv')"
   ]
  },
  {
   "cell_type": "markdown",
   "metadata": {},
   "source": [
    "   ### Remove extraneous data"
   ]
  },
  {
   "cell_type": "code",
   "execution_count": 3,
   "metadata": {},
   "outputs": [],
   "source": [
    "engagement = engagement_raw.drop(['email','launch_id', 'product_featured', 'product_subject', 'date_launched','clicked','unsubscribed'], axis='columns')"
   ]
  },
  {
   "cell_type": "markdown",
   "metadata": {},
   "source": [
    "## Explore data"
   ]
  },
  {
   "cell_type": "code",
   "execution_count": 4,
   "metadata": {},
   "outputs": [
    {
     "data": {
      "text/plain": [
       "(189318, 16)"
      ]
     },
     "execution_count": 4,
     "metadata": {},
     "output_type": "execute_result"
    }
   ],
   "source": [
    "engagement.shape"
   ]
  },
  {
   "cell_type": "markdown",
   "metadata": {},
   "source": [
    "A total of 189318 records and 16 attributes (15 potential features, 1 target variable)"
   ]
  },
  {
   "cell_type": "code",
   "execution_count": 5,
   "metadata": {},
   "outputs": [
    {
     "data": {
      "text/plain": [
       "RangeIndex(start=0, stop=189318, step=1)"
      ]
     },
     "execution_count": 5,
     "metadata": {},
     "output_type": "execute_result"
    }
   ],
   "source": [
    "engagement.index"
   ]
  },
  {
   "cell_type": "code",
   "execution_count": 12,
   "metadata": {},
   "outputs": [
    {
     "data": {
      "text/plain": [
       "Index(['cellcode', 'product_discipline', 'month', 'is_academic_email',\n",
       "       'is_china_recipient', 'is_responder', 'responses',\n",
       "       'is_recent_responder', 'recent_responses', 'is_submitter_subject',\n",
       "       'is_submitter_discipline', 'is_submitter_recent_subject',\n",
       "       'is_submitter_recent_discipline', 'has_subject_code_match',\n",
       "       'has_discipline_code_match', 'engaged'],\n",
       "      dtype='object')"
      ]
     },
     "execution_count": 12,
     "metadata": {},
     "output_type": "execute_result"
    }
   ],
   "source": [
    "engagement.columns"
   ]
  },
  {
   "cell_type": "code",
   "execution_count": 6,
   "metadata": {},
   "outputs": [
    {
     "name": "stdout",
     "output_type": "stream",
     "text": [
      "<class 'pandas.core.frame.DataFrame'>\n",
      "RangeIndex: 189318 entries, 0 to 189317\n",
      "Data columns (total 16 columns):\n",
      "cellcode                          189318 non-null object\n",
      "product_discipline                189318 non-null object\n",
      "month                             189318 non-null int64\n",
      "is_academic_email                 189318 non-null int64\n",
      "is_china_recipient                189318 non-null int64\n",
      "is_responder                      189318 non-null int64\n",
      "responses                         189318 non-null int64\n",
      "is_recent_responder               189318 non-null int64\n",
      "recent_responses                  189318 non-null int64\n",
      "is_submitter_subject              189318 non-null int64\n",
      "is_submitter_discipline           189318 non-null int64\n",
      "is_submitter_recent_subject       189318 non-null int64\n",
      "is_submitter_recent_discipline    189318 non-null int64\n",
      "has_subject_code_match            189318 non-null int64\n",
      "has_discipline_code_match         189318 non-null int64\n",
      "engaged                           189318 non-null int64\n",
      "dtypes: int64(14), object(2)\n",
      "memory usage: 23.1+ MB\n"
     ]
    }
   ],
   "source": [
    "engagement.info()"
   ]
  },
  {
   "cell_type": "code",
   "execution_count": 7,
   "metadata": {},
   "outputs": [
    {
     "data": {
      "text/plain": [
       "cellcode                          object\n",
       "product_discipline                object\n",
       "month                              int64\n",
       "is_academic_email                  int64\n",
       "is_china_recipient                 int64\n",
       "is_responder                       int64\n",
       "responses                          int64\n",
       "is_recent_responder                int64\n",
       "recent_responses                   int64\n",
       "is_submitter_subject               int64\n",
       "is_submitter_discipline            int64\n",
       "is_submitter_recent_subject        int64\n",
       "is_submitter_recent_discipline     int64\n",
       "has_subject_code_match             int64\n",
       "has_discipline_code_match          int64\n",
       "engaged                            int64\n",
       "dtype: object"
      ]
     },
     "execution_count": 7,
     "metadata": {},
     "output_type": "execute_result"
    }
   ],
   "source": [
    "engagement.dtypes"
   ]
  },
  {
   "cell_type": "markdown",
   "metadata": {},
   "source": [
    "Cellcode and product_discipline are categorical data types and would need to be dummied/converted to numeric variables"
   ]
  },
  {
   "cell_type": "markdown",
   "metadata": {},
   "source": [
    "## Understanding the data"
   ]
  },
  {
   "cell_type": "markdown",
   "metadata": {},
   "source": [
    "### General Summary"
   ]
  },
  {
   "cell_type": "code",
   "execution_count": 8,
   "metadata": {},
   "outputs": [
    {
     "data": {
      "text/html": [
       "<div>\n",
       "<style scoped>\n",
       "    .dataframe tbody tr th:only-of-type {\n",
       "        vertical-align: middle;\n",
       "    }\n",
       "\n",
       "    .dataframe tbody tr th {\n",
       "        vertical-align: top;\n",
       "    }\n",
       "\n",
       "    .dataframe thead th {\n",
       "        text-align: right;\n",
       "    }\n",
       "</style>\n",
       "<table border=\"1\" class=\"dataframe\">\n",
       "  <thead>\n",
       "    <tr style=\"text-align: right;\">\n",
       "      <th></th>\n",
       "      <th>cellcode</th>\n",
       "      <th>product_discipline</th>\n",
       "      <th>month</th>\n",
       "      <th>is_academic_email</th>\n",
       "      <th>is_china_recipient</th>\n",
       "      <th>is_responder</th>\n",
       "      <th>responses</th>\n",
       "      <th>is_recent_responder</th>\n",
       "      <th>recent_responses</th>\n",
       "      <th>is_submitter_subject</th>\n",
       "      <th>is_submitter_discipline</th>\n",
       "      <th>is_submitter_recent_subject</th>\n",
       "      <th>is_submitter_recent_discipline</th>\n",
       "      <th>has_subject_code_match</th>\n",
       "      <th>has_discipline_code_match</th>\n",
       "      <th>engaged</th>\n",
       "    </tr>\n",
       "  </thead>\n",
       "  <tbody>\n",
       "    <tr>\n",
       "      <th>0</th>\n",
       "      <td>HOUSE</td>\n",
       "      <td>Clinical Medicine</td>\n",
       "      <td>1</td>\n",
       "      <td>1</td>\n",
       "      <td>0</td>\n",
       "      <td>1</td>\n",
       "      <td>20</td>\n",
       "      <td>0</td>\n",
       "      <td>0</td>\n",
       "      <td>0</td>\n",
       "      <td>0</td>\n",
       "      <td>0</td>\n",
       "      <td>0</td>\n",
       "      <td>0</td>\n",
       "      <td>0</td>\n",
       "      <td>0</td>\n",
       "    </tr>\n",
       "    <tr>\n",
       "      <th>1</th>\n",
       "      <td>HOUSE</td>\n",
       "      <td>Clinical Medicine</td>\n",
       "      <td>1</td>\n",
       "      <td>1</td>\n",
       "      <td>0</td>\n",
       "      <td>1</td>\n",
       "      <td>2</td>\n",
       "      <td>0</td>\n",
       "      <td>0</td>\n",
       "      <td>0</td>\n",
       "      <td>0</td>\n",
       "      <td>0</td>\n",
       "      <td>0</td>\n",
       "      <td>0</td>\n",
       "      <td>1</td>\n",
       "      <td>0</td>\n",
       "    </tr>\n",
       "    <tr>\n",
       "      <th>2</th>\n",
       "      <td>HOUSE</td>\n",
       "      <td>Clinical Medicine</td>\n",
       "      <td>1</td>\n",
       "      <td>0</td>\n",
       "      <td>1</td>\n",
       "      <td>1</td>\n",
       "      <td>4</td>\n",
       "      <td>1</td>\n",
       "      <td>1</td>\n",
       "      <td>1</td>\n",
       "      <td>1</td>\n",
       "      <td>0</td>\n",
       "      <td>0</td>\n",
       "      <td>1</td>\n",
       "      <td>1</td>\n",
       "      <td>0</td>\n",
       "    </tr>\n",
       "    <tr>\n",
       "      <th>3</th>\n",
       "      <td>HOUSE</td>\n",
       "      <td>Clinical Medicine</td>\n",
       "      <td>1</td>\n",
       "      <td>1</td>\n",
       "      <td>0</td>\n",
       "      <td>1</td>\n",
       "      <td>1</td>\n",
       "      <td>0</td>\n",
       "      <td>0</td>\n",
       "      <td>0</td>\n",
       "      <td>0</td>\n",
       "      <td>0</td>\n",
       "      <td>0</td>\n",
       "      <td>0</td>\n",
       "      <td>0</td>\n",
       "      <td>1</td>\n",
       "    </tr>\n",
       "    <tr>\n",
       "      <th>4</th>\n",
       "      <td>HOUSE</td>\n",
       "      <td>Clinical Medicine</td>\n",
       "      <td>1</td>\n",
       "      <td>0</td>\n",
       "      <td>0</td>\n",
       "      <td>0</td>\n",
       "      <td>0</td>\n",
       "      <td>0</td>\n",
       "      <td>0</td>\n",
       "      <td>0</td>\n",
       "      <td>1</td>\n",
       "      <td>0</td>\n",
       "      <td>1</td>\n",
       "      <td>0</td>\n",
       "      <td>1</td>\n",
       "      <td>0</td>\n",
       "    </tr>\n",
       "  </tbody>\n",
       "</table>\n",
       "</div>"
      ],
      "text/plain": [
       "  cellcode product_discipline  month  is_academic_email  is_china_recipient  \\\n",
       "0    HOUSE  Clinical Medicine      1                  1                   0   \n",
       "1    HOUSE  Clinical Medicine      1                  1                   0   \n",
       "2    HOUSE  Clinical Medicine      1                  0                   1   \n",
       "3    HOUSE  Clinical Medicine      1                  1                   0   \n",
       "4    HOUSE  Clinical Medicine      1                  0                   0   \n",
       "\n",
       "   is_responder  responses  is_recent_responder  recent_responses  \\\n",
       "0             1         20                    0                 0   \n",
       "1             1          2                    0                 0   \n",
       "2             1          4                    1                 1   \n",
       "3             1          1                    0                 0   \n",
       "4             0          0                    0                 0   \n",
       "\n",
       "   is_submitter_subject  is_submitter_discipline  is_submitter_recent_subject  \\\n",
       "0                     0                        0                            0   \n",
       "1                     0                        0                            0   \n",
       "2                     1                        1                            0   \n",
       "3                     0                        0                            0   \n",
       "4                     0                        1                            0   \n",
       "\n",
       "   is_submitter_recent_discipline  has_subject_code_match  \\\n",
       "0                               0                       0   \n",
       "1                               0                       0   \n",
       "2                               0                       1   \n",
       "3                               0                       0   \n",
       "4                               1                       0   \n",
       "\n",
       "   has_discipline_code_match  engaged  \n",
       "0                          0        0  \n",
       "1                          1        0  \n",
       "2                          1        0  \n",
       "3                          0        1  \n",
       "4                          1        0  "
      ]
     },
     "execution_count": 8,
     "metadata": {},
     "output_type": "execute_result"
    }
   ],
   "source": [
    "engagement.head(5)"
   ]
  },
  {
   "cell_type": "code",
   "execution_count": 9,
   "metadata": {},
   "outputs": [
    {
     "data": {
      "text/html": [
       "<div>\n",
       "<style scoped>\n",
       "    .dataframe tbody tr th:only-of-type {\n",
       "        vertical-align: middle;\n",
       "    }\n",
       "\n",
       "    .dataframe tbody tr th {\n",
       "        vertical-align: top;\n",
       "    }\n",
       "\n",
       "    .dataframe thead th {\n",
       "        text-align: right;\n",
       "    }\n",
       "</style>\n",
       "<table border=\"1\" class=\"dataframe\">\n",
       "  <thead>\n",
       "    <tr style=\"text-align: right;\">\n",
       "      <th></th>\n",
       "      <th>cellcode</th>\n",
       "      <th>product_discipline</th>\n",
       "      <th>month</th>\n",
       "      <th>is_academic_email</th>\n",
       "      <th>is_china_recipient</th>\n",
       "      <th>is_responder</th>\n",
       "      <th>responses</th>\n",
       "      <th>is_recent_responder</th>\n",
       "      <th>recent_responses</th>\n",
       "      <th>is_submitter_subject</th>\n",
       "      <th>is_submitter_discipline</th>\n",
       "      <th>is_submitter_recent_subject</th>\n",
       "      <th>is_submitter_recent_discipline</th>\n",
       "      <th>has_subject_code_match</th>\n",
       "      <th>has_discipline_code_match</th>\n",
       "      <th>engaged</th>\n",
       "    </tr>\n",
       "  </thead>\n",
       "  <tbody>\n",
       "    <tr>\n",
       "      <th>189313</th>\n",
       "      <td>ST</td>\n",
       "      <td>Clinical Medicine</td>\n",
       "      <td>3</td>\n",
       "      <td>1</td>\n",
       "      <td>0</td>\n",
       "      <td>1</td>\n",
       "      <td>6</td>\n",
       "      <td>0</td>\n",
       "      <td>0</td>\n",
       "      <td>0</td>\n",
       "      <td>1</td>\n",
       "      <td>0</td>\n",
       "      <td>0</td>\n",
       "      <td>0</td>\n",
       "      <td>0</td>\n",
       "      <td>0</td>\n",
       "    </tr>\n",
       "    <tr>\n",
       "      <th>189314</th>\n",
       "      <td>ST</td>\n",
       "      <td>Clinical Medicine</td>\n",
       "      <td>3</td>\n",
       "      <td>0</td>\n",
       "      <td>0</td>\n",
       "      <td>1</td>\n",
       "      <td>1</td>\n",
       "      <td>0</td>\n",
       "      <td>0</td>\n",
       "      <td>0</td>\n",
       "      <td>1</td>\n",
       "      <td>0</td>\n",
       "      <td>0</td>\n",
       "      <td>0</td>\n",
       "      <td>1</td>\n",
       "      <td>0</td>\n",
       "    </tr>\n",
       "    <tr>\n",
       "      <th>189315</th>\n",
       "      <td>HOUSE</td>\n",
       "      <td>Clinical Medicine</td>\n",
       "      <td>3</td>\n",
       "      <td>0</td>\n",
       "      <td>1</td>\n",
       "      <td>1</td>\n",
       "      <td>12</td>\n",
       "      <td>1</td>\n",
       "      <td>1</td>\n",
       "      <td>0</td>\n",
       "      <td>0</td>\n",
       "      <td>0</td>\n",
       "      <td>0</td>\n",
       "      <td>1</td>\n",
       "      <td>1</td>\n",
       "      <td>0</td>\n",
       "    </tr>\n",
       "    <tr>\n",
       "      <th>189316</th>\n",
       "      <td>ST</td>\n",
       "      <td>Clinical Medicine</td>\n",
       "      <td>3</td>\n",
       "      <td>0</td>\n",
       "      <td>0</td>\n",
       "      <td>1</td>\n",
       "      <td>134</td>\n",
       "      <td>1</td>\n",
       "      <td>5</td>\n",
       "      <td>0</td>\n",
       "      <td>1</td>\n",
       "      <td>0</td>\n",
       "      <td>0</td>\n",
       "      <td>0</td>\n",
       "      <td>1</td>\n",
       "      <td>1</td>\n",
       "    </tr>\n",
       "    <tr>\n",
       "      <th>189317</th>\n",
       "      <td>HOUSE</td>\n",
       "      <td>Clinical Medicine</td>\n",
       "      <td>3</td>\n",
       "      <td>1</td>\n",
       "      <td>1</td>\n",
       "      <td>1</td>\n",
       "      <td>1</td>\n",
       "      <td>0</td>\n",
       "      <td>0</td>\n",
       "      <td>0</td>\n",
       "      <td>1</td>\n",
       "      <td>0</td>\n",
       "      <td>1</td>\n",
       "      <td>0</td>\n",
       "      <td>1</td>\n",
       "      <td>0</td>\n",
       "    </tr>\n",
       "  </tbody>\n",
       "</table>\n",
       "</div>"
      ],
      "text/plain": [
       "       cellcode product_discipline  month  is_academic_email  \\\n",
       "189313       ST  Clinical Medicine      3                  1   \n",
       "189314       ST  Clinical Medicine      3                  0   \n",
       "189315    HOUSE  Clinical Medicine      3                  0   \n",
       "189316       ST  Clinical Medicine      3                  0   \n",
       "189317    HOUSE  Clinical Medicine      3                  1   \n",
       "\n",
       "        is_china_recipient  is_responder  responses  is_recent_responder  \\\n",
       "189313                   0             1          6                    0   \n",
       "189314                   0             1          1                    0   \n",
       "189315                   1             1         12                    1   \n",
       "189316                   0             1        134                    1   \n",
       "189317                   1             1          1                    0   \n",
       "\n",
       "        recent_responses  is_submitter_subject  is_submitter_discipline  \\\n",
       "189313                 0                     0                        1   \n",
       "189314                 0                     0                        1   \n",
       "189315                 1                     0                        0   \n",
       "189316                 5                     0                        1   \n",
       "189317                 0                     0                        1   \n",
       "\n",
       "        is_submitter_recent_subject  is_submitter_recent_discipline  \\\n",
       "189313                            0                               0   \n",
       "189314                            0                               0   \n",
       "189315                            0                               0   \n",
       "189316                            0                               0   \n",
       "189317                            0                               1   \n",
       "\n",
       "        has_subject_code_match  has_discipline_code_match  engaged  \n",
       "189313                       0                          0        0  \n",
       "189314                       0                          1        0  \n",
       "189315                       1                          1        0  \n",
       "189316                       0                          1        1  \n",
       "189317                       0                          1        0  "
      ]
     },
     "execution_count": 9,
     "metadata": {},
     "output_type": "execute_result"
    }
   ],
   "source": [
    "engagement.tail(5)"
   ]
  },
  {
   "cell_type": "code",
   "execution_count": 10,
   "metadata": {},
   "outputs": [
    {
     "data": {
      "text/plain": [
       "cellcode                          0\n",
       "product_discipline                0\n",
       "month                             0\n",
       "is_academic_email                 0\n",
       "is_china_recipient                0\n",
       "is_responder                      0\n",
       "responses                         0\n",
       "is_recent_responder               0\n",
       "recent_responses                  0\n",
       "is_submitter_subject              0\n",
       "is_submitter_discipline           0\n",
       "is_submitter_recent_subject       0\n",
       "is_submitter_recent_discipline    0\n",
       "has_subject_code_match            0\n",
       "has_discipline_code_match         0\n",
       "engaged                           0\n",
       "dtype: int64"
      ]
     },
     "execution_count": 10,
     "metadata": {},
     "output_type": "execute_result"
    }
   ],
   "source": [
    "engagement.isnull().sum()"
   ]
  },
  {
   "cell_type": "code",
   "execution_count": 11,
   "metadata": {},
   "outputs": [
    {
     "data": {
      "text/html": [
       "<div>\n",
       "<style scoped>\n",
       "    .dataframe tbody tr th:only-of-type {\n",
       "        vertical-align: middle;\n",
       "    }\n",
       "\n",
       "    .dataframe tbody tr th {\n",
       "        vertical-align: top;\n",
       "    }\n",
       "\n",
       "    .dataframe thead th {\n",
       "        text-align: right;\n",
       "    }\n",
       "</style>\n",
       "<table border=\"1\" class=\"dataframe\">\n",
       "  <thead>\n",
       "    <tr style=\"text-align: right;\">\n",
       "      <th></th>\n",
       "      <th>month</th>\n",
       "      <th>is_academic_email</th>\n",
       "      <th>is_china_recipient</th>\n",
       "      <th>is_responder</th>\n",
       "      <th>responses</th>\n",
       "      <th>is_recent_responder</th>\n",
       "      <th>recent_responses</th>\n",
       "      <th>is_submitter_subject</th>\n",
       "      <th>is_submitter_discipline</th>\n",
       "      <th>is_submitter_recent_subject</th>\n",
       "      <th>is_submitter_recent_discipline</th>\n",
       "      <th>has_subject_code_match</th>\n",
       "      <th>has_discipline_code_match</th>\n",
       "      <th>engaged</th>\n",
       "    </tr>\n",
       "  </thead>\n",
       "  <tbody>\n",
       "    <tr>\n",
       "      <th>count</th>\n",
       "      <td>189318.000000</td>\n",
       "      <td>189318.000000</td>\n",
       "      <td>189318.000000</td>\n",
       "      <td>189318.000000</td>\n",
       "      <td>189318.000000</td>\n",
       "      <td>189318.000000</td>\n",
       "      <td>189318.000000</td>\n",
       "      <td>189318.000000</td>\n",
       "      <td>189318.000000</td>\n",
       "      <td>189318.000000</td>\n",
       "      <td>189318.000000</td>\n",
       "      <td>189318.000000</td>\n",
       "      <td>189318.000000</td>\n",
       "      <td>189318.000000</td>\n",
       "    </tr>\n",
       "    <tr>\n",
       "      <th>mean</th>\n",
       "      <td>1.957357</td>\n",
       "      <td>0.265659</td>\n",
       "      <td>0.159758</td>\n",
       "      <td>0.837374</td>\n",
       "      <td>19.313552</td>\n",
       "      <td>0.494137</td>\n",
       "      <td>2.873779</td>\n",
       "      <td>0.096710</td>\n",
       "      <td>0.530277</td>\n",
       "      <td>0.019407</td>\n",
       "      <td>0.113465</td>\n",
       "      <td>0.092875</td>\n",
       "      <td>0.671838</td>\n",
       "      <td>0.195444</td>\n",
       "    </tr>\n",
       "    <tr>\n",
       "      <th>std</th>\n",
       "      <td>0.809719</td>\n",
       "      <td>0.441685</td>\n",
       "      <td>0.366382</td>\n",
       "      <td>0.369025</td>\n",
       "      <td>29.371721</td>\n",
       "      <td>0.499967</td>\n",
       "      <td>5.767999</td>\n",
       "      <td>0.295564</td>\n",
       "      <td>0.499084</td>\n",
       "      <td>0.137949</td>\n",
       "      <td>0.317161</td>\n",
       "      <td>0.290259</td>\n",
       "      <td>0.469545</td>\n",
       "      <td>0.396543</td>\n",
       "    </tr>\n",
       "    <tr>\n",
       "      <th>min</th>\n",
       "      <td>1.000000</td>\n",
       "      <td>0.000000</td>\n",
       "      <td>0.000000</td>\n",
       "      <td>0.000000</td>\n",
       "      <td>0.000000</td>\n",
       "      <td>0.000000</td>\n",
       "      <td>0.000000</td>\n",
       "      <td>0.000000</td>\n",
       "      <td>0.000000</td>\n",
       "      <td>0.000000</td>\n",
       "      <td>0.000000</td>\n",
       "      <td>0.000000</td>\n",
       "      <td>0.000000</td>\n",
       "      <td>0.000000</td>\n",
       "    </tr>\n",
       "    <tr>\n",
       "      <th>25%</th>\n",
       "      <td>1.000000</td>\n",
       "      <td>0.000000</td>\n",
       "      <td>0.000000</td>\n",
       "      <td>1.000000</td>\n",
       "      <td>1.000000</td>\n",
       "      <td>0.000000</td>\n",
       "      <td>0.000000</td>\n",
       "      <td>0.000000</td>\n",
       "      <td>0.000000</td>\n",
       "      <td>0.000000</td>\n",
       "      <td>0.000000</td>\n",
       "      <td>0.000000</td>\n",
       "      <td>0.000000</td>\n",
       "      <td>0.000000</td>\n",
       "    </tr>\n",
       "    <tr>\n",
       "      <th>50%</th>\n",
       "      <td>2.000000</td>\n",
       "      <td>0.000000</td>\n",
       "      <td>0.000000</td>\n",
       "      <td>1.000000</td>\n",
       "      <td>7.000000</td>\n",
       "      <td>0.000000</td>\n",
       "      <td>0.000000</td>\n",
       "      <td>0.000000</td>\n",
       "      <td>1.000000</td>\n",
       "      <td>0.000000</td>\n",
       "      <td>0.000000</td>\n",
       "      <td>0.000000</td>\n",
       "      <td>1.000000</td>\n",
       "      <td>0.000000</td>\n",
       "    </tr>\n",
       "    <tr>\n",
       "      <th>75%</th>\n",
       "      <td>3.000000</td>\n",
       "      <td>1.000000</td>\n",
       "      <td>0.000000</td>\n",
       "      <td>1.000000</td>\n",
       "      <td>24.000000</td>\n",
       "      <td>1.000000</td>\n",
       "      <td>3.000000</td>\n",
       "      <td>0.000000</td>\n",
       "      <td>1.000000</td>\n",
       "      <td>0.000000</td>\n",
       "      <td>0.000000</td>\n",
       "      <td>0.000000</td>\n",
       "      <td>1.000000</td>\n",
       "      <td>0.000000</td>\n",
       "    </tr>\n",
       "    <tr>\n",
       "      <th>max</th>\n",
       "      <td>3.000000</td>\n",
       "      <td>1.000000</td>\n",
       "      <td>1.000000</td>\n",
       "      <td>1.000000</td>\n",
       "      <td>560.000000</td>\n",
       "      <td>1.000000</td>\n",
       "      <td>102.000000</td>\n",
       "      <td>1.000000</td>\n",
       "      <td>1.000000</td>\n",
       "      <td>1.000000</td>\n",
       "      <td>1.000000</td>\n",
       "      <td>1.000000</td>\n",
       "      <td>1.000000</td>\n",
       "      <td>1.000000</td>\n",
       "    </tr>\n",
       "  </tbody>\n",
       "</table>\n",
       "</div>"
      ],
      "text/plain": [
       "               month  is_academic_email  is_china_recipient   is_responder  \\\n",
       "count  189318.000000      189318.000000       189318.000000  189318.000000   \n",
       "mean        1.957357           0.265659            0.159758       0.837374   \n",
       "std         0.809719           0.441685            0.366382       0.369025   \n",
       "min         1.000000           0.000000            0.000000       0.000000   \n",
       "25%         1.000000           0.000000            0.000000       1.000000   \n",
       "50%         2.000000           0.000000            0.000000       1.000000   \n",
       "75%         3.000000           1.000000            0.000000       1.000000   \n",
       "max         3.000000           1.000000            1.000000       1.000000   \n",
       "\n",
       "           responses  is_recent_responder  recent_responses  \\\n",
       "count  189318.000000        189318.000000     189318.000000   \n",
       "mean       19.313552             0.494137          2.873779   \n",
       "std        29.371721             0.499967          5.767999   \n",
       "min         0.000000             0.000000          0.000000   \n",
       "25%         1.000000             0.000000          0.000000   \n",
       "50%         7.000000             0.000000          0.000000   \n",
       "75%        24.000000             1.000000          3.000000   \n",
       "max       560.000000             1.000000        102.000000   \n",
       "\n",
       "       is_submitter_subject  is_submitter_discipline  \\\n",
       "count         189318.000000            189318.000000   \n",
       "mean               0.096710                 0.530277   \n",
       "std                0.295564                 0.499084   \n",
       "min                0.000000                 0.000000   \n",
       "25%                0.000000                 0.000000   \n",
       "50%                0.000000                 1.000000   \n",
       "75%                0.000000                 1.000000   \n",
       "max                1.000000                 1.000000   \n",
       "\n",
       "       is_submitter_recent_subject  is_submitter_recent_discipline  \\\n",
       "count                189318.000000                   189318.000000   \n",
       "mean                      0.019407                        0.113465   \n",
       "std                       0.137949                        0.317161   \n",
       "min                       0.000000                        0.000000   \n",
       "25%                       0.000000                        0.000000   \n",
       "50%                       0.000000                        0.000000   \n",
       "75%                       0.000000                        0.000000   \n",
       "max                       1.000000                        1.000000   \n",
       "\n",
       "       has_subject_code_match  has_discipline_code_match        engaged  \n",
       "count           189318.000000              189318.000000  189318.000000  \n",
       "mean                 0.092875                   0.671838       0.195444  \n",
       "std                  0.290259                   0.469545       0.396543  \n",
       "min                  0.000000                   0.000000       0.000000  \n",
       "25%                  0.000000                   0.000000       0.000000  \n",
       "50%                  0.000000                   1.000000       0.000000  \n",
       "75%                  0.000000                   1.000000       0.000000  \n",
       "max                  1.000000                   1.000000       1.000000  "
      ]
     },
     "execution_count": 11,
     "metadata": {},
     "output_type": "execute_result"
    }
   ],
   "source": [
    "engagement.describe()"
   ]
  },
  {
   "cell_type": "code",
   "execution_count": 12,
   "metadata": {},
   "outputs": [
    {
     "data": {
      "text/html": [
       "<div>\n",
       "<style scoped>\n",
       "    .dataframe tbody tr th:only-of-type {\n",
       "        vertical-align: middle;\n",
       "    }\n",
       "\n",
       "    .dataframe tbody tr th {\n",
       "        vertical-align: top;\n",
       "    }\n",
       "\n",
       "    .dataframe thead th {\n",
       "        text-align: right;\n",
       "    }\n",
       "</style>\n",
       "<table border=\"1\" class=\"dataframe\">\n",
       "  <thead>\n",
       "    <tr style=\"text-align: right;\">\n",
       "      <th></th>\n",
       "      <th>cellcode</th>\n",
       "      <th>product_discipline</th>\n",
       "    </tr>\n",
       "  </thead>\n",
       "  <tbody>\n",
       "    <tr>\n",
       "      <th>count</th>\n",
       "      <td>189318</td>\n",
       "      <td>189318</td>\n",
       "    </tr>\n",
       "    <tr>\n",
       "      <th>unique</th>\n",
       "      <td>5</td>\n",
       "      <td>2</td>\n",
       "    </tr>\n",
       "    <tr>\n",
       "      <th>top</th>\n",
       "      <td>HOUSE</td>\n",
       "      <td>Clinical Medicine</td>\n",
       "    </tr>\n",
       "    <tr>\n",
       "      <th>freq</th>\n",
       "      <td>110063</td>\n",
       "      <td>127676</td>\n",
       "    </tr>\n",
       "  </tbody>\n",
       "</table>\n",
       "</div>"
      ],
      "text/plain": [
       "       cellcode product_discipline\n",
       "count    189318             189318\n",
       "unique        5                  2\n",
       "top       HOUSE  Clinical Medicine\n",
       "freq     110063             127676"
      ]
     },
     "execution_count": 12,
     "metadata": {},
     "output_type": "execute_result"
    }
   ],
   "source": [
    "engagement.describe(include='object')"
   ]
  },
  {
   "cell_type": "markdown",
   "metadata": {},
   "source": [
    "### Analyzing numerical variables"
   ]
  },
  {
   "cell_type": "code",
   "execution_count": 13,
   "metadata": {},
   "outputs": [
    {
     "data": {
      "text/html": [
       "<div>\n",
       "<style scoped>\n",
       "    .dataframe tbody tr th:only-of-type {\n",
       "        vertical-align: middle;\n",
       "    }\n",
       "\n",
       "    .dataframe tbody tr th {\n",
       "        vertical-align: top;\n",
       "    }\n",
       "\n",
       "    .dataframe thead th {\n",
       "        text-align: right;\n",
       "    }\n",
       "</style>\n",
       "<table border=\"1\" class=\"dataframe\">\n",
       "  <thead>\n",
       "    <tr style=\"text-align: right;\">\n",
       "      <th></th>\n",
       "      <th>month</th>\n",
       "      <th>is_academic_email</th>\n",
       "      <th>is_china_recipient</th>\n",
       "      <th>is_responder</th>\n",
       "      <th>responses</th>\n",
       "      <th>is_recent_responder</th>\n",
       "      <th>recent_responses</th>\n",
       "      <th>is_submitter_subject</th>\n",
       "      <th>is_submitter_discipline</th>\n",
       "      <th>is_submitter_recent_subject</th>\n",
       "      <th>is_submitter_recent_discipline</th>\n",
       "      <th>has_subject_code_match</th>\n",
       "      <th>has_discipline_code_match</th>\n",
       "      <th>engaged</th>\n",
       "    </tr>\n",
       "  </thead>\n",
       "  <tbody>\n",
       "    <tr>\n",
       "      <th>month</th>\n",
       "      <td>1.000000</td>\n",
       "      <td>-0.002855</td>\n",
       "      <td>0.015307</td>\n",
       "      <td>-0.024623</td>\n",
       "      <td>-0.039067</td>\n",
       "      <td>0.102322</td>\n",
       "      <td>0.054713</td>\n",
       "      <td>0.044004</td>\n",
       "      <td>0.224699</td>\n",
       "      <td>0.016677</td>\n",
       "      <td>0.044633</td>\n",
       "      <td>-0.038931</td>\n",
       "      <td>-0.029373</td>\n",
       "      <td>-0.026604</td>\n",
       "    </tr>\n",
       "    <tr>\n",
       "      <th>is_academic_email</th>\n",
       "      <td>-0.002855</td>\n",
       "      <td>1.000000</td>\n",
       "      <td>0.073088</td>\n",
       "      <td>-0.019085</td>\n",
       "      <td>0.042224</td>\n",
       "      <td>0.029131</td>\n",
       "      <td>0.054629</td>\n",
       "      <td>-0.026622</td>\n",
       "      <td>-0.064260</td>\n",
       "      <td>0.006499</td>\n",
       "      <td>0.020301</td>\n",
       "      <td>-0.025136</td>\n",
       "      <td>0.050394</td>\n",
       "      <td>0.033215</td>\n",
       "    </tr>\n",
       "    <tr>\n",
       "      <th>is_china_recipient</th>\n",
       "      <td>0.015307</td>\n",
       "      <td>0.073088</td>\n",
       "      <td>1.000000</td>\n",
       "      <td>-0.082995</td>\n",
       "      <td>-0.056685</td>\n",
       "      <td>-0.041558</td>\n",
       "      <td>0.019947</td>\n",
       "      <td>0.176577</td>\n",
       "      <td>0.049101</td>\n",
       "      <td>0.110577</td>\n",
       "      <td>0.059786</td>\n",
       "      <td>0.005810</td>\n",
       "      <td>0.177080</td>\n",
       "      <td>-0.054433</td>\n",
       "    </tr>\n",
       "    <tr>\n",
       "      <th>is_responder</th>\n",
       "      <td>-0.024623</td>\n",
       "      <td>-0.019085</td>\n",
       "      <td>-0.082995</td>\n",
       "      <td>1.000000</td>\n",
       "      <td>0.289780</td>\n",
       "      <td>0.435554</td>\n",
       "      <td>0.219566</td>\n",
       "      <td>0.053684</td>\n",
       "      <td>-0.002634</td>\n",
       "      <td>-0.001298</td>\n",
       "      <td>-0.052651</td>\n",
       "      <td>0.056930</td>\n",
       "      <td>0.100889</td>\n",
       "      <td>0.217204</td>\n",
       "    </tr>\n",
       "    <tr>\n",
       "      <th>responses</th>\n",
       "      <td>-0.039067</td>\n",
       "      <td>0.042224</td>\n",
       "      <td>-0.056685</td>\n",
       "      <td>0.289780</td>\n",
       "      <td>1.000000</td>\n",
       "      <td>0.430450</td>\n",
       "      <td>0.668732</td>\n",
       "      <td>0.063605</td>\n",
       "      <td>-0.045403</td>\n",
       "      <td>0.022085</td>\n",
       "      <td>-0.002573</td>\n",
       "      <td>0.083482</td>\n",
       "      <td>0.193492</td>\n",
       "      <td>0.403987</td>\n",
       "    </tr>\n",
       "    <tr>\n",
       "      <th>is_recent_responder</th>\n",
       "      <td>0.102322</td>\n",
       "      <td>0.029131</td>\n",
       "      <td>-0.041558</td>\n",
       "      <td>0.435554</td>\n",
       "      <td>0.430450</td>\n",
       "      <td>1.000000</td>\n",
       "      <td>0.504106</td>\n",
       "      <td>0.092861</td>\n",
       "      <td>0.110842</td>\n",
       "      <td>0.044461</td>\n",
       "      <td>0.048916</td>\n",
       "      <td>0.037876</td>\n",
       "      <td>0.094710</td>\n",
       "      <td>0.327558</td>\n",
       "    </tr>\n",
       "    <tr>\n",
       "      <th>recent_responses</th>\n",
       "      <td>0.054713</td>\n",
       "      <td>0.054629</td>\n",
       "      <td>0.019947</td>\n",
       "      <td>0.219566</td>\n",
       "      <td>0.668732</td>\n",
       "      <td>0.504106</td>\n",
       "      <td>1.000000</td>\n",
       "      <td>0.184697</td>\n",
       "      <td>0.116972</td>\n",
       "      <td>0.091967</td>\n",
       "      <td>0.064188</td>\n",
       "      <td>0.068872</td>\n",
       "      <td>0.058120</td>\n",
       "      <td>0.421344</td>\n",
       "    </tr>\n",
       "    <tr>\n",
       "      <th>is_submitter_subject</th>\n",
       "      <td>0.044004</td>\n",
       "      <td>-0.026622</td>\n",
       "      <td>0.176577</td>\n",
       "      <td>0.053684</td>\n",
       "      <td>0.063605</td>\n",
       "      <td>0.092861</td>\n",
       "      <td>0.184697</td>\n",
       "      <td>1.000000</td>\n",
       "      <td>0.307959</td>\n",
       "      <td>0.429938</td>\n",
       "      <td>0.152003</td>\n",
       "      <td>0.191272</td>\n",
       "      <td>-0.019970</td>\n",
       "      <td>-0.004749</td>\n",
       "    </tr>\n",
       "    <tr>\n",
       "      <th>is_submitter_discipline</th>\n",
       "      <td>0.224699</td>\n",
       "      <td>-0.064260</td>\n",
       "      <td>0.049101</td>\n",
       "      <td>-0.002634</td>\n",
       "      <td>-0.045403</td>\n",
       "      <td>0.110842</td>\n",
       "      <td>0.116972</td>\n",
       "      <td>0.307959</td>\n",
       "      <td>1.000000</td>\n",
       "      <td>0.132403</td>\n",
       "      <td>0.336708</td>\n",
       "      <td>-0.033869</td>\n",
       "      <td>-0.053048</td>\n",
       "      <td>-0.020679</td>\n",
       "    </tr>\n",
       "    <tr>\n",
       "      <th>is_submitter_recent_subject</th>\n",
       "      <td>0.016677</td>\n",
       "      <td>0.006499</td>\n",
       "      <td>0.110577</td>\n",
       "      <td>-0.001298</td>\n",
       "      <td>0.022085</td>\n",
       "      <td>0.044461</td>\n",
       "      <td>0.091967</td>\n",
       "      <td>0.429938</td>\n",
       "      <td>0.132403</td>\n",
       "      <td>1.000000</td>\n",
       "      <td>0.393229</td>\n",
       "      <td>0.133736</td>\n",
       "      <td>0.051756</td>\n",
       "      <td>0.024617</td>\n",
       "    </tr>\n",
       "    <tr>\n",
       "      <th>is_submitter_recent_discipline</th>\n",
       "      <td>0.044633</td>\n",
       "      <td>0.020301</td>\n",
       "      <td>0.059786</td>\n",
       "      <td>-0.052651</td>\n",
       "      <td>-0.002573</td>\n",
       "      <td>0.048916</td>\n",
       "      <td>0.064188</td>\n",
       "      <td>0.152003</td>\n",
       "      <td>0.336708</td>\n",
       "      <td>0.393229</td>\n",
       "      <td>1.000000</td>\n",
       "      <td>0.029087</td>\n",
       "      <td>0.143518</td>\n",
       "      <td>0.036400</td>\n",
       "    </tr>\n",
       "    <tr>\n",
       "      <th>has_subject_code_match</th>\n",
       "      <td>-0.038931</td>\n",
       "      <td>-0.025136</td>\n",
       "      <td>0.005810</td>\n",
       "      <td>0.056930</td>\n",
       "      <td>0.083482</td>\n",
       "      <td>0.037876</td>\n",
       "      <td>0.068872</td>\n",
       "      <td>0.191272</td>\n",
       "      <td>-0.033869</td>\n",
       "      <td>0.133736</td>\n",
       "      <td>0.029087</td>\n",
       "      <td>1.000000</td>\n",
       "      <td>0.223629</td>\n",
       "      <td>-0.006952</td>\n",
       "    </tr>\n",
       "    <tr>\n",
       "      <th>has_discipline_code_match</th>\n",
       "      <td>-0.029373</td>\n",
       "      <td>0.050394</td>\n",
       "      <td>0.177080</td>\n",
       "      <td>0.100889</td>\n",
       "      <td>0.193492</td>\n",
       "      <td>0.094710</td>\n",
       "      <td>0.058120</td>\n",
       "      <td>-0.019970</td>\n",
       "      <td>-0.053048</td>\n",
       "      <td>0.051756</td>\n",
       "      <td>0.143518</td>\n",
       "      <td>0.223629</td>\n",
       "      <td>1.000000</td>\n",
       "      <td>-0.006062</td>\n",
       "    </tr>\n",
       "    <tr>\n",
       "      <th>engaged</th>\n",
       "      <td>-0.026604</td>\n",
       "      <td>0.033215</td>\n",
       "      <td>-0.054433</td>\n",
       "      <td>0.217204</td>\n",
       "      <td>0.403987</td>\n",
       "      <td>0.327558</td>\n",
       "      <td>0.421344</td>\n",
       "      <td>-0.004749</td>\n",
       "      <td>-0.020679</td>\n",
       "      <td>0.024617</td>\n",
       "      <td>0.036400</td>\n",
       "      <td>-0.006952</td>\n",
       "      <td>-0.006062</td>\n",
       "      <td>1.000000</td>\n",
       "    </tr>\n",
       "  </tbody>\n",
       "</table>\n",
       "</div>"
      ],
      "text/plain": [
       "                                   month  is_academic_email  \\\n",
       "month                           1.000000          -0.002855   \n",
       "is_academic_email              -0.002855           1.000000   \n",
       "is_china_recipient              0.015307           0.073088   \n",
       "is_responder                   -0.024623          -0.019085   \n",
       "responses                      -0.039067           0.042224   \n",
       "is_recent_responder             0.102322           0.029131   \n",
       "recent_responses                0.054713           0.054629   \n",
       "is_submitter_subject            0.044004          -0.026622   \n",
       "is_submitter_discipline         0.224699          -0.064260   \n",
       "is_submitter_recent_subject     0.016677           0.006499   \n",
       "is_submitter_recent_discipline  0.044633           0.020301   \n",
       "has_subject_code_match         -0.038931          -0.025136   \n",
       "has_discipline_code_match      -0.029373           0.050394   \n",
       "engaged                        -0.026604           0.033215   \n",
       "\n",
       "                                is_china_recipient  is_responder  responses  \\\n",
       "month                                     0.015307     -0.024623  -0.039067   \n",
       "is_academic_email                         0.073088     -0.019085   0.042224   \n",
       "is_china_recipient                        1.000000     -0.082995  -0.056685   \n",
       "is_responder                             -0.082995      1.000000   0.289780   \n",
       "responses                                -0.056685      0.289780   1.000000   \n",
       "is_recent_responder                      -0.041558      0.435554   0.430450   \n",
       "recent_responses                          0.019947      0.219566   0.668732   \n",
       "is_submitter_subject                      0.176577      0.053684   0.063605   \n",
       "is_submitter_discipline                   0.049101     -0.002634  -0.045403   \n",
       "is_submitter_recent_subject               0.110577     -0.001298   0.022085   \n",
       "is_submitter_recent_discipline            0.059786     -0.052651  -0.002573   \n",
       "has_subject_code_match                    0.005810      0.056930   0.083482   \n",
       "has_discipline_code_match                 0.177080      0.100889   0.193492   \n",
       "engaged                                  -0.054433      0.217204   0.403987   \n",
       "\n",
       "                                is_recent_responder  recent_responses  \\\n",
       "month                                      0.102322          0.054713   \n",
       "is_academic_email                          0.029131          0.054629   \n",
       "is_china_recipient                        -0.041558          0.019947   \n",
       "is_responder                               0.435554          0.219566   \n",
       "responses                                  0.430450          0.668732   \n",
       "is_recent_responder                        1.000000          0.504106   \n",
       "recent_responses                           0.504106          1.000000   \n",
       "is_submitter_subject                       0.092861          0.184697   \n",
       "is_submitter_discipline                    0.110842          0.116972   \n",
       "is_submitter_recent_subject                0.044461          0.091967   \n",
       "is_submitter_recent_discipline             0.048916          0.064188   \n",
       "has_subject_code_match                     0.037876          0.068872   \n",
       "has_discipline_code_match                  0.094710          0.058120   \n",
       "engaged                                    0.327558          0.421344   \n",
       "\n",
       "                                is_submitter_subject  is_submitter_discipline  \\\n",
       "month                                       0.044004                 0.224699   \n",
       "is_academic_email                          -0.026622                -0.064260   \n",
       "is_china_recipient                          0.176577                 0.049101   \n",
       "is_responder                                0.053684                -0.002634   \n",
       "responses                                   0.063605                -0.045403   \n",
       "is_recent_responder                         0.092861                 0.110842   \n",
       "recent_responses                            0.184697                 0.116972   \n",
       "is_submitter_subject                        1.000000                 0.307959   \n",
       "is_submitter_discipline                     0.307959                 1.000000   \n",
       "is_submitter_recent_subject                 0.429938                 0.132403   \n",
       "is_submitter_recent_discipline              0.152003                 0.336708   \n",
       "has_subject_code_match                      0.191272                -0.033869   \n",
       "has_discipline_code_match                  -0.019970                -0.053048   \n",
       "engaged                                    -0.004749                -0.020679   \n",
       "\n",
       "                                is_submitter_recent_subject  \\\n",
       "month                                              0.016677   \n",
       "is_academic_email                                  0.006499   \n",
       "is_china_recipient                                 0.110577   \n",
       "is_responder                                      -0.001298   \n",
       "responses                                          0.022085   \n",
       "is_recent_responder                                0.044461   \n",
       "recent_responses                                   0.091967   \n",
       "is_submitter_subject                               0.429938   \n",
       "is_submitter_discipline                            0.132403   \n",
       "is_submitter_recent_subject                        1.000000   \n",
       "is_submitter_recent_discipline                     0.393229   \n",
       "has_subject_code_match                             0.133736   \n",
       "has_discipline_code_match                          0.051756   \n",
       "engaged                                            0.024617   \n",
       "\n",
       "                                is_submitter_recent_discipline  \\\n",
       "month                                                 0.044633   \n",
       "is_academic_email                                     0.020301   \n",
       "is_china_recipient                                    0.059786   \n",
       "is_responder                                         -0.052651   \n",
       "responses                                            -0.002573   \n",
       "is_recent_responder                                   0.048916   \n",
       "recent_responses                                      0.064188   \n",
       "is_submitter_subject                                  0.152003   \n",
       "is_submitter_discipline                               0.336708   \n",
       "is_submitter_recent_subject                           0.393229   \n",
       "is_submitter_recent_discipline                        1.000000   \n",
       "has_subject_code_match                                0.029087   \n",
       "has_discipline_code_match                             0.143518   \n",
       "engaged                                               0.036400   \n",
       "\n",
       "                                has_subject_code_match  \\\n",
       "month                                        -0.038931   \n",
       "is_academic_email                            -0.025136   \n",
       "is_china_recipient                            0.005810   \n",
       "is_responder                                  0.056930   \n",
       "responses                                     0.083482   \n",
       "is_recent_responder                           0.037876   \n",
       "recent_responses                              0.068872   \n",
       "is_submitter_subject                          0.191272   \n",
       "is_submitter_discipline                      -0.033869   \n",
       "is_submitter_recent_subject                   0.133736   \n",
       "is_submitter_recent_discipline                0.029087   \n",
       "has_subject_code_match                        1.000000   \n",
       "has_discipline_code_match                     0.223629   \n",
       "engaged                                      -0.006952   \n",
       "\n",
       "                                has_discipline_code_match   engaged  \n",
       "month                                           -0.029373 -0.026604  \n",
       "is_academic_email                                0.050394  0.033215  \n",
       "is_china_recipient                               0.177080 -0.054433  \n",
       "is_responder                                     0.100889  0.217204  \n",
       "responses                                        0.193492  0.403987  \n",
       "is_recent_responder                              0.094710  0.327558  \n",
       "recent_responses                                 0.058120  0.421344  \n",
       "is_submitter_subject                            -0.019970 -0.004749  \n",
       "is_submitter_discipline                         -0.053048 -0.020679  \n",
       "is_submitter_recent_subject                      0.051756  0.024617  \n",
       "is_submitter_recent_discipline                   0.143518  0.036400  \n",
       "has_subject_code_match                           0.223629 -0.006952  \n",
       "has_discipline_code_match                        1.000000 -0.006062  \n",
       "engaged                                         -0.006062  1.000000  "
      ]
     },
     "execution_count": 13,
     "metadata": {},
     "output_type": "execute_result"
    }
   ],
   "source": [
    "# Tabulate correlation\n",
    "engagement.corr()"
   ]
  },
  {
   "cell_type": "code",
   "execution_count": 14,
   "metadata": {},
   "outputs": [
    {
     "data": {
      "image/png": "[encoded data removed]",
      "text/plain": [
       "<Figure size 720x576 with 2 Axes>"
      ]
     },
     "metadata": {
      "needs_background": "light"
     },
     "output_type": "display_data"
    }
   ],
   "source": [
    "# Visualize correlation\n",
    "fig, ax = plt.subplots(figsize=(10,8))         \n",
    "sns.heatmap(engagement.corr(),vmin=-1, vmax=1,cmap=sns.diverging_palette(h_neg=220, h_pos=10, n=21), linewidths=.5, ax=ax);"
   ]
  },
  {
   "cell_type": "markdown",
   "metadata": {},
   "source": [
    "Small correlation on academic email, stronger correlation on is_responder, is_recent_responder, is_submitter_recent_subject and is_submitter_recent_discipline, strongest correlations on responses and recent_responses"
   ]
  },
  {
   "cell_type": "markdown",
   "metadata": {},
   "source": [
    "### View relationship of each feature to the target"
   ]
  },
  {
   "cell_type": "markdown",
   "metadata": {},
   "source": [
    "(While not expecting to see a great deal on binary features)"
   ]
  },
  {
   "cell_type": "code",
   "execution_count": 15,
   "metadata": {},
   "outputs": [
    {
     "data": {
      "image/png": "[encoded data removed]",
      "text/plain": [
       "<Figure size 432x288 with 1 Axes>"
      ]
     },
     "metadata": {
      "needs_background": "light"
     },
     "output_type": "display_data"
    }
   ],
   "source": [
    "ax = engagement.plot(kind='scatter', x = 'recent_responses', y = 'engaged', alpha =.2)"
   ]
  },
  {
   "cell_type": "code",
   "execution_count": 22,
   "metadata": {},
   "outputs": [
    {
     "data": {
      "image/png": "[encoded data removed]",
      "text/plain": [
       "<Figure size 432x288 with 1 Axes>"
      ]
     },
     "metadata": {
      "needs_background": "light"
     },
     "output_type": "display_data"
    }
   ],
   "source": [
    "ax = engagement.plot(kind='scatter', x = 'responses', y = 'engaged', alpha =.2)"
   ]
  },
  {
   "cell_type": "code",
   "execution_count": 16,
   "metadata": {},
   "outputs": [
    {
     "data": {
      "image/png": "[encoded data removed]",
      "text/plain": [
       "<Figure size 432x288 with 1 Axes>"
      ]
     },
     "metadata": {
      "needs_background": "light"
     },
     "output_type": "display_data"
    }
   ],
   "source": [
    "ax = engagement.plot(kind='scatter', x = 'is_responder', y = 'engaged', alpha =.2)"
   ]
  },
  {
   "cell_type": "code",
   "execution_count": 17,
   "metadata": {},
   "outputs": [
    {
     "data": {
      "image/png": "[encoded data removed]",
      "text/plain": [
       "<Figure size 432x288 with 1 Axes>"
      ]
     },
     "metadata": {
      "needs_background": "light"
     },
     "output_type": "display_data"
    }
   ],
   "source": [
    "ax = engagement.plot(kind='scatter', x = 'is_recent_responder', y = 'engaged', alpha =.2)"
   ]
  },
  {
   "cell_type": "markdown",
   "metadata": {},
   "source": [
    "As expected, scatter plots not showing a whole lot on the binary features. Responses and recent_responses map better as aren't binary values so may be worth investigating probability. However the scatter for is_responder does indicate that no engagement was made by people who weren't responders ... over a dataset of this size seems to be a strong conclusion that non responders are not a valuable mailing segment"
   ]
  },
  {
   "cell_type": "code",
   "execution_count": 18,
   "metadata": {},
   "outputs": [
    {
     "data": {
      "image/png": "[encoded data removed]",
      "text/plain": [
       "<Figure size 1296x216 with 6 Axes>"
      ]
     },
     "metadata": {
      "needs_background": "light"
     },
     "output_type": "display_data"
    }
   ],
   "source": [
    "fig, (ax0, ax1, ax2, ax3, ax4, ax5) = plt.subplots(1, 6, sharey=True, figsize=(18, 3))\n",
    "\n",
    "engagement.plot(kind='scatter', x='is_academic_email', y='engaged', ax=ax0)\n",
    "engagement.plot(kind='scatter', x='is_china_recipient', y='engaged', ax=ax1)\n",
    "engagement.plot(kind='scatter', x='is_submitter_subject', y='engaged', ax=ax2)\n",
    "engagement.plot(kind='scatter', x='is_submitter_discipline', y='engaged', ax=ax3)\n",
    "engagement.plot(kind='scatter', x='is_submitter_recent_subject', y='engaged', ax=ax4)\n",
    "engagement.plot(kind='scatter', x='is_submitter_recent_discipline', y='engaged', ax=ax5);"
   ]
  },
  {
   "cell_type": "markdown",
   "metadata": {},
   "source": [
    "Testing through the other positively correlated binary features, all others have the four-dot pattern (lending credence to signficance of is_responder = 0 as a feature of non-engagement)"
   ]
  },
  {
   "cell_type": "markdown",
   "metadata": {},
   "source": [
    "### Logistic Regression"
   ]
  },
  {
   "cell_type": "code",
   "execution_count": 19,
   "metadata": {},
   "outputs": [
    {
     "data": {
      "text/html": [
       "<div>\n",
       "<style scoped>\n",
       "    .dataframe tbody tr th:only-of-type {\n",
       "        vertical-align: middle;\n",
       "    }\n",
       "\n",
       "    .dataframe tbody tr th {\n",
       "        vertical-align: top;\n",
       "    }\n",
       "\n",
       "    .dataframe thead th {\n",
       "        text-align: right;\n",
       "    }\n",
       "</style>\n",
       "<table border=\"1\" class=\"dataframe\">\n",
       "  <thead>\n",
       "    <tr style=\"text-align: right;\">\n",
       "      <th></th>\n",
       "      <th>month</th>\n",
       "      <th>is_academic_email</th>\n",
       "      <th>is_china_recipient</th>\n",
       "      <th>is_responder</th>\n",
       "      <th>responses</th>\n",
       "      <th>is_recent_responder</th>\n",
       "      <th>recent_responses</th>\n",
       "      <th>is_submitter_subject</th>\n",
       "      <th>is_submitter_discipline</th>\n",
       "      <th>is_submitter_recent_subject</th>\n",
       "      <th>is_submitter_recent_discipline</th>\n",
       "      <th>has_subject_code_match</th>\n",
       "      <th>has_discipline_code_match</th>\n",
       "      <th>engaged</th>\n",
       "    </tr>\n",
       "  </thead>\n",
       "  <tbody>\n",
       "    <tr>\n",
       "      <th>0</th>\n",
       "      <td>1</td>\n",
       "      <td>1</td>\n",
       "      <td>0</td>\n",
       "      <td>1</td>\n",
       "      <td>20</td>\n",
       "      <td>0</td>\n",
       "      <td>0</td>\n",
       "      <td>0</td>\n",
       "      <td>0</td>\n",
       "      <td>0</td>\n",
       "      <td>0</td>\n",
       "      <td>0</td>\n",
       "      <td>0</td>\n",
       "      <td>0</td>\n",
       "    </tr>\n",
       "    <tr>\n",
       "      <th>1</th>\n",
       "      <td>1</td>\n",
       "      <td>1</td>\n",
       "      <td>0</td>\n",
       "      <td>1</td>\n",
       "      <td>2</td>\n",
       "      <td>0</td>\n",
       "      <td>0</td>\n",
       "      <td>0</td>\n",
       "      <td>0</td>\n",
       "      <td>0</td>\n",
       "      <td>0</td>\n",
       "      <td>0</td>\n",
       "      <td>1</td>\n",
       "      <td>0</td>\n",
       "    </tr>\n",
       "    <tr>\n",
       "      <th>2</th>\n",
       "      <td>1</td>\n",
       "      <td>0</td>\n",
       "      <td>1</td>\n",
       "      <td>1</td>\n",
       "      <td>4</td>\n",
       "      <td>1</td>\n",
       "      <td>1</td>\n",
       "      <td>1</td>\n",
       "      <td>1</td>\n",
       "      <td>0</td>\n",
       "      <td>0</td>\n",
       "      <td>1</td>\n",
       "      <td>1</td>\n",
       "      <td>0</td>\n",
       "    </tr>\n",
       "    <tr>\n",
       "      <th>3</th>\n",
       "      <td>1</td>\n",
       "      <td>1</td>\n",
       "      <td>0</td>\n",
       "      <td>1</td>\n",
       "      <td>1</td>\n",
       "      <td>0</td>\n",
       "      <td>0</td>\n",
       "      <td>0</td>\n",
       "      <td>0</td>\n",
       "      <td>0</td>\n",
       "      <td>0</td>\n",
       "      <td>0</td>\n",
       "      <td>0</td>\n",
       "      <td>1</td>\n",
       "    </tr>\n",
       "    <tr>\n",
       "      <th>4</th>\n",
       "      <td>1</td>\n",
       "      <td>0</td>\n",
       "      <td>0</td>\n",
       "      <td>0</td>\n",
       "      <td>0</td>\n",
       "      <td>0</td>\n",
       "      <td>0</td>\n",
       "      <td>0</td>\n",
       "      <td>1</td>\n",
       "      <td>0</td>\n",
       "      <td>1</td>\n",
       "      <td>0</td>\n",
       "      <td>1</td>\n",
       "      <td>0</td>\n",
       "    </tr>\n",
       "  </tbody>\n",
       "</table>\n",
       "</div>"
      ],
      "text/plain": [
       "   month  is_academic_email  is_china_recipient  is_responder  responses  \\\n",
       "0      1                  1                   0             1         20   \n",
       "1      1                  1                   0             1          2   \n",
       "2      1                  0                   1             1          4   \n",
       "3      1                  1                   0             1          1   \n",
       "4      1                  0                   0             0          0   \n",
       "\n",
       "   is_recent_responder  recent_responses  is_submitter_subject  \\\n",
       "0                    0                 0                     0   \n",
       "1                    0                 0                     0   \n",
       "2                    1                 1                     1   \n",
       "3                    0                 0                     0   \n",
       "4                    0                 0                     0   \n",
       "\n",
       "   is_submitter_discipline  is_submitter_recent_subject  \\\n",
       "0                        0                            0   \n",
       "1                        0                            0   \n",
       "2                        1                            0   \n",
       "3                        0                            0   \n",
       "4                        1                            0   \n",
       "\n",
       "   is_submitter_recent_discipline  has_subject_code_match  \\\n",
       "0                               0                       0   \n",
       "1                               0                       0   \n",
       "2                               0                       1   \n",
       "3                               0                       0   \n",
       "4                               1                       0   \n",
       "\n",
       "   has_discipline_code_match  engaged  \n",
       "0                          0        0  \n",
       "1                          1        0  \n",
       "2                          1        0  \n",
       "3                          0        1  \n",
       "4                          1        0  "
      ]
     },
     "execution_count": 19,
     "metadata": {},
     "output_type": "execute_result"
    }
   ],
   "source": [
    "engagement_lr = engagement.drop(['cellcode', 'product_discipline'], axis='columns')\n",
    "engagement_lr.head(5)"
   ]
  },
  {
   "cell_type": "code",
   "execution_count": 20,
   "metadata": {},
   "outputs": [
    {
     "name": "stderr",
     "output_type": "stream",
     "text": [
      "C:\\Users\\WTabraham\\AppData\\Local\\Continuum\\anaconda3\\lib\\site-packages\\sklearn\\linear_model\\logistic.py:433: FutureWarning: Default solver will be changed to 'lbfgs' in 0.22. Specify a solver to silence this warning.\n",
      "  FutureWarning)\n"
     ]
    },
    {
     "data": {
      "text/plain": [
       "0.8361715613775618"
      ]
     },
     "execution_count": 20,
     "metadata": {},
     "output_type": "execute_result"
    }
   ],
   "source": [
    "from sklearn.linear_model import LogisticRegression\n",
    "from sklearn.model_selection import train_test_split\n",
    "\n",
    "target_col = 'engaged'\n",
    "\n",
    "X = engagement_lr.drop(target_col, axis='columns')\n",
    "y = engagement_lr.loc[:, target_col]\n",
    "\n",
    "X_train, X_test, y_train, y_test = train_test_split(X,y)\n",
    "\n",
    "lr = LogisticRegression()\n",
    "\n",
    "lr.fit(X_train, y_train)\n",
    "lr.score(X_test, y_test)"
   ]
  },
  {
   "cell_type": "code",
   "execution_count": 21,
   "metadata": {},
   "outputs": [
    {
     "data": {
      "text/plain": [
       "0    0.804556\n",
       "1    0.195444\n",
       "Name: engaged, dtype: float64"
      ]
     },
     "execution_count": 21,
     "metadata": {},
     "output_type": "execute_result"
    }
   ],
   "source": [
    "y.value_counts(normalize=True)"
   ]
  },
  {
   "cell_type": "markdown",
   "metadata": {},
   "source": [
    "Model is showing 83-84% against 80% actual so there is some signal from the features"
   ]
  },
  {
   "cell_type": "markdown",
   "metadata": {},
   "source": [
    "### Logistic Regression on two features"
   ]
  },
  {
   "cell_type": "code",
   "execution_count": 22,
   "metadata": {},
   "outputs": [
    {
     "name": "stderr",
     "output_type": "stream",
     "text": [
      "C:\\Users\\WTabraham\\AppData\\Local\\Continuum\\anaconda3\\lib\\site-packages\\sklearn\\linear_model\\logistic.py:433: FutureWarning: Default solver will be changed to 'lbfgs' in 0.22. Specify a solver to silence this warning.\n",
      "  FutureWarning)\n"
     ]
    },
    {
     "data": {
      "text/plain": [
       "0.8346714557363195"
      ]
     },
     "execution_count": 22,
     "metadata": {},
     "output_type": "execute_result"
    }
   ],
   "source": [
    "feature_cols = ['responses', 'recent_responses']\n",
    "target_col = 'engaged'\n",
    "\n",
    "X = engagement_lr.loc[:, feature_cols]\n",
    "y = engagement_lr.loc[:, target_col]\n",
    "\n",
    "X_train, X_test, y_train, y_test = train_test_split(X,y)\n",
    "\n",
    "lr2 = LogisticRegression()\n",
    "lr2.fit(X_train, y_train)\n",
    "lr2.score(X_test, y_test)"
   ]
  },
  {
   "cell_type": "code",
   "execution_count": 23,
   "metadata": {},
   "outputs": [
    {
     "data": {
      "image/png": "[encoded data removed]",
      "text/plain": [
       "<Figure size 432x288 with 1 Axes>"
      ]
     },
     "metadata": {
      "needs_background": "light"
     },
     "output_type": "display_data"
    }
   ],
   "source": [
    "coefs = lr2.coef_[0]\n",
    "intercept = lr2.intercept_\n",
    "\n",
    "x_values = np.array([X.loc[:, 'responses'].min(), X.loc[:, 'recent_responses'].max()])\n",
    "y_values = (-1./coefs[1]) * (coefs[0] * x_values + intercept)\n",
    "colors = np.where(y == 0, 'r', 'b')\n",
    "\n",
    "ax = X.plot(kind='scatter', x='responses', y='recent_responses', color=colors, alpha=.2)\n",
    "ax.plot(x_values, y_values, label='Decision Boundary')\n",
    "plt.show()"
   ]
  },
  {
   "cell_type": "markdown",
   "metadata": {},
   "source": [
    "This seems to be defining a conjoined boundary of response and recent responses above which engagement is more probable (though not sure beyond that how it should be interpreted)"
   ]
  },
  {
   "cell_type": "markdown",
   "metadata": {},
   "source": [
    "### Predict probability for responses and recent_responses"
   ]
  },
  {
   "cell_type": "code",
   "execution_count": 24,
   "metadata": {},
   "outputs": [
    {
     "name": "stderr",
     "output_type": "stream",
     "text": [
      "C:\\Users\\WTabraham\\AppData\\Local\\Continuum\\anaconda3\\lib\\site-packages\\sklearn\\linear_model\\logistic.py:433: FutureWarning: Default solver will be changed to 'lbfgs' in 0.22. Specify a solver to silence this warning.\n",
      "  FutureWarning)\n"
     ]
    },
    {
     "data": {
      "text/plain": [
       "0.8204098880202831"
      ]
     },
     "execution_count": 24,
     "metadata": {},
     "output_type": "execute_result"
    }
   ],
   "source": [
    "from sklearn.linear_model import LogisticRegression\n",
    "from sklearn.model_selection import train_test_split\n",
    "\n",
    "feature_cols = ['responses']\n",
    "target_col = 'engaged'\n",
    "\n",
    "X = engagement_lr.loc[:, feature_cols]\n",
    "y = engagement_lr.loc[:, target_col]\n",
    "\n",
    "X_train, X_test, y_train, y_test = train_test_split(X,y)\n",
    "\n",
    "lr_r = LogisticRegression()\n",
    "\n",
    "lr_r.fit(X_train, y_train)\n",
    "lr_r.score(X_test, y_test)\n"
   ]
  },
  {
   "cell_type": "code",
   "execution_count": 25,
   "metadata": {},
   "outputs": [],
   "source": [
    "y_pred_prob = lr_r.predict_proba(X_test)"
   ]
  },
  {
   "cell_type": "code",
   "execution_count": 26,
   "metadata": {},
   "outputs": [
    {
     "data": {
      "image/png": "[encoded data removed]",
      "text/plain": [
       "<Figure size 432x288 with 1 Axes>"
      ]
     },
     "metadata": {
      "needs_background": "light"
     },
     "output_type": "display_data"
    }
   ],
   "source": [
    "x_grid = np.linspace(start=engagement_lr.loc[:, 'responses'].min(), stop=engagement_lr.loc[:, 'responses'].max(), num=100)\n",
    "pred_probs = lr_r.predict_proba(x_grid.reshape(-1, 1))[:, 1]\n",
    "preds = lr_r.predict(x_grid.reshape(-1, 1))\n",
    "ax = engagement_lr.plot(kind='scatter', x='responses', y='engaged', alpha=.2)\n",
    "ax.plot(x_grid, pred_probs, c='r')\n",
    "ax.plot(x_grid, preds, c='g');"
   ]
  },
  {
   "cell_type": "code",
   "execution_count": 27,
   "metadata": {},
   "outputs": [
    {
     "name": "stderr",
     "output_type": "stream",
     "text": [
      "C:\\Users\\WTabraham\\AppData\\Local\\Continuum\\anaconda3\\lib\\site-packages\\sklearn\\linear_model\\logistic.py:433: FutureWarning: Default solver will be changed to 'lbfgs' in 0.22. Specify a solver to silence this warning.\n",
      "  FutureWarning)\n"
     ]
    },
    {
     "data": {
      "text/plain": [
       "0.831903655186985"
      ]
     },
     "execution_count": 27,
     "metadata": {},
     "output_type": "execute_result"
    }
   ],
   "source": [
    "from sklearn.linear_model import LogisticRegression\n",
    "from sklearn.model_selection import train_test_split\n",
    "\n",
    "feature_cols = ['recent_responses']\n",
    "target_col = 'engaged'\n",
    "\n",
    "X = engagement_lr.loc[:, feature_cols]\n",
    "y = engagement_lr.loc[:, target_col]\n",
    "\n",
    "X_train, X_test, y_train, y_test = train_test_split(X,y)\n",
    "\n",
    "lr_rr = LogisticRegression()\n",
    "\n",
    "lr_rr.fit(X_train, y_train)\n",
    "lr_rr.score(X_test, y_test)"
   ]
  },
  {
   "cell_type": "code",
   "execution_count": 28,
   "metadata": {},
   "outputs": [],
   "source": [
    "y_pred_prob = lr_rr.predict_proba(X_test)"
   ]
  },
  {
   "cell_type": "code",
   "execution_count": 29,
   "metadata": {},
   "outputs": [
    {
     "data": {
      "image/png": "[encoded data removed]",
      "text/plain": [
       "<Figure size 432x288 with 1 Axes>"
      ]
     },
     "metadata": {
      "needs_background": "light"
     },
     "output_type": "display_data"
    }
   ],
   "source": [
    "x_grid = np.linspace(start=engagement_lr.loc[:, 'recent_responses'].min(), stop=engagement_lr.loc[:, 'recent_responses'].max(), num=100)\n",
    "pred_probs = lr_rr.predict_proba(x_grid.reshape(-1, 1))[:, 1]\n",
    "preds = lr_rr.predict(x_grid.reshape(-1, 1))\n",
    "ax = engagement_lr.plot(kind='scatter', x='recent_responses', y='engaged', alpha=.02)\n",
    "ax.plot(x_grid, pred_probs, c='r')\n",
    "ax.plot(x_grid, preds, c='g');"
   ]
  },
  {
   "cell_type": "markdown",
   "metadata": {},
   "source": [
    "Seems that approximately 10 recent responses indicate a >50% chance of engagement, likewise c. 66 total prior responses indicate a > 50% chance of engagement"
   ]
  },
  {
   "cell_type": "markdown",
   "metadata": {},
   "source": [
    "### Test accuracy, recall and precision of recent_responses"
   ]
  },
  {
   "cell_type": "code",
   "execution_count": 30,
   "metadata": {},
   "outputs": [
    {
     "data": {
      "text/plain": [
       "array([[36797,  1267],\n",
       "       [ 6689,  2577]], dtype=int64)"
      ]
     },
     "execution_count": 30,
     "metadata": {},
     "output_type": "execute_result"
    }
   ],
   "source": [
    "from sklearn import metrics\n",
    "\n",
    "y_pred = lr_rr.predict(X_test)\n",
    "metrics.confusion_matrix(y_test, y_pred)"
   ]
  },
  {
   "cell_type": "code",
   "execution_count": 31,
   "metadata": {},
   "outputs": [
    {
     "data": {
      "text/plain": [
       "0.831903655186985"
      ]
     },
     "execution_count": 31,
     "metadata": {},
     "output_type": "execute_result"
    }
   ],
   "source": [
    "#Accuracy\n",
    "(2577 + 36797) / (36797 + 1267 + 6689 + 2577)"
   ]
  },
  {
   "cell_type": "code",
   "execution_count": 32,
   "metadata": {},
   "outputs": [
    {
     "data": {
      "text/plain": [
       "0.6703954214360042"
      ]
     },
     "execution_count": 32,
     "metadata": {},
     "output_type": "execute_result"
    }
   ],
   "source": [
    "#Precision\n",
    "2577 / (2577 + 1267)"
   ]
  },
  {
   "cell_type": "code",
   "execution_count": 33,
   "metadata": {},
   "outputs": [
    {
     "data": {
      "text/plain": [
       "0.2781135333477229"
      ]
     },
     "execution_count": 33,
     "metadata": {},
     "output_type": "execute_result"
    }
   ],
   "source": [
    "#Recall\n",
    "2577 / (2577 + 6689)"
   ]
  },
  {
   "cell_type": "code",
   "execution_count": 34,
   "metadata": {},
   "outputs": [
    {
     "name": "stdout",
     "output_type": "stream",
     "text": [
      "precision: 0.6703954214360042\n",
      "recall: 0.2781135333477229\n"
     ]
    }
   ],
   "source": [
    "print('precision:', metrics.precision_score(y_test, y_pred))\n",
    "print('recall:', metrics.recall_score(y_test, y_pred))"
   ]
  },
  {
   "cell_type": "markdown",
   "metadata": {},
   "source": [
    "\n",
    "4. Summary\n",
    "The dataset has 517 rows with 13 attributes.\n",
    "The dataset includes both numerical and non-numerical feature variables.\n",
    "The non-numerical feature variables 'month' and 'day' can be classified as 'Catogorical-Nominal' in the contect of the planned prediction model.\n",
    "The dataset does not have any null values.\n",
    "All feature varables excluding 'RH' and 'rain' have a positive correlation whilst 'RH' and 'rain' have a negative correlation to the area of the forest fire. This can be considered a fare observation andboth 'RH' and 'rain' will limit the spread of forest fire.\n",
    "Output variable 'area' seems to contain a couple of outliers with values of over 600. These values may affect a generalised model. Hence it's sensible to exclude these outliers from the dataset\n",
    "'DC','RH','wind' and 'area' seems to be slightly more skewed compared to the rest of the variavles . These can be transformed to build an effective predictive model, skeweness of the other variables are negligeable\n",
    "Variables FFMC, DC, ISI, temp, RH, wind and rain* has a notable linear relationship to the area** of forest fire.\n",
    "No clear indication of a specific set of days where forest fires are more likely to occur\n",
    "The two Catogorical-Nominal feature variables need to be dummy coded to be used in building the predictive model\n",
    "Most normal dummy variables 'month_aug' and 'day_sun' will be dropped from dummy_codes\n",
    "'month_sept' and 'day_sat' have a notable positive correlation whilst 'month_mar', 'day_fri, and 'day_thu' have a notable negative correlation to the area of the forest fire.\n",
    "5. Conclusion\n",
    "Considering the above EDA I plan to implement a linear regression model to predict the 'area' of forest fire\n",
    "As there are a considerable amount of feature variables, series of tests will be done evaluating the MAE,MSE,RMSE etc to determined the best set of feature variable to build the model\n",
    "Considering the limited number of records for train-test split, K Fold Cross Validation will be used to evaluate the model"
   ]
  },
  {
   "cell_type": "markdown",
   "metadata": {},
   "source": [
    "## Summary\n",
    "\n",
    "- Dataset has 189,318 rows with 16 attributes, including numerical and non-numerical features, and contains no null values\n",
    "- The non numerical features 'cellcode' and 'product_discipline' could be incoporated if dummy coded or brought in as numeric variable\n",
    "- Feature variables show small correlation on academic email, stronger correlation on is_responder, is_recent_responder, is_submitter_recent_subject and is_submitter_recent_discipline, strongest correlations on responses and recent_responses, with no correlation or negligible negative correlation on remaining features\n",
    "- Scatter visualizations show some limitations of binary features, though indicate that is_responder = 0 is a feature of non-engagement\n",
    "- Probabilities mapped to scatter for the counts of responses and recent responses give provide indicative levels at which the probabaility of engagement is > 50% (c.66 and c.10 respectively)"
   ]
  },
  {
   "cell_type": "markdown",
   "metadata": {},
   "source": [
    "## Takeaways/Limitations/Things to try\n",
    "\n",
    "- While a strong indicator of non engagement, is_responder = 0 cannot function as a solely non-responsive feature (chicken and egg scenario - if only former responders respond, how did they get their first response)\n",
    "- This would seem to indicate that despite its size, this sample dataset does not capture some of the finer detail (... this could potentially be addressed by later applying a different randomized dataset to the final model)\n",
    "- Had thought binary indicators of feature variables would be preferrable to value counts of said features, but would have been better to bring value counts into the dataset and derive binary variable if required (bringing in counts still preserves the negative class, and only provides more context on the positive class)\n",
    "- May be worth bringing in campaigns received (prior and recent) as the overall dataset is a view of engagement from receipt (unsure if would show anything, but worth trying)\n",
    "- I should have mapped the non-numerical variables to numeric category or dummy coded indicators\n",
    "- If I had removed the non relevant columns in part 1 of this project, I could acquire a larger dataset. Due to file size limitations, 189k were selected as a subset for use in this model, removing non relevant columns may permit the suggested maximum of 250k rows (not certain if this is wise or not)\n",
    "- I did not assess skewness or central tendencies as assumed the largely binary features would not show a great deal (should actually assess)\n",
    "- Similarly I did not check for outliers, but with a counts based dataset this may become necessary"
   ]
  },
  {
   "cell_type": "markdown",
   "metadata": {},
   "source": [
    "## Conclusions\n",
    "\n",
    "Considering the above EDA and takeaways I plan to: \n",
    "- enhance the data going into the model (remove extraneous data for larger dataset, replace currently binary feature variables with counts)\n",
    "- dummy out non numeric variables for incorporation into the model\n",
    "- being a classification problem I will continue using the Logistic Regression model to predict the campaign engagement\n",
    "- testing of the feature variable probabilities, threshold adjustment and f beta manipulations may be used to deetermine the best set of feature variables for model building\n"
   ]
  }
 ],
 "metadata": {
  "kernelspec": {
   "display_name": "Python 3",
   "language": "python",
   "name": "python3"
  },
  "language_info": {
   "codemirror_mode": {
    "name": "ipython",
    "version": 3
   },
   "file_extension": ".py",
   "mimetype": "text/x-python",
   "name": "python",
   "nbconvert_exporter": "python",
   "pygments_lexer": "ipython3",
   "version": "3.7.1"
  }
 },
 "nbformat": 4,
 "nbformat_minor": 2
}
