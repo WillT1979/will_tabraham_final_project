{
 "cells": [
  {
   "cell_type": "markdown",
   "metadata": {},
   "source": [
    "# Final Project Part 3"
   ]
  },
  {
   "cell_type": "markdown",
   "metadata": {},
   "source": [
    "Following discoveries in part 2, I have reformatted the data being used in the model, exchanging flags for counts where possible (including the taget variable), including email received counts both prior and recent. Following advice I will also be using the full dataset of close to a million rows in the model"
   ]
  },
  {
   "cell_type": "markdown",
   "metadata": {},
   "source": [
    "## Import libraries"
   ]
  },
  {
   "cell_type": "code",
   "execution_count": 2,
   "metadata": {},
   "outputs": [],
   "source": [
    "import pandas as pd\n",
    "import matplotlib.pyplot as plt\n",
    "import numpy as np\n",
    "import seaborn as sns\n",
    "import sklearn.metrics\n",
    "from pathlib import Path\n",
    "\n",
    "%matplotlib inline"
   ]
  },
  {
   "cell_type": "markdown",
   "metadata": {},
   "source": [
    "## Import data"
   ]
  },
  {
   "cell_type": "code",
   "execution_count": 2,
   "metadata": {},
   "outputs": [],
   "source": [
    "engagement_raw = pd.read_csv('engagement_full.csv')"
   ]
  },
  {
   "cell_type": "code",
   "execution_count": 3,
   "metadata": {},
   "outputs": [
    {
     "data": {
      "text/html": [
       "<div>\n",
       "<style scoped>\n",
       "    .dataframe tbody tr th:only-of-type {\n",
       "        vertical-align: middle;\n",
       "    }\n",
       "\n",
       "    .dataframe tbody tr th {\n",
       "        vertical-align: top;\n",
       "    }\n",
       "\n",
       "    .dataframe thead th {\n",
       "        text-align: right;\n",
       "    }\n",
       "</style>\n",
       "<table border=\"1\" class=\"dataframe\">\n",
       "  <thead>\n",
       "    <tr style=\"text-align: right;\">\n",
       "      <th></th>\n",
       "      <th>email</th>\n",
       "      <th>launch_id</th>\n",
       "      <th>cellcode</th>\n",
       "      <th>date_launched</th>\n",
       "      <th>region</th>\n",
       "      <th>is_academic_email</th>\n",
       "      <th>is_china_recipient</th>\n",
       "      <th>prior_received</th>\n",
       "      <th>recent_received</th>\n",
       "      <th>prior_responses</th>\n",
       "      <th>recent_responses</th>\n",
       "      <th>prior_submissions_subject</th>\n",
       "      <th>prior_submissions_discipline</th>\n",
       "      <th>recent_submissions_subject</th>\n",
       "      <th>recent_submissions_discipline</th>\n",
       "      <th>has_precise_code_match</th>\n",
       "      <th>codes_in_discipline</th>\n",
       "      <th>engagements</th>\n",
       "      <th>engaged</th>\n",
       "    </tr>\n",
       "  </thead>\n",
       "  <tbody>\n",
       "    <tr>\n",
       "      <th>0</th>\n",
       "      <td>00008394@ufrgs.br</td>\n",
       "      <td>92170</td>\n",
       "      <td>HOUSE</td>\n",
       "      <td>3/30/2019</td>\n",
       "      <td>UK</td>\n",
       "      <td>0</td>\n",
       "      <td>0</td>\n",
       "      <td>189</td>\n",
       "      <td>16</td>\n",
       "      <td>9</td>\n",
       "      <td>0</td>\n",
       "      <td>0</td>\n",
       "      <td>0</td>\n",
       "      <td>0</td>\n",
       "      <td>0</td>\n",
       "      <td>0</td>\n",
       "      <td>1</td>\n",
       "      <td>0</td>\n",
       "      <td>0</td>\n",
       "    </tr>\n",
       "    <tr>\n",
       "      <th>1</th>\n",
       "      <td>00010389@whu.edu.cn</td>\n",
       "      <td>92170</td>\n",
       "      <td>HOUSE</td>\n",
       "      <td>3/30/2019</td>\n",
       "      <td>APAC</td>\n",
       "      <td>1</td>\n",
       "      <td>1</td>\n",
       "      <td>6</td>\n",
       "      <td>7</td>\n",
       "      <td>0</td>\n",
       "      <td>0</td>\n",
       "      <td>0</td>\n",
       "      <td>0</td>\n",
       "      <td>0</td>\n",
       "      <td>0</td>\n",
       "      <td>0</td>\n",
       "      <td>1</td>\n",
       "      <td>0</td>\n",
       "      <td>0</td>\n",
       "    </tr>\n",
       "    <tr>\n",
       "      <th>2</th>\n",
       "      <td>000903@nuist.edu.cn</td>\n",
       "      <td>92170</td>\n",
       "      <td>HOUSE</td>\n",
       "      <td>3/30/2019</td>\n",
       "      <td>APAC</td>\n",
       "      <td>1</td>\n",
       "      <td>1</td>\n",
       "      <td>2</td>\n",
       "      <td>3</td>\n",
       "      <td>0</td>\n",
       "      <td>0</td>\n",
       "      <td>0</td>\n",
       "      <td>2</td>\n",
       "      <td>0</td>\n",
       "      <td>2</td>\n",
       "      <td>0</td>\n",
       "      <td>1</td>\n",
       "      <td>0</td>\n",
       "      <td>0</td>\n",
       "    </tr>\n",
       "    <tr>\n",
       "      <th>3</th>\n",
       "      <td>001_xiangyang@tongji.edu.cn</td>\n",
       "      <td>92170</td>\n",
       "      <td>HOUSE</td>\n",
       "      <td>3/30/2019</td>\n",
       "      <td>APAC</td>\n",
       "      <td>1</td>\n",
       "      <td>1</td>\n",
       "      <td>155</td>\n",
       "      <td>23</td>\n",
       "      <td>15</td>\n",
       "      <td>0</td>\n",
       "      <td>0</td>\n",
       "      <td>3</td>\n",
       "      <td>0</td>\n",
       "      <td>0</td>\n",
       "      <td>0</td>\n",
       "      <td>1</td>\n",
       "      <td>0</td>\n",
       "      <td>0</td>\n",
       "    </tr>\n",
       "    <tr>\n",
       "      <th>4</th>\n",
       "      <td>006579@yzu.edu.cn</td>\n",
       "      <td>92170</td>\n",
       "      <td>ST</td>\n",
       "      <td>3/30/2019</td>\n",
       "      <td>APAC</td>\n",
       "      <td>1</td>\n",
       "      <td>1</td>\n",
       "      <td>75</td>\n",
       "      <td>36</td>\n",
       "      <td>69</td>\n",
       "      <td>30</td>\n",
       "      <td>0</td>\n",
       "      <td>3</td>\n",
       "      <td>0</td>\n",
       "      <td>0</td>\n",
       "      <td>0</td>\n",
       "      <td>1</td>\n",
       "      <td>0</td>\n",
       "      <td>0</td>\n",
       "    </tr>\n",
       "  </tbody>\n",
       "</table>\n",
       "</div>"
      ],
      "text/plain": [
       "                         email  launch_id cellcode date_launched region  \\\n",
       "0            00008394@ufrgs.br      92170    HOUSE     3/30/2019     UK   \n",
       "1          00010389@whu.edu.cn      92170    HOUSE     3/30/2019   APAC   \n",
       "2          000903@nuist.edu.cn      92170    HOUSE     3/30/2019   APAC   \n",
       "3  001_xiangyang@tongji.edu.cn      92170    HOUSE     3/30/2019   APAC   \n",
       "4            006579@yzu.edu.cn      92170       ST     3/30/2019   APAC   \n",
       "\n",
       "   is_academic_email  is_china_recipient  prior_received  recent_received  \\\n",
       "0                  0                   0             189               16   \n",
       "1                  1                   1               6                7   \n",
       "2                  1                   1               2                3   \n",
       "3                  1                   1             155               23   \n",
       "4                  1                   1              75               36   \n",
       "\n",
       "   prior_responses  recent_responses  prior_submissions_subject  \\\n",
       "0                9                 0                          0   \n",
       "1                0                 0                          0   \n",
       "2                0                 0                          0   \n",
       "3               15                 0                          0   \n",
       "4               69                30                          0   \n",
       "\n",
       "   prior_submissions_discipline  recent_submissions_subject  \\\n",
       "0                             0                           0   \n",
       "1                             0                           0   \n",
       "2                             2                           0   \n",
       "3                             3                           0   \n",
       "4                             3                           0   \n",
       "\n",
       "   recent_submissions_discipline  has_precise_code_match  codes_in_discipline  \\\n",
       "0                              0                       0                    1   \n",
       "1                              0                       0                    1   \n",
       "2                              2                       0                    1   \n",
       "3                              0                       0                    1   \n",
       "4                              0                       0                    1   \n",
       "\n",
       "   engagements  engaged  \n",
       "0            0        0  \n",
       "1            0        0  \n",
       "2            0        0  \n",
       "3            0        0  \n",
       "4            0        0  "
      ]
     },
     "execution_count": 3,
     "metadata": {},
     "output_type": "execute_result"
    }
   ],
   "source": [
    "engagement_raw.head(5)"
   ]
  },
  {
   "cell_type": "markdown",
   "metadata": {},
   "source": [
    "### Check target variables"
   ]
  },
  {
   "cell_type": "code",
   "execution_count": 4,
   "metadata": {},
   "outputs": [
    {
     "data": {
      "text/plain": [
       "0     732687\n",
       "1     187780\n",
       "2       8946\n",
       "3       1170\n",
       "4        324\n",
       "8        297\n",
       "9        269\n",
       "10       249\n",
       "7        203\n",
       "6        154\n",
       "5        154\n",
       "11       144\n",
       "12        67\n",
       "13        16\n",
       "14         9\n",
       "16         2\n",
       "Name: engagements, dtype: int64"
      ]
     },
     "execution_count": 4,
     "metadata": {},
     "output_type": "execute_result"
    }
   ],
   "source": [
    "engagement_raw.loc[:, 'engagements'].value_counts()"
   ]
  },
  {
   "cell_type": "markdown",
   "metadata": {},
   "source": [
    "Having brought in the number of engagements for a given campaign rather than simply whether there was engagement, it seems as though 95% of engagers have a single engagement, so it may be that the small proportion of those with multiple engagements could cause noise. I will separate the data into two sets, one using engagements, one using engaged, to determine which will perform better"
   ]
  },
  {
   "cell_type": "markdown",
   "metadata": {},
   "source": [
    "   ### Create Datasets"
   ]
  },
  {
   "cell_type": "code",
   "execution_count": 5,
   "metadata": {},
   "outputs": [],
   "source": [
    "engagements = engagement_raw.drop(['email','launch_id', 'date_launched', 'engaged'], axis='columns')"
   ]
  },
  {
   "cell_type": "code",
   "execution_count": 3,
   "metadata": {},
   "outputs": [],
   "source": [
    "engaged = engagement_raw.drop(['email','launch_id', 'date_launched', 'engagements'], axis='columns')"
   ]
  },
  {
   "cell_type": "markdown",
   "metadata": {},
   "source": [
    "## Explore data"
   ]
  },
  {
   "cell_type": "code",
   "execution_count": 8,
   "metadata": {},
   "outputs": [
    {
     "data": {
      "text/plain": [
       "(932471, 15)"
      ]
     },
     "execution_count": 8,
     "metadata": {},
     "output_type": "execute_result"
    }
   ],
   "source": [
    "engaged.shape"
   ]
  },
  {
   "cell_type": "markdown",
   "metadata": {},
   "source": [
    "A total of 932,471 records and 15 attributes (14 potential features, 1 potential target variable)"
   ]
  },
  {
   "cell_type": "code",
   "execution_count": 9,
   "metadata": {},
   "outputs": [
    {
     "data": {
      "text/plain": [
       "RangeIndex(start=0, stop=932471, step=1)"
      ]
     },
     "execution_count": 9,
     "metadata": {},
     "output_type": "execute_result"
    }
   ],
   "source": [
    "engaged.index"
   ]
  },
  {
   "cell_type": "code",
   "execution_count": 11,
   "metadata": {},
   "outputs": [
    {
     "data": {
      "text/plain": [
       "Index(['cellcode', 'region', 'is_academic_email', 'is_china_recipient',\n",
       "       'prior_received', 'recent_received', 'prior_responses',\n",
       "       'recent_responses', 'prior_submissions_subject',\n",
       "       'prior_submissions_discipline', 'recent_submissions_subject',\n",
       "       'recent_submissions_discipline', 'has_precise_code_match',\n",
       "       'codes_in_discipline', 'engaged'],\n",
       "      dtype='object')"
      ]
     },
     "execution_count": 11,
     "metadata": {},
     "output_type": "execute_result"
    }
   ],
   "source": [
    "engaged.columns"
   ]
  },
  {
   "cell_type": "code",
   "execution_count": 12,
   "metadata": {},
   "outputs": [
    {
     "name": "stdout",
     "output_type": "stream",
     "text": [
      "<class 'pandas.core.frame.DataFrame'>\n",
      "RangeIndex: 932471 entries, 0 to 932470\n",
      "Data columns (total 15 columns):\n",
      "cellcode                         932471 non-null object\n",
      "region                           932471 non-null object\n",
      "is_academic_email                932471 non-null int64\n",
      "is_china_recipient               932471 non-null int64\n",
      "prior_received                   932471 non-null int64\n",
      "recent_received                  932471 non-null int64\n",
      "prior_responses                  932471 non-null int64\n",
      "recent_responses                 932471 non-null int64\n",
      "prior_submissions_subject        932471 non-null int64\n",
      "prior_submissions_discipline     932471 non-null int64\n",
      "recent_submissions_subject       932471 non-null int64\n",
      "recent_submissions_discipline    932471 non-null int64\n",
      "has_precise_code_match           932471 non-null int64\n",
      "codes_in_discipline              932471 non-null int64\n",
      "engaged                          932471 non-null int64\n",
      "dtypes: int64(13), object(2)\n",
      "memory usage: 106.7+ MB\n"
     ]
    }
   ],
   "source": [
    "engaged.info()"
   ]
  },
  {
   "cell_type": "code",
   "execution_count": 14,
   "metadata": {},
   "outputs": [
    {
     "data": {
      "text/plain": [
       "cellcode                         object\n",
       "region                           object\n",
       "is_academic_email                 int64\n",
       "is_china_recipient                int64\n",
       "prior_received                    int64\n",
       "recent_received                   int64\n",
       "prior_responses                   int64\n",
       "recent_responses                  int64\n",
       "prior_submissions_subject         int64\n",
       "prior_submissions_discipline      int64\n",
       "recent_submissions_subject        int64\n",
       "recent_submissions_discipline     int64\n",
       "has_precise_code_match            int64\n",
       "codes_in_discipline               int64\n",
       "engaged                           int64\n",
       "dtype: object"
      ]
     },
     "execution_count": 14,
     "metadata": {},
     "output_type": "execute_result"
    }
   ],
   "source": [
    "engaged.dtypes"
   ]
  },
  {
   "cell_type": "markdown",
   "metadata": {},
   "source": [
    "Cellcode and product_discipline are categorical data types and would need to be dummied/converted to numeric variables"
   ]
  },
  {
   "cell_type": "markdown",
   "metadata": {},
   "source": [
    "## Understanding the data"
   ]
  },
  {
   "cell_type": "markdown",
   "metadata": {},
   "source": [
    "### General Summary"
   ]
  },
  {
   "cell_type": "code",
   "execution_count": 15,
   "metadata": {},
   "outputs": [
    {
     "data": {
      "text/html": [
       "<div>\n",
       "<style scoped>\n",
       "    .dataframe tbody tr th:only-of-type {\n",
       "        vertical-align: middle;\n",
       "    }\n",
       "\n",
       "    .dataframe tbody tr th {\n",
       "        vertical-align: top;\n",
       "    }\n",
       "\n",
       "    .dataframe thead th {\n",
       "        text-align: right;\n",
       "    }\n",
       "</style>\n",
       "<table border=\"1\" class=\"dataframe\">\n",
       "  <thead>\n",
       "    <tr style=\"text-align: right;\">\n",
       "      <th></th>\n",
       "      <th>cellcode</th>\n",
       "      <th>region</th>\n",
       "      <th>is_academic_email</th>\n",
       "      <th>is_china_recipient</th>\n",
       "      <th>prior_received</th>\n",
       "      <th>recent_received</th>\n",
       "      <th>prior_responses</th>\n",
       "      <th>recent_responses</th>\n",
       "      <th>prior_submissions_subject</th>\n",
       "      <th>prior_submissions_discipline</th>\n",
       "      <th>recent_submissions_subject</th>\n",
       "      <th>recent_submissions_discipline</th>\n",
       "      <th>has_precise_code_match</th>\n",
       "      <th>codes_in_discipline</th>\n",
       "      <th>engaged</th>\n",
       "    </tr>\n",
       "  </thead>\n",
       "  <tbody>\n",
       "    <tr>\n",
       "      <th>0</th>\n",
       "      <td>HOUSE</td>\n",
       "      <td>UK</td>\n",
       "      <td>0</td>\n",
       "      <td>0</td>\n",
       "      <td>189</td>\n",
       "      <td>16</td>\n",
       "      <td>9</td>\n",
       "      <td>0</td>\n",
       "      <td>0</td>\n",
       "      <td>0</td>\n",
       "      <td>0</td>\n",
       "      <td>0</td>\n",
       "      <td>0</td>\n",
       "      <td>1</td>\n",
       "      <td>0</td>\n",
       "    </tr>\n",
       "    <tr>\n",
       "      <th>1</th>\n",
       "      <td>HOUSE</td>\n",
       "      <td>APAC</td>\n",
       "      <td>1</td>\n",
       "      <td>1</td>\n",
       "      <td>6</td>\n",
       "      <td>7</td>\n",
       "      <td>0</td>\n",
       "      <td>0</td>\n",
       "      <td>0</td>\n",
       "      <td>0</td>\n",
       "      <td>0</td>\n",
       "      <td>0</td>\n",
       "      <td>0</td>\n",
       "      <td>1</td>\n",
       "      <td>0</td>\n",
       "    </tr>\n",
       "    <tr>\n",
       "      <th>2</th>\n",
       "      <td>HOUSE</td>\n",
       "      <td>APAC</td>\n",
       "      <td>1</td>\n",
       "      <td>1</td>\n",
       "      <td>2</td>\n",
       "      <td>3</td>\n",
       "      <td>0</td>\n",
       "      <td>0</td>\n",
       "      <td>0</td>\n",
       "      <td>2</td>\n",
       "      <td>0</td>\n",
       "      <td>2</td>\n",
       "      <td>0</td>\n",
       "      <td>1</td>\n",
       "      <td>0</td>\n",
       "    </tr>\n",
       "    <tr>\n",
       "      <th>3</th>\n",
       "      <td>HOUSE</td>\n",
       "      <td>APAC</td>\n",
       "      <td>1</td>\n",
       "      <td>1</td>\n",
       "      <td>155</td>\n",
       "      <td>23</td>\n",
       "      <td>15</td>\n",
       "      <td>0</td>\n",
       "      <td>0</td>\n",
       "      <td>3</td>\n",
       "      <td>0</td>\n",
       "      <td>0</td>\n",
       "      <td>0</td>\n",
       "      <td>1</td>\n",
       "      <td>0</td>\n",
       "    </tr>\n",
       "    <tr>\n",
       "      <th>4</th>\n",
       "      <td>ST</td>\n",
       "      <td>APAC</td>\n",
       "      <td>1</td>\n",
       "      <td>1</td>\n",
       "      <td>75</td>\n",
       "      <td>36</td>\n",
       "      <td>69</td>\n",
       "      <td>30</td>\n",
       "      <td>0</td>\n",
       "      <td>3</td>\n",
       "      <td>0</td>\n",
       "      <td>0</td>\n",
       "      <td>0</td>\n",
       "      <td>1</td>\n",
       "      <td>0</td>\n",
       "    </tr>\n",
       "  </tbody>\n",
       "</table>\n",
       "</div>"
      ],
      "text/plain": [
       "  cellcode region  is_academic_email  is_china_recipient  prior_received  \\\n",
       "0    HOUSE     UK                  0                   0             189   \n",
       "1    HOUSE   APAC                  1                   1               6   \n",
       "2    HOUSE   APAC                  1                   1               2   \n",
       "3    HOUSE   APAC                  1                   1             155   \n",
       "4       ST   APAC                  1                   1              75   \n",
       "\n",
       "   recent_received  prior_responses  recent_responses  \\\n",
       "0               16                9                 0   \n",
       "1                7                0                 0   \n",
       "2                3                0                 0   \n",
       "3               23               15                 0   \n",
       "4               36               69                30   \n",
       "\n",
       "   prior_submissions_subject  prior_submissions_discipline  \\\n",
       "0                          0                             0   \n",
       "1                          0                             0   \n",
       "2                          0                             2   \n",
       "3                          0                             3   \n",
       "4                          0                             3   \n",
       "\n",
       "   recent_submissions_subject  recent_submissions_discipline  \\\n",
       "0                           0                              0   \n",
       "1                           0                              0   \n",
       "2                           0                              2   \n",
       "3                           0                              0   \n",
       "4                           0                              0   \n",
       "\n",
       "   has_precise_code_match  codes_in_discipline  engaged  \n",
       "0                       0                    1        0  \n",
       "1                       0                    1        0  \n",
       "2                       0                    1        0  \n",
       "3                       0                    1        0  \n",
       "4                       0                    1        0  "
      ]
     },
     "execution_count": 15,
     "metadata": {},
     "output_type": "execute_result"
    }
   ],
   "source": [
    "engaged.head(5)"
   ]
  },
  {
   "cell_type": "code",
   "execution_count": 16,
   "metadata": {},
   "outputs": [
    {
     "data": {
      "text/html": [
       "<div>\n",
       "<style scoped>\n",
       "    .dataframe tbody tr th:only-of-type {\n",
       "        vertical-align: middle;\n",
       "    }\n",
       "\n",
       "    .dataframe tbody tr th {\n",
       "        vertical-align: top;\n",
       "    }\n",
       "\n",
       "    .dataframe thead th {\n",
       "        text-align: right;\n",
       "    }\n",
       "</style>\n",
       "<table border=\"1\" class=\"dataframe\">\n",
       "  <thead>\n",
       "    <tr style=\"text-align: right;\">\n",
       "      <th></th>\n",
       "      <th>cellcode</th>\n",
       "      <th>region</th>\n",
       "      <th>is_academic_email</th>\n",
       "      <th>is_china_recipient</th>\n",
       "      <th>prior_received</th>\n",
       "      <th>recent_received</th>\n",
       "      <th>prior_responses</th>\n",
       "      <th>recent_responses</th>\n",
       "      <th>prior_submissions_subject</th>\n",
       "      <th>prior_submissions_discipline</th>\n",
       "      <th>recent_submissions_subject</th>\n",
       "      <th>recent_submissions_discipline</th>\n",
       "      <th>has_precise_code_match</th>\n",
       "      <th>codes_in_discipline</th>\n",
       "      <th>engaged</th>\n",
       "    </tr>\n",
       "  </thead>\n",
       "  <tbody>\n",
       "    <tr>\n",
       "      <th>932466</th>\n",
       "      <td>ST</td>\n",
       "      <td>APAC</td>\n",
       "      <td>0</td>\n",
       "      <td>1</td>\n",
       "      <td>213</td>\n",
       "      <td>46</td>\n",
       "      <td>185</td>\n",
       "      <td>43</td>\n",
       "      <td>2</td>\n",
       "      <td>5</td>\n",
       "      <td>0</td>\n",
       "      <td>3</td>\n",
       "      <td>0</td>\n",
       "      <td>4</td>\n",
       "      <td>1</td>\n",
       "    </tr>\n",
       "    <tr>\n",
       "      <th>932467</th>\n",
       "      <td>ST</td>\n",
       "      <td>APAC</td>\n",
       "      <td>0</td>\n",
       "      <td>1</td>\n",
       "      <td>248</td>\n",
       "      <td>36</td>\n",
       "      <td>14</td>\n",
       "      <td>0</td>\n",
       "      <td>0</td>\n",
       "      <td>1</td>\n",
       "      <td>0</td>\n",
       "      <td>0</td>\n",
       "      <td>0</td>\n",
       "      <td>1</td>\n",
       "      <td>0</td>\n",
       "    </tr>\n",
       "    <tr>\n",
       "      <th>932468</th>\n",
       "      <td>ST</td>\n",
       "      <td>APAC</td>\n",
       "      <td>0</td>\n",
       "      <td>1</td>\n",
       "      <td>30</td>\n",
       "      <td>15</td>\n",
       "      <td>14</td>\n",
       "      <td>3</td>\n",
       "      <td>0</td>\n",
       "      <td>1</td>\n",
       "      <td>0</td>\n",
       "      <td>0</td>\n",
       "      <td>0</td>\n",
       "      <td>0</td>\n",
       "      <td>0</td>\n",
       "    </tr>\n",
       "    <tr>\n",
       "      <th>932469</th>\n",
       "      <td>ST</td>\n",
       "      <td>APAC</td>\n",
       "      <td>0</td>\n",
       "      <td>1</td>\n",
       "      <td>154</td>\n",
       "      <td>33</td>\n",
       "      <td>41</td>\n",
       "      <td>11</td>\n",
       "      <td>2</td>\n",
       "      <td>3</td>\n",
       "      <td>1</td>\n",
       "      <td>2</td>\n",
       "      <td>0</td>\n",
       "      <td>1</td>\n",
       "      <td>0</td>\n",
       "    </tr>\n",
       "    <tr>\n",
       "      <th>932470</th>\n",
       "      <td>ST</td>\n",
       "      <td>APAC</td>\n",
       "      <td>0</td>\n",
       "      <td>1</td>\n",
       "      <td>326</td>\n",
       "      <td>68</td>\n",
       "      <td>66</td>\n",
       "      <td>7</td>\n",
       "      <td>4</td>\n",
       "      <td>4</td>\n",
       "      <td>0</td>\n",
       "      <td>0</td>\n",
       "      <td>0</td>\n",
       "      <td>2</td>\n",
       "      <td>0</td>\n",
       "    </tr>\n",
       "  </tbody>\n",
       "</table>\n",
       "</div>"
      ],
      "text/plain": [
       "       cellcode region  is_academic_email  is_china_recipient  prior_received  \\\n",
       "932466       ST   APAC                  0                   1             213   \n",
       "932467       ST   APAC                  0                   1             248   \n",
       "932468       ST   APAC                  0                   1              30   \n",
       "932469       ST   APAC                  0                   1             154   \n",
       "932470       ST   APAC                  0                   1             326   \n",
       "\n",
       "        recent_received  prior_responses  recent_responses  \\\n",
       "932466               46              185                43   \n",
       "932467               36               14                 0   \n",
       "932468               15               14                 3   \n",
       "932469               33               41                11   \n",
       "932470               68               66                 7   \n",
       "\n",
       "        prior_submissions_subject  prior_submissions_discipline  \\\n",
       "932466                          2                             5   \n",
       "932467                          0                             1   \n",
       "932468                          0                             1   \n",
       "932469                          2                             3   \n",
       "932470                          4                             4   \n",
       "\n",
       "        recent_submissions_subject  recent_submissions_discipline  \\\n",
       "932466                           0                              3   \n",
       "932467                           0                              0   \n",
       "932468                           0                              0   \n",
       "932469                           1                              2   \n",
       "932470                           0                              0   \n",
       "\n",
       "        has_precise_code_match  codes_in_discipline  engaged  \n",
       "932466                       0                    4        1  \n",
       "932467                       0                    1        0  \n",
       "932468                       0                    0        0  \n",
       "932469                       0                    1        0  \n",
       "932470                       0                    2        0  "
      ]
     },
     "execution_count": 16,
     "metadata": {},
     "output_type": "execute_result"
    }
   ],
   "source": [
    "engaged.tail(5)"
   ]
  },
  {
   "cell_type": "code",
   "execution_count": 17,
   "metadata": {},
   "outputs": [
    {
     "data": {
      "text/plain": [
       "cellcode                         0\n",
       "region                           0\n",
       "is_academic_email                0\n",
       "is_china_recipient               0\n",
       "prior_received                   0\n",
       "recent_received                  0\n",
       "prior_responses                  0\n",
       "recent_responses                 0\n",
       "prior_submissions_subject        0\n",
       "prior_submissions_discipline     0\n",
       "recent_submissions_subject       0\n",
       "recent_submissions_discipline    0\n",
       "has_precise_code_match           0\n",
       "codes_in_discipline              0\n",
       "engaged                          0\n",
       "dtype: int64"
      ]
     },
     "execution_count": 17,
     "metadata": {},
     "output_type": "execute_result"
    }
   ],
   "source": [
    "engaged.isnull().sum()"
   ]
  },
  {
   "cell_type": "code",
   "execution_count": 18,
   "metadata": {},
   "outputs": [
    {
     "data": {
      "text/html": [
       "<div>\n",
       "<style scoped>\n",
       "    .dataframe tbody tr th:only-of-type {\n",
       "        vertical-align: middle;\n",
       "    }\n",
       "\n",
       "    .dataframe tbody tr th {\n",
       "        vertical-align: top;\n",
       "    }\n",
       "\n",
       "    .dataframe thead th {\n",
       "        text-align: right;\n",
       "    }\n",
       "</style>\n",
       "<table border=\"1\" class=\"dataframe\">\n",
       "  <thead>\n",
       "    <tr style=\"text-align: right;\">\n",
       "      <th></th>\n",
       "      <th>is_academic_email</th>\n",
       "      <th>is_china_recipient</th>\n",
       "      <th>prior_received</th>\n",
       "      <th>recent_received</th>\n",
       "      <th>prior_responses</th>\n",
       "      <th>recent_responses</th>\n",
       "      <th>prior_submissions_subject</th>\n",
       "      <th>prior_submissions_discipline</th>\n",
       "      <th>recent_submissions_subject</th>\n",
       "      <th>recent_submissions_discipline</th>\n",
       "      <th>has_precise_code_match</th>\n",
       "      <th>codes_in_discipline</th>\n",
       "      <th>engaged</th>\n",
       "    </tr>\n",
       "  </thead>\n",
       "  <tbody>\n",
       "    <tr>\n",
       "      <th>count</th>\n",
       "      <td>932471.000000</td>\n",
       "      <td>932471.000000</td>\n",
       "      <td>932471.000000</td>\n",
       "      <td>932471.000000</td>\n",
       "      <td>932471.000000</td>\n",
       "      <td>932471.00000</td>\n",
       "      <td>932471.000000</td>\n",
       "      <td>932471.000000</td>\n",
       "      <td>932471.000000</td>\n",
       "      <td>932471.000000</td>\n",
       "      <td>932471.000000</td>\n",
       "      <td>932471.000000</td>\n",
       "      <td>932471.000000</td>\n",
       "    </tr>\n",
       "    <tr>\n",
       "      <th>mean</th>\n",
       "      <td>0.350539</td>\n",
       "      <td>0.362749</td>\n",
       "      <td>115.363895</td>\n",
       "      <td>23.353901</td>\n",
       "      <td>22.605042</td>\n",
       "      <td>5.29399</td>\n",
       "      <td>0.326025</td>\n",
       "      <td>1.281755</td>\n",
       "      <td>0.050768</td>\n",
       "      <td>0.197379</td>\n",
       "      <td>0.033024</td>\n",
       "      <td>1.368852</td>\n",
       "      <td>0.214252</td>\n",
       "    </tr>\n",
       "    <tr>\n",
       "      <th>std</th>\n",
       "      <td>0.477139</td>\n",
       "      <td>0.480794</td>\n",
       "      <td>94.812789</td>\n",
       "      <td>12.817104</td>\n",
       "      <td>34.202984</td>\n",
       "      <td>8.30012</td>\n",
       "      <td>0.951367</td>\n",
       "      <td>2.223821</td>\n",
       "      <td>0.307813</td>\n",
       "      <td>0.671141</td>\n",
       "      <td>0.178700</td>\n",
       "      <td>2.196847</td>\n",
       "      <td>0.410303</td>\n",
       "    </tr>\n",
       "    <tr>\n",
       "      <th>min</th>\n",
       "      <td>0.000000</td>\n",
       "      <td>0.000000</td>\n",
       "      <td>0.000000</td>\n",
       "      <td>1.000000</td>\n",
       "      <td>0.000000</td>\n",
       "      <td>0.00000</td>\n",
       "      <td>0.000000</td>\n",
       "      <td>0.000000</td>\n",
       "      <td>0.000000</td>\n",
       "      <td>0.000000</td>\n",
       "      <td>0.000000</td>\n",
       "      <td>0.000000</td>\n",
       "      <td>0.000000</td>\n",
       "    </tr>\n",
       "    <tr>\n",
       "      <th>25%</th>\n",
       "      <td>0.000000</td>\n",
       "      <td>0.000000</td>\n",
       "      <td>46.000000</td>\n",
       "      <td>15.000000</td>\n",
       "      <td>2.000000</td>\n",
       "      <td>0.00000</td>\n",
       "      <td>0.000000</td>\n",
       "      <td>0.000000</td>\n",
       "      <td>0.000000</td>\n",
       "      <td>0.000000</td>\n",
       "      <td>0.000000</td>\n",
       "      <td>0.000000</td>\n",
       "      <td>0.000000</td>\n",
       "    </tr>\n",
       "    <tr>\n",
       "      <th>50%</th>\n",
       "      <td>0.000000</td>\n",
       "      <td>0.000000</td>\n",
       "      <td>88.000000</td>\n",
       "      <td>21.000000</td>\n",
       "      <td>9.000000</td>\n",
       "      <td>2.00000</td>\n",
       "      <td>0.000000</td>\n",
       "      <td>1.000000</td>\n",
       "      <td>0.000000</td>\n",
       "      <td>0.000000</td>\n",
       "      <td>0.000000</td>\n",
       "      <td>1.000000</td>\n",
       "      <td>0.000000</td>\n",
       "    </tr>\n",
       "    <tr>\n",
       "      <th>75%</th>\n",
       "      <td>1.000000</td>\n",
       "      <td>1.000000</td>\n",
       "      <td>165.000000</td>\n",
       "      <td>31.000000</td>\n",
       "      <td>29.000000</td>\n",
       "      <td>7.00000</td>\n",
       "      <td>0.000000</td>\n",
       "      <td>2.000000</td>\n",
       "      <td>0.000000</td>\n",
       "      <td>0.000000</td>\n",
       "      <td>0.000000</td>\n",
       "      <td>2.000000</td>\n",
       "      <td>0.000000</td>\n",
       "    </tr>\n",
       "    <tr>\n",
       "      <th>max</th>\n",
       "      <td>1.000000</td>\n",
       "      <td>1.000000</td>\n",
       "      <td>929.000000</td>\n",
       "      <td>124.000000</td>\n",
       "      <td>606.000000</td>\n",
       "      <td>108.00000</td>\n",
       "      <td>27.000000</td>\n",
       "      <td>88.000000</td>\n",
       "      <td>13.000000</td>\n",
       "      <td>26.000000</td>\n",
       "      <td>1.000000</td>\n",
       "      <td>43.000000</td>\n",
       "      <td>1.000000</td>\n",
       "    </tr>\n",
       "  </tbody>\n",
       "</table>\n",
       "</div>"
      ],
      "text/plain": [
       "       is_academic_email  is_china_recipient  prior_received  recent_received  \\\n",
       "count      932471.000000       932471.000000   932471.000000    932471.000000   \n",
       "mean            0.350539            0.362749      115.363895        23.353901   \n",
       "std             0.477139            0.480794       94.812789        12.817104   \n",
       "min             0.000000            0.000000        0.000000         1.000000   \n",
       "25%             0.000000            0.000000       46.000000        15.000000   \n",
       "50%             0.000000            0.000000       88.000000        21.000000   \n",
       "75%             1.000000            1.000000      165.000000        31.000000   \n",
       "max             1.000000            1.000000      929.000000       124.000000   \n",
       "\n",
       "       prior_responses  recent_responses  prior_submissions_subject  \\\n",
       "count    932471.000000      932471.00000              932471.000000   \n",
       "mean         22.605042           5.29399                   0.326025   \n",
       "std          34.202984           8.30012                   0.951367   \n",
       "min           0.000000           0.00000                   0.000000   \n",
       "25%           2.000000           0.00000                   0.000000   \n",
       "50%           9.000000           2.00000                   0.000000   \n",
       "75%          29.000000           7.00000                   0.000000   \n",
       "max         606.000000         108.00000                  27.000000   \n",
       "\n",
       "       prior_submissions_discipline  recent_submissions_subject  \\\n",
       "count                 932471.000000               932471.000000   \n",
       "mean                       1.281755                    0.050768   \n",
       "std                        2.223821                    0.307813   \n",
       "min                        0.000000                    0.000000   \n",
       "25%                        0.000000                    0.000000   \n",
       "50%                        1.000000                    0.000000   \n",
       "75%                        2.000000                    0.000000   \n",
       "max                       88.000000                   13.000000   \n",
       "\n",
       "       recent_submissions_discipline  has_precise_code_match  \\\n",
       "count                  932471.000000           932471.000000   \n",
       "mean                        0.197379                0.033024   \n",
       "std                         0.671141                0.178700   \n",
       "min                         0.000000                0.000000   \n",
       "25%                         0.000000                0.000000   \n",
       "50%                         0.000000                0.000000   \n",
       "75%                         0.000000                0.000000   \n",
       "max                        26.000000                1.000000   \n",
       "\n",
       "       codes_in_discipline        engaged  \n",
       "count        932471.000000  932471.000000  \n",
       "mean              1.368852       0.214252  \n",
       "std               2.196847       0.410303  \n",
       "min               0.000000       0.000000  \n",
       "25%               0.000000       0.000000  \n",
       "50%               1.000000       0.000000  \n",
       "75%               2.000000       0.000000  \n",
       "max              43.000000       1.000000  "
      ]
     },
     "execution_count": 18,
     "metadata": {},
     "output_type": "execute_result"
    }
   ],
   "source": [
    "engaged.describe()"
   ]
  },
  {
   "cell_type": "code",
   "execution_count": 20,
   "metadata": {},
   "outputs": [
    {
     "data": {
      "text/html": [
       "<div>\n",
       "<style scoped>\n",
       "    .dataframe tbody tr th:only-of-type {\n",
       "        vertical-align: middle;\n",
       "    }\n",
       "\n",
       "    .dataframe tbody tr th {\n",
       "        vertical-align: top;\n",
       "    }\n",
       "\n",
       "    .dataframe thead th {\n",
       "        text-align: right;\n",
       "    }\n",
       "</style>\n",
       "<table border=\"1\" class=\"dataframe\">\n",
       "  <thead>\n",
       "    <tr style=\"text-align: right;\">\n",
       "      <th></th>\n",
       "      <th>cellcode</th>\n",
       "      <th>region</th>\n",
       "    </tr>\n",
       "  </thead>\n",
       "  <tbody>\n",
       "    <tr>\n",
       "      <th>count</th>\n",
       "      <td>932471</td>\n",
       "      <td>932471</td>\n",
       "    </tr>\n",
       "    <tr>\n",
       "      <th>unique</th>\n",
       "      <td>5</td>\n",
       "      <td>5</td>\n",
       "    </tr>\n",
       "    <tr>\n",
       "      <th>top</th>\n",
       "      <td>ST</td>\n",
       "      <td>APAC</td>\n",
       "    </tr>\n",
       "    <tr>\n",
       "      <th>freq</th>\n",
       "      <td>539238</td>\n",
       "      <td>425408</td>\n",
       "    </tr>\n",
       "  </tbody>\n",
       "</table>\n",
       "</div>"
      ],
      "text/plain": [
       "       cellcode  region\n",
       "count    932471  932471\n",
       "unique        5       5\n",
       "top          ST    APAC\n",
       "freq     539238  425408"
      ]
     },
     "execution_count": 20,
     "metadata": {},
     "output_type": "execute_result"
    }
   ],
   "source": [
    "engaged.describe(include='object')"
   ]
  },
  {
   "cell_type": "markdown",
   "metadata": {},
   "source": [
    "cellcode should have three values... check and fix"
   ]
  },
  {
   "cell_type": "code",
   "execution_count": 21,
   "metadata": {},
   "outputs": [
    {
     "data": {
      "text/plain": [
       "ST       539238\n",
       "HOUSE    361354\n",
       "NH        20870\n",
       "ST1        6363\n",
       "ST2        4646\n",
       "Name: cellcode, dtype: int64"
      ]
     },
     "execution_count": 21,
     "metadata": {},
     "output_type": "execute_result"
    }
   ],
   "source": [
    "engagements.loc[:, 'cellcode'].value_counts()"
   ]
  },
  {
   "cell_type": "code",
   "execution_count": 4,
   "metadata": {},
   "outputs": [
    {
     "ename": "NameError",
     "evalue": "name 'engagements' is not defined",
     "output_type": "error",
     "traceback": [
      "\u001b[1;31m---------------------------------------------------------------------------\u001b[0m",
      "\u001b[1;31mNameError\u001b[0m                                 Traceback (most recent call last)",
      "\u001b[1;32m<ipython-input-4-868982acf668>\u001b[0m in \u001b[0;36m<module>\u001b[1;34m\u001b[0m\n\u001b[0;32m      1\u001b[0m \u001b[1;31m# ST1 and ST2 have no significance over ST - replace these values, and clarify the meanings by renaming all columns\u001b[0m\u001b[1;33m\u001b[0m\u001b[1;33m\u001b[0m\u001b[1;33m\u001b[0m\u001b[0m\n\u001b[0;32m      2\u001b[0m \u001b[1;33m\u001b[0m\u001b[0m\n\u001b[1;32m----> 3\u001b[1;33m \u001b[0mengagements\u001b[0m\u001b[1;33m.\u001b[0m\u001b[0mloc\u001b[0m\u001b[1;33m[\u001b[0m\u001b[1;33m:\u001b[0m\u001b[1;33m,\u001b[0m \u001b[1;34m'cellcode'\u001b[0m\u001b[1;33m]\u001b[0m \u001b[1;33m=\u001b[0m \u001b[0mengagements\u001b[0m\u001b[1;33m.\u001b[0m\u001b[0mloc\u001b[0m\u001b[1;33m[\u001b[0m\u001b[1;33m:\u001b[0m\u001b[1;33m,\u001b[0m \u001b[1;34m'cellcode'\u001b[0m\u001b[1;33m]\u001b[0m\u001b[1;33m.\u001b[0m\u001b[0mreplace\u001b[0m\u001b[1;33m(\u001b[0m\u001b[1;33m[\u001b[0m\u001b[1;34m'ST'\u001b[0m\u001b[1;33m,\u001b[0m\u001b[1;34m'ST1'\u001b[0m\u001b[1;33m,\u001b[0m \u001b[1;34m'ST2'\u001b[0m\u001b[1;33m]\u001b[0m\u001b[1;33m,\u001b[0m\u001b[1;34m'SAGETrack'\u001b[0m\u001b[1;33m)\u001b[0m\u001b[1;33m\u001b[0m\u001b[1;33m\u001b[0m\u001b[0m\n\u001b[0m\u001b[0;32m      4\u001b[0m \u001b[0mengagements\u001b[0m\u001b[1;33m.\u001b[0m\u001b[0mloc\u001b[0m\u001b[1;33m[\u001b[0m\u001b[1;33m:\u001b[0m\u001b[1;33m,\u001b[0m \u001b[1;34m'cellcode'\u001b[0m\u001b[1;33m]\u001b[0m \u001b[1;33m=\u001b[0m \u001b[0mengagements\u001b[0m\u001b[1;33m.\u001b[0m\u001b[0mloc\u001b[0m\u001b[1;33m[\u001b[0m\u001b[1;33m:\u001b[0m\u001b[1;33m,\u001b[0m \u001b[1;34m'cellcode'\u001b[0m\u001b[1;33m]\u001b[0m\u001b[1;33m.\u001b[0m\u001b[0mreplace\u001b[0m\u001b[1;33m(\u001b[0m\u001b[1;34m'HOUSE'\u001b[0m\u001b[1;33m,\u001b[0m\u001b[1;34m'House'\u001b[0m\u001b[1;33m)\u001b[0m\u001b[1;33m\u001b[0m\u001b[1;33m\u001b[0m\u001b[0m\n\u001b[0;32m      5\u001b[0m \u001b[0mengagements\u001b[0m\u001b[1;33m.\u001b[0m\u001b[0mloc\u001b[0m\u001b[1;33m[\u001b[0m\u001b[1;33m:\u001b[0m\u001b[1;33m,\u001b[0m \u001b[1;34m'cellcode'\u001b[0m\u001b[1;33m]\u001b[0m \u001b[1;33m=\u001b[0m \u001b[0mengagements\u001b[0m\u001b[1;33m.\u001b[0m\u001b[0mloc\u001b[0m\u001b[1;33m[\u001b[0m\u001b[1;33m:\u001b[0m\u001b[1;33m,\u001b[0m \u001b[1;34m'cellcode'\u001b[0m\u001b[1;33m]\u001b[0m\u001b[1;33m.\u001b[0m\u001b[0mreplace\u001b[0m\u001b[1;33m(\u001b[0m\u001b[1;34m'NH'\u001b[0m\u001b[1;33m,\u001b[0m\u001b[1;34m'Non_House'\u001b[0m\u001b[1;33m)\u001b[0m\u001b[1;33m\u001b[0m\u001b[1;33m\u001b[0m\u001b[0m\n",
      "\u001b[1;31mNameError\u001b[0m: name 'engagements' is not defined"
     ]
    }
   ],
   "source": [
    "# ST1 and ST2 have no significance over ST - replace these values, and clarify the meanings by renaming all columns\n",
    "\n",
    "engagements.loc[:, 'cellcode'] = engagements.loc[:, 'cellcode'].replace(['ST','ST1', 'ST2'],'SAGETrack')\n",
    "engagements.loc[:, 'cellcode'] = engagements.loc[:, 'cellcode'].replace('HOUSE','House')\n",
    "engagements.loc[:, 'cellcode'] = engagements.loc[:, 'cellcode'].replace('NH','Non_House')\n",
    "\n",
    "engagements.loc[:, 'cellcode'].value_counts()"
   ]
  },
  {
   "cell_type": "code",
   "execution_count": 5,
   "metadata": {},
   "outputs": [
    {
     "data": {
      "text/plain": [
       "SAGETrack    550247\n",
       "House        361354\n",
       "Non_House     20870\n",
       "Name: cellcode, dtype: int64"
      ]
     },
     "execution_count": 5,
     "metadata": {},
     "output_type": "execute_result"
    }
   ],
   "source": [
    "engaged.loc[:, 'cellcode'] = engaged.loc[:, 'cellcode'].replace(['ST','ST1', 'ST2'],'SAGETrack')\n",
    "engaged.loc[:, 'cellcode'] = engaged.loc[:, 'cellcode'].replace('HOUSE','House')\n",
    "engaged.loc[:, 'cellcode'] = engaged.loc[:, 'cellcode'].replace('NH','Non_House')\n",
    "\n",
    "engaged.loc[:, 'cellcode'].value_counts()"
   ]
  },
  {
   "cell_type": "code",
   "execution_count": 6,
   "metadata": {},
   "outputs": [
    {
     "data": {
      "text/plain": [
       "Index(['is_academic_email', 'is_china_recipient', 'prior_received',\n",
       "       'recent_received', 'prior_responses', 'recent_responses',\n",
       "       'prior_submissions_subject', 'prior_submissions_discipline',\n",
       "       'recent_submissions_subject', 'recent_submissions_discipline',\n",
       "       'has_precise_code_match', 'codes_in_discipline', 'engaged',\n",
       "       'cellcode_Non_House', 'cellcode_SAGETrack', 'region_India', 'region_UK',\n",
       "       'region_US', 'region_Unknown'],\n",
       "      dtype='object')"
      ]
     },
     "execution_count": 6,
     "metadata": {},
     "output_type": "execute_result"
    }
   ],
   "source": [
    "# dummy object columns for both datasets\n",
    "#engagements = pd.get_dummies(engagements, columns=['cellcode','region'])\n",
    "engaged = pd.get_dummies(engaged, columns=['cellcode','region'], drop_first=True)\n",
    "engaged.columns"
   ]
  },
  {
   "cell_type": "markdown",
   "metadata": {},
   "source": [
    "### Analyzing numerical variables"
   ]
  },
  {
   "cell_type": "code",
   "execution_count": 25,
   "metadata": {},
   "outputs": [
    {
     "data": {
      "text/html": [
       "<div>\n",
       "<style scoped>\n",
       "    .dataframe tbody tr th:only-of-type {\n",
       "        vertical-align: middle;\n",
       "    }\n",
       "\n",
       "    .dataframe tbody tr th {\n",
       "        vertical-align: top;\n",
       "    }\n",
       "\n",
       "    .dataframe thead th {\n",
       "        text-align: right;\n",
       "    }\n",
       "</style>\n",
       "<table border=\"1\" class=\"dataframe\">\n",
       "  <thead>\n",
       "    <tr style=\"text-align: right;\">\n",
       "      <th></th>\n",
       "      <th>is_academic_email</th>\n",
       "      <th>is_china_recipient</th>\n",
       "      <th>prior_received</th>\n",
       "      <th>recent_received</th>\n",
       "      <th>prior_responses</th>\n",
       "      <th>recent_responses</th>\n",
       "      <th>prior_submissions_subject</th>\n",
       "      <th>prior_submissions_discipline</th>\n",
       "      <th>recent_submissions_subject</th>\n",
       "      <th>recent_submissions_discipline</th>\n",
       "      <th>...</th>\n",
       "      <th>codes_in_discipline</th>\n",
       "      <th>engaged</th>\n",
       "      <th>cellcode_House</th>\n",
       "      <th>cellcode_Non_House</th>\n",
       "      <th>cellcode_SAGETrack</th>\n",
       "      <th>region_APAC</th>\n",
       "      <th>region_India</th>\n",
       "      <th>region_UK</th>\n",
       "      <th>region_US</th>\n",
       "      <th>region_Unknown</th>\n",
       "    </tr>\n",
       "  </thead>\n",
       "  <tbody>\n",
       "    <tr>\n",
       "      <th>is_academic_email</th>\n",
       "      <td>1.000000</td>\n",
       "      <td>-0.017646</td>\n",
       "      <td>0.027244</td>\n",
       "      <td>0.034329</td>\n",
       "      <td>0.081220</td>\n",
       "      <td>0.074003</td>\n",
       "      <td>-0.005769</td>\n",
       "      <td>0.023917</td>\n",
       "      <td>0.016440</td>\n",
       "      <td>0.043708</td>\n",
       "      <td>...</td>\n",
       "      <td>0.030709</td>\n",
       "      <td>0.058565</td>\n",
       "      <td>0.035609</td>\n",
       "      <td>0.003635</td>\n",
       "      <td>-0.036367</td>\n",
       "      <td>0.076416</td>\n",
       "      <td>-0.058143</td>\n",
       "      <td>-0.072208</td>\n",
       "      <td>0.133794</td>\n",
       "      <td>-0.112630</td>\n",
       "    </tr>\n",
       "    <tr>\n",
       "      <th>is_china_recipient</th>\n",
       "      <td>-0.017646</td>\n",
       "      <td>1.000000</td>\n",
       "      <td>0.041054</td>\n",
       "      <td>0.054425</td>\n",
       "      <td>-0.093807</td>\n",
       "      <td>-0.073083</td>\n",
       "      <td>0.223041</td>\n",
       "      <td>0.122017</td>\n",
       "      <td>0.111880</td>\n",
       "      <td>0.074243</td>\n",
       "      <td>...</td>\n",
       "      <td>-0.057986</td>\n",
       "      <td>-0.084689</td>\n",
       "      <td>-0.063112</td>\n",
       "      <td>0.020982</td>\n",
       "      <td>0.056208</td>\n",
       "      <td>0.817274</td>\n",
       "      <td>-0.193071</td>\n",
       "      <td>-0.501846</td>\n",
       "      <td>-0.241658</td>\n",
       "      <td>-0.215454</td>\n",
       "    </tr>\n",
       "    <tr>\n",
       "      <th>prior_received</th>\n",
       "      <td>0.027244</td>\n",
       "      <td>0.041054</td>\n",
       "      <td>1.000000</td>\n",
       "      <td>0.573937</td>\n",
       "      <td>0.353784</td>\n",
       "      <td>0.076880</td>\n",
       "      <td>0.259925</td>\n",
       "      <td>0.330566</td>\n",
       "      <td>0.067991</td>\n",
       "      <td>0.115081</td>\n",
       "      <td>...</td>\n",
       "      <td>0.264942</td>\n",
       "      <td>-0.076880</td>\n",
       "      <td>-0.183264</td>\n",
       "      <td>0.298495</td>\n",
       "      <td>0.091762</td>\n",
       "      <td>0.042408</td>\n",
       "      <td>0.043775</td>\n",
       "      <td>0.018866</td>\n",
       "      <td>-0.015151</td>\n",
       "      <td>-0.134078</td>\n",
       "    </tr>\n",
       "    <tr>\n",
       "      <th>recent_received</th>\n",
       "      <td>0.034329</td>\n",
       "      <td>0.054425</td>\n",
       "      <td>0.573937</td>\n",
       "      <td>1.000000</td>\n",
       "      <td>0.318546</td>\n",
       "      <td>0.341875</td>\n",
       "      <td>0.329119</td>\n",
       "      <td>0.435334</td>\n",
       "      <td>0.120148</td>\n",
       "      <td>0.175692</td>\n",
       "      <td>...</td>\n",
       "      <td>0.106888</td>\n",
       "      <td>-0.008275</td>\n",
       "      <td>-0.484576</td>\n",
       "      <td>0.011008</td>\n",
       "      <td>0.476702</td>\n",
       "      <td>0.056466</td>\n",
       "      <td>0.005582</td>\n",
       "      <td>-0.017320</td>\n",
       "      <td>-0.072341</td>\n",
       "      <td>-0.000577</td>\n",
       "    </tr>\n",
       "    <tr>\n",
       "      <th>prior_responses</th>\n",
       "      <td>0.081220</td>\n",
       "      <td>-0.093807</td>\n",
       "      <td>0.353784</td>\n",
       "      <td>0.318546</td>\n",
       "      <td>1.000000</td>\n",
       "      <td>0.729797</td>\n",
       "      <td>0.125044</td>\n",
       "      <td>0.181169</td>\n",
       "      <td>0.053543</td>\n",
       "      <td>0.087922</td>\n",
       "      <td>...</td>\n",
       "      <td>0.165763</td>\n",
       "      <td>0.389938</td>\n",
       "      <td>-0.071594</td>\n",
       "      <td>0.090025</td>\n",
       "      <td>0.043843</td>\n",
       "      <td>-0.063552</td>\n",
       "      <td>0.013501</td>\n",
       "      <td>0.085129</td>\n",
       "      <td>0.011526</td>\n",
       "      <td>-0.053440</td>\n",
       "    </tr>\n",
       "    <tr>\n",
       "      <th>recent_responses</th>\n",
       "      <td>0.074003</td>\n",
       "      <td>-0.073083</td>\n",
       "      <td>0.076880</td>\n",
       "      <td>0.341875</td>\n",
       "      <td>0.729797</td>\n",
       "      <td>1.000000</td>\n",
       "      <td>0.113273</td>\n",
       "      <td>0.167711</td>\n",
       "      <td>0.085143</td>\n",
       "      <td>0.114752</td>\n",
       "      <td>...</td>\n",
       "      <td>0.049879</td>\n",
       "      <td>0.559615</td>\n",
       "      <td>-0.158438</td>\n",
       "      <td>-0.023161</td>\n",
       "      <td>0.163912</td>\n",
       "      <td>-0.048926</td>\n",
       "      <td>-0.008920</td>\n",
       "      <td>0.058627</td>\n",
       "      <td>-0.013059</td>\n",
       "      <td>0.012255</td>\n",
       "    </tr>\n",
       "    <tr>\n",
       "      <th>prior_submissions_subject</th>\n",
       "      <td>-0.005769</td>\n",
       "      <td>0.223041</td>\n",
       "      <td>0.259925</td>\n",
       "      <td>0.329119</td>\n",
       "      <td>0.125044</td>\n",
       "      <td>0.113273</td>\n",
       "      <td>1.000000</td>\n",
       "      <td>0.576483</td>\n",
       "      <td>0.581973</td>\n",
       "      <td>0.399931</td>\n",
       "      <td>...</td>\n",
       "      <td>0.065636</td>\n",
       "      <td>-0.002977</td>\n",
       "      <td>-0.140302</td>\n",
       "      <td>-0.004215</td>\n",
       "      <td>0.140249</td>\n",
       "      <td>0.194224</td>\n",
       "      <td>-0.004091</td>\n",
       "      <td>-0.118716</td>\n",
       "      <td>-0.091518</td>\n",
       "      <td>-0.052153</td>\n",
       "    </tr>\n",
       "    <tr>\n",
       "      <th>prior_submissions_discipline</th>\n",
       "      <td>0.023917</td>\n",
       "      <td>0.122017</td>\n",
       "      <td>0.330566</td>\n",
       "      <td>0.435334</td>\n",
       "      <td>0.181169</td>\n",
       "      <td>0.167711</td>\n",
       "      <td>0.576483</td>\n",
       "      <td>1.000000</td>\n",
       "      <td>0.349768</td>\n",
       "      <td>0.644100</td>\n",
       "      <td>...</td>\n",
       "      <td>0.152984</td>\n",
       "      <td>0.011860</td>\n",
       "      <td>-0.243753</td>\n",
       "      <td>-0.044417</td>\n",
       "      <td>0.254817</td>\n",
       "      <td>0.100217</td>\n",
       "      <td>0.073086</td>\n",
       "      <td>-0.060724</td>\n",
       "      <td>-0.087855</td>\n",
       "      <td>-0.050621</td>\n",
       "    </tr>\n",
       "    <tr>\n",
       "      <th>recent_submissions_subject</th>\n",
       "      <td>0.016440</td>\n",
       "      <td>0.111880</td>\n",
       "      <td>0.067991</td>\n",
       "      <td>0.120148</td>\n",
       "      <td>0.053543</td>\n",
       "      <td>0.085143</td>\n",
       "      <td>0.581973</td>\n",
       "      <td>0.349768</td>\n",
       "      <td>1.000000</td>\n",
       "      <td>0.585921</td>\n",
       "      <td>...</td>\n",
       "      <td>0.049589</td>\n",
       "      <td>0.027463</td>\n",
       "      <td>-0.031704</td>\n",
       "      <td>0.003709</td>\n",
       "      <td>0.030290</td>\n",
       "      <td>0.093177</td>\n",
       "      <td>0.009442</td>\n",
       "      <td>-0.052632</td>\n",
       "      <td>-0.044253</td>\n",
       "      <td>-0.042329</td>\n",
       "    </tr>\n",
       "    <tr>\n",
       "      <th>recent_submissions_discipline</th>\n",
       "      <td>0.043708</td>\n",
       "      <td>0.074243</td>\n",
       "      <td>0.115081</td>\n",
       "      <td>0.175692</td>\n",
       "      <td>0.087922</td>\n",
       "      <td>0.114752</td>\n",
       "      <td>0.399931</td>\n",
       "      <td>0.644100</td>\n",
       "      <td>0.585921</td>\n",
       "      <td>1.000000</td>\n",
       "      <td>...</td>\n",
       "      <td>0.116014</td>\n",
       "      <td>0.043874</td>\n",
       "      <td>-0.066646</td>\n",
       "      <td>-0.015861</td>\n",
       "      <td>0.070789</td>\n",
       "      <td>0.061803</td>\n",
       "      <td>0.039620</td>\n",
       "      <td>-0.020671</td>\n",
       "      <td>-0.042573</td>\n",
       "      <td>-0.068042</td>\n",
       "    </tr>\n",
       "    <tr>\n",
       "      <th>has_precise_code_match</th>\n",
       "      <td>0.005805</td>\n",
       "      <td>-0.038101</td>\n",
       "      <td>0.019036</td>\n",
       "      <td>-0.045301</td>\n",
       "      <td>0.022417</td>\n",
       "      <td>-0.005391</td>\n",
       "      <td>-0.037000</td>\n",
       "      <td>-0.019839</td>\n",
       "      <td>-0.014454</td>\n",
       "      <td>0.004166</td>\n",
       "      <td>...</td>\n",
       "      <td>0.277450</td>\n",
       "      <td>0.005884</td>\n",
       "      <td>0.124803</td>\n",
       "      <td>-0.021105</td>\n",
       "      <td>-0.117280</td>\n",
       "      <td>-0.031408</td>\n",
       "      <td>0.009081</td>\n",
       "      <td>0.055327</td>\n",
       "      <td>0.007692</td>\n",
       "      <td>-0.053641</td>\n",
       "    </tr>\n",
       "    <tr>\n",
       "      <th>codes_in_discipline</th>\n",
       "      <td>0.030709</td>\n",
       "      <td>-0.057986</td>\n",
       "      <td>0.264942</td>\n",
       "      <td>0.106888</td>\n",
       "      <td>0.165763</td>\n",
       "      <td>0.049879</td>\n",
       "      <td>0.065636</td>\n",
       "      <td>0.152984</td>\n",
       "      <td>0.049589</td>\n",
       "      <td>0.116014</td>\n",
       "      <td>...</td>\n",
       "      <td>1.000000</td>\n",
       "      <td>0.011717</td>\n",
       "      <td>0.157167</td>\n",
       "      <td>-0.049364</td>\n",
       "      <td>-0.140840</td>\n",
       "      <td>-0.047882</td>\n",
       "      <td>0.099205</td>\n",
       "      <td>0.076222</td>\n",
       "      <td>0.044870</td>\n",
       "      <td>-0.180861</td>\n",
       "    </tr>\n",
       "    <tr>\n",
       "      <th>engaged</th>\n",
       "      <td>0.058565</td>\n",
       "      <td>-0.084689</td>\n",
       "      <td>-0.076880</td>\n",
       "      <td>-0.008275</td>\n",
       "      <td>0.389938</td>\n",
       "      <td>0.559615</td>\n",
       "      <td>-0.002977</td>\n",
       "      <td>0.011860</td>\n",
       "      <td>0.027463</td>\n",
       "      <td>0.043874</td>\n",
       "      <td>...</td>\n",
       "      <td>0.011717</td>\n",
       "      <td>1.000000</td>\n",
       "      <td>0.007930</td>\n",
       "      <td>-0.021088</td>\n",
       "      <td>-0.001513</td>\n",
       "      <td>-0.064129</td>\n",
       "      <td>-0.009009</td>\n",
       "      <td>0.061820</td>\n",
       "      <td>0.011095</td>\n",
       "      <td>0.008533</td>\n",
       "    </tr>\n",
       "    <tr>\n",
       "      <th>cellcode_House</th>\n",
       "      <td>0.035609</td>\n",
       "      <td>-0.063112</td>\n",
       "      <td>-0.183264</td>\n",
       "      <td>-0.484576</td>\n",
       "      <td>-0.071594</td>\n",
       "      <td>-0.158438</td>\n",
       "      <td>-0.140302</td>\n",
       "      <td>-0.243753</td>\n",
       "      <td>-0.031704</td>\n",
       "      <td>-0.066646</td>\n",
       "      <td>...</td>\n",
       "      <td>0.157167</td>\n",
       "      <td>0.007930</td>\n",
       "      <td>1.000000</td>\n",
       "      <td>-0.120355</td>\n",
       "      <td>-0.954385</td>\n",
       "      <td>-0.062303</td>\n",
       "      <td>-0.017647</td>\n",
       "      <td>0.089260</td>\n",
       "      <td>0.188301</td>\n",
       "      <td>-0.229460</td>\n",
       "    </tr>\n",
       "    <tr>\n",
       "      <th>cellcode_Non_House</th>\n",
       "      <td>0.003635</td>\n",
       "      <td>0.020982</td>\n",
       "      <td>0.298495</td>\n",
       "      <td>0.011008</td>\n",
       "      <td>0.090025</td>\n",
       "      <td>-0.023161</td>\n",
       "      <td>-0.004215</td>\n",
       "      <td>-0.044417</td>\n",
       "      <td>0.003709</td>\n",
       "      <td>-0.015861</td>\n",
       "      <td>...</td>\n",
       "      <td>-0.049364</td>\n",
       "      <td>-0.021088</td>\n",
       "      <td>-0.120355</td>\n",
       "      <td>1.000000</td>\n",
       "      <td>-0.181543</td>\n",
       "      <td>0.041277</td>\n",
       "      <td>-0.025084</td>\n",
       "      <td>-0.044200</td>\n",
       "      <td>-0.032451</td>\n",
       "      <td>0.057693</td>\n",
       "    </tr>\n",
       "    <tr>\n",
       "      <th>cellcode_SAGETrack</th>\n",
       "      <td>-0.036367</td>\n",
       "      <td>0.056208</td>\n",
       "      <td>0.091762</td>\n",
       "      <td>0.476702</td>\n",
       "      <td>0.043843</td>\n",
       "      <td>0.163912</td>\n",
       "      <td>0.140249</td>\n",
       "      <td>0.254817</td>\n",
       "      <td>0.030290</td>\n",
       "      <td>0.070789</td>\n",
       "      <td>...</td>\n",
       "      <td>-0.140840</td>\n",
       "      <td>-0.001513</td>\n",
       "      <td>-0.954385</td>\n",
       "      <td>-0.181543</td>\n",
       "      <td>1.000000</td>\n",
       "      <td>0.049302</td>\n",
       "      <td>0.025025</td>\n",
       "      <td>-0.075125</td>\n",
       "      <td>-0.176768</td>\n",
       "      <td>0.209948</td>\n",
       "    </tr>\n",
       "    <tr>\n",
       "      <th>region_APAC</th>\n",
       "      <td>0.076416</td>\n",
       "      <td>0.817274</td>\n",
       "      <td>0.042408</td>\n",
       "      <td>0.056466</td>\n",
       "      <td>-0.063552</td>\n",
       "      <td>-0.048926</td>\n",
       "      <td>0.194224</td>\n",
       "      <td>0.100217</td>\n",
       "      <td>0.093177</td>\n",
       "      <td>0.061803</td>\n",
       "      <td>...</td>\n",
       "      <td>-0.047882</td>\n",
       "      <td>-0.064129</td>\n",
       "      <td>-0.062303</td>\n",
       "      <td>0.041277</td>\n",
       "      <td>0.049302</td>\n",
       "      <td>1.000000</td>\n",
       "      <td>-0.234571</td>\n",
       "      <td>-0.611828</td>\n",
       "      <td>-0.298496</td>\n",
       "      <td>-0.265864</td>\n",
       "    </tr>\n",
       "    <tr>\n",
       "      <th>region_India</th>\n",
       "      <td>-0.058143</td>\n",
       "      <td>-0.193071</td>\n",
       "      <td>0.043775</td>\n",
       "      <td>0.005582</td>\n",
       "      <td>0.013501</td>\n",
       "      <td>-0.008920</td>\n",
       "      <td>-0.004091</td>\n",
       "      <td>0.073086</td>\n",
       "      <td>0.009442</td>\n",
       "      <td>0.039620</td>\n",
       "      <td>...</td>\n",
       "      <td>0.099205</td>\n",
       "      <td>-0.009009</td>\n",
       "      <td>-0.017647</td>\n",
       "      <td>-0.025084</td>\n",
       "      <td>0.025025</td>\n",
       "      <td>-0.234571</td>\n",
       "      <td>1.000000</td>\n",
       "      <td>-0.171064</td>\n",
       "      <td>-0.083458</td>\n",
       "      <td>-0.074334</td>\n",
       "    </tr>\n",
       "    <tr>\n",
       "      <th>region_UK</th>\n",
       "      <td>-0.072208</td>\n",
       "      <td>-0.501846</td>\n",
       "      <td>0.018866</td>\n",
       "      <td>-0.017320</td>\n",
       "      <td>0.085129</td>\n",
       "      <td>0.058627</td>\n",
       "      <td>-0.118716</td>\n",
       "      <td>-0.060724</td>\n",
       "      <td>-0.052632</td>\n",
       "      <td>-0.020671</td>\n",
       "      <td>...</td>\n",
       "      <td>0.076222</td>\n",
       "      <td>0.061820</td>\n",
       "      <td>0.089260</td>\n",
       "      <td>-0.044200</td>\n",
       "      <td>-0.075125</td>\n",
       "      <td>-0.611828</td>\n",
       "      <td>-0.171064</td>\n",
       "      <td>1.000000</td>\n",
       "      <td>-0.217683</td>\n",
       "      <td>-0.193885</td>\n",
       "    </tr>\n",
       "    <tr>\n",
       "      <th>region_US</th>\n",
       "      <td>0.133794</td>\n",
       "      <td>-0.241658</td>\n",
       "      <td>-0.015151</td>\n",
       "      <td>-0.072341</td>\n",
       "      <td>0.011526</td>\n",
       "      <td>-0.013059</td>\n",
       "      <td>-0.091518</td>\n",
       "      <td>-0.087855</td>\n",
       "      <td>-0.044253</td>\n",
       "      <td>-0.042573</td>\n",
       "      <td>...</td>\n",
       "      <td>0.044870</td>\n",
       "      <td>0.011095</td>\n",
       "      <td>0.188301</td>\n",
       "      <td>-0.032451</td>\n",
       "      <td>-0.176768</td>\n",
       "      <td>-0.298496</td>\n",
       "      <td>-0.083458</td>\n",
       "      <td>-0.217683</td>\n",
       "      <td>1.000000</td>\n",
       "      <td>-0.094592</td>\n",
       "    </tr>\n",
       "    <tr>\n",
       "      <th>region_Unknown</th>\n",
       "      <td>-0.112630</td>\n",
       "      <td>-0.215454</td>\n",
       "      <td>-0.134078</td>\n",
       "      <td>-0.000577</td>\n",
       "      <td>-0.053440</td>\n",
       "      <td>0.012255</td>\n",
       "      <td>-0.052153</td>\n",
       "      <td>-0.050621</td>\n",
       "      <td>-0.042329</td>\n",
       "      <td>-0.068042</td>\n",
       "      <td>...</td>\n",
       "      <td>-0.180861</td>\n",
       "      <td>0.008533</td>\n",
       "      <td>-0.229460</td>\n",
       "      <td>0.057693</td>\n",
       "      <td>0.209948</td>\n",
       "      <td>-0.265864</td>\n",
       "      <td>-0.074334</td>\n",
       "      <td>-0.193885</td>\n",
       "      <td>-0.094592</td>\n",
       "      <td>1.000000</td>\n",
       "    </tr>\n",
       "  </tbody>\n",
       "</table>\n",
       "<p>21 rows × 21 columns</p>\n",
       "</div>"
      ],
      "text/plain": [
       "                               is_academic_email  is_china_recipient  \\\n",
       "is_academic_email                       1.000000           -0.017646   \n",
       "is_china_recipient                     -0.017646            1.000000   \n",
       "prior_received                          0.027244            0.041054   \n",
       "recent_received                         0.034329            0.054425   \n",
       "prior_responses                         0.081220           -0.093807   \n",
       "recent_responses                        0.074003           -0.073083   \n",
       "prior_submissions_subject              -0.005769            0.223041   \n",
       "prior_submissions_discipline            0.023917            0.122017   \n",
       "recent_submissions_subject              0.016440            0.111880   \n",
       "recent_submissions_discipline           0.043708            0.074243   \n",
       "has_precise_code_match                  0.005805           -0.038101   \n",
       "codes_in_discipline                     0.030709           -0.057986   \n",
       "engaged                                 0.058565           -0.084689   \n",
       "cellcode_House                          0.035609           -0.063112   \n",
       "cellcode_Non_House                      0.003635            0.020982   \n",
       "cellcode_SAGETrack                     -0.036367            0.056208   \n",
       "region_APAC                             0.076416            0.817274   \n",
       "region_India                           -0.058143           -0.193071   \n",
       "region_UK                              -0.072208           -0.501846   \n",
       "region_US                               0.133794           -0.241658   \n",
       "region_Unknown                         -0.112630           -0.215454   \n",
       "\n",
       "                               prior_received  recent_received  \\\n",
       "is_academic_email                    0.027244         0.034329   \n",
       "is_china_recipient                   0.041054         0.054425   \n",
       "prior_received                       1.000000         0.573937   \n",
       "recent_received                      0.573937         1.000000   \n",
       "prior_responses                      0.353784         0.318546   \n",
       "recent_responses                     0.076880         0.341875   \n",
       "prior_submissions_subject            0.259925         0.329119   \n",
       "prior_submissions_discipline         0.330566         0.435334   \n",
       "recent_submissions_subject           0.067991         0.120148   \n",
       "recent_submissions_discipline        0.115081         0.175692   \n",
       "has_precise_code_match               0.019036        -0.045301   \n",
       "codes_in_discipline                  0.264942         0.106888   \n",
       "engaged                             -0.076880        -0.008275   \n",
       "cellcode_House                      -0.183264        -0.484576   \n",
       "cellcode_Non_House                   0.298495         0.011008   \n",
       "cellcode_SAGETrack                   0.091762         0.476702   \n",
       "region_APAC                          0.042408         0.056466   \n",
       "region_India                         0.043775         0.005582   \n",
       "region_UK                            0.018866        -0.017320   \n",
       "region_US                           -0.015151        -0.072341   \n",
       "region_Unknown                      -0.134078        -0.000577   \n",
       "\n",
       "                               prior_responses  recent_responses  \\\n",
       "is_academic_email                     0.081220          0.074003   \n",
       "is_china_recipient                   -0.093807         -0.073083   \n",
       "prior_received                        0.353784          0.076880   \n",
       "recent_received                       0.318546          0.341875   \n",
       "prior_responses                       1.000000          0.729797   \n",
       "recent_responses                      0.729797          1.000000   \n",
       "prior_submissions_subject             0.125044          0.113273   \n",
       "prior_submissions_discipline          0.181169          0.167711   \n",
       "recent_submissions_subject            0.053543          0.085143   \n",
       "recent_submissions_discipline         0.087922          0.114752   \n",
       "has_precise_code_match                0.022417         -0.005391   \n",
       "codes_in_discipline                   0.165763          0.049879   \n",
       "engaged                               0.389938          0.559615   \n",
       "cellcode_House                       -0.071594         -0.158438   \n",
       "cellcode_Non_House                    0.090025         -0.023161   \n",
       "cellcode_SAGETrack                    0.043843          0.163912   \n",
       "region_APAC                          -0.063552         -0.048926   \n",
       "region_India                          0.013501         -0.008920   \n",
       "region_UK                             0.085129          0.058627   \n",
       "region_US                             0.011526         -0.013059   \n",
       "region_Unknown                       -0.053440          0.012255   \n",
       "\n",
       "                               prior_submissions_subject  \\\n",
       "is_academic_email                              -0.005769   \n",
       "is_china_recipient                              0.223041   \n",
       "prior_received                                  0.259925   \n",
       "recent_received                                 0.329119   \n",
       "prior_responses                                 0.125044   \n",
       "recent_responses                                0.113273   \n",
       "prior_submissions_subject                       1.000000   \n",
       "prior_submissions_discipline                    0.576483   \n",
       "recent_submissions_subject                      0.581973   \n",
       "recent_submissions_discipline                   0.399931   \n",
       "has_precise_code_match                         -0.037000   \n",
       "codes_in_discipline                             0.065636   \n",
       "engaged                                        -0.002977   \n",
       "cellcode_House                                 -0.140302   \n",
       "cellcode_Non_House                             -0.004215   \n",
       "cellcode_SAGETrack                              0.140249   \n",
       "region_APAC                                     0.194224   \n",
       "region_India                                   -0.004091   \n",
       "region_UK                                      -0.118716   \n",
       "region_US                                      -0.091518   \n",
       "region_Unknown                                 -0.052153   \n",
       "\n",
       "                               prior_submissions_discipline  \\\n",
       "is_academic_email                                  0.023917   \n",
       "is_china_recipient                                 0.122017   \n",
       "prior_received                                     0.330566   \n",
       "recent_received                                    0.435334   \n",
       "prior_responses                                    0.181169   \n",
       "recent_responses                                   0.167711   \n",
       "prior_submissions_subject                          0.576483   \n",
       "prior_submissions_discipline                       1.000000   \n",
       "recent_submissions_subject                         0.349768   \n",
       "recent_submissions_discipline                      0.644100   \n",
       "has_precise_code_match                            -0.019839   \n",
       "codes_in_discipline                                0.152984   \n",
       "engaged                                            0.011860   \n",
       "cellcode_House                                    -0.243753   \n",
       "cellcode_Non_House                                -0.044417   \n",
       "cellcode_SAGETrack                                 0.254817   \n",
       "region_APAC                                        0.100217   \n",
       "region_India                                       0.073086   \n",
       "region_UK                                         -0.060724   \n",
       "region_US                                         -0.087855   \n",
       "region_Unknown                                    -0.050621   \n",
       "\n",
       "                               recent_submissions_subject  \\\n",
       "is_academic_email                                0.016440   \n",
       "is_china_recipient                               0.111880   \n",
       "prior_received                                   0.067991   \n",
       "recent_received                                  0.120148   \n",
       "prior_responses                                  0.053543   \n",
       "recent_responses                                 0.085143   \n",
       "prior_submissions_subject                        0.581973   \n",
       "prior_submissions_discipline                     0.349768   \n",
       "recent_submissions_subject                       1.000000   \n",
       "recent_submissions_discipline                    0.585921   \n",
       "has_precise_code_match                          -0.014454   \n",
       "codes_in_discipline                              0.049589   \n",
       "engaged                                          0.027463   \n",
       "cellcode_House                                  -0.031704   \n",
       "cellcode_Non_House                               0.003709   \n",
       "cellcode_SAGETrack                               0.030290   \n",
       "region_APAC                                      0.093177   \n",
       "region_India                                     0.009442   \n",
       "region_UK                                       -0.052632   \n",
       "region_US                                       -0.044253   \n",
       "region_Unknown                                  -0.042329   \n",
       "\n",
       "                               recent_submissions_discipline       ...        \\\n",
       "is_academic_email                                   0.043708       ...         \n",
       "is_china_recipient                                  0.074243       ...         \n",
       "prior_received                                      0.115081       ...         \n",
       "recent_received                                     0.175692       ...         \n",
       "prior_responses                                     0.087922       ...         \n",
       "recent_responses                                    0.114752       ...         \n",
       "prior_submissions_subject                           0.399931       ...         \n",
       "prior_submissions_discipline                        0.644100       ...         \n",
       "recent_submissions_subject                          0.585921       ...         \n",
       "recent_submissions_discipline                       1.000000       ...         \n",
       "has_precise_code_match                              0.004166       ...         \n",
       "codes_in_discipline                                 0.116014       ...         \n",
       "engaged                                             0.043874       ...         \n",
       "cellcode_House                                     -0.066646       ...         \n",
       "cellcode_Non_House                                 -0.015861       ...         \n",
       "cellcode_SAGETrack                                  0.070789       ...         \n",
       "region_APAC                                         0.061803       ...         \n",
       "region_India                                        0.039620       ...         \n",
       "region_UK                                          -0.020671       ...         \n",
       "region_US                                          -0.042573       ...         \n",
       "region_Unknown                                     -0.068042       ...         \n",
       "\n",
       "                               codes_in_discipline   engaged  cellcode_House  \\\n",
       "is_academic_email                         0.030709  0.058565        0.035609   \n",
       "is_china_recipient                       -0.057986 -0.084689       -0.063112   \n",
       "prior_received                            0.264942 -0.076880       -0.183264   \n",
       "recent_received                           0.106888 -0.008275       -0.484576   \n",
       "prior_responses                           0.165763  0.389938       -0.071594   \n",
       "recent_responses                          0.049879  0.559615       -0.158438   \n",
       "prior_submissions_subject                 0.065636 -0.002977       -0.140302   \n",
       "prior_submissions_discipline              0.152984  0.011860       -0.243753   \n",
       "recent_submissions_subject                0.049589  0.027463       -0.031704   \n",
       "recent_submissions_discipline             0.116014  0.043874       -0.066646   \n",
       "has_precise_code_match                    0.277450  0.005884        0.124803   \n",
       "codes_in_discipline                       1.000000  0.011717        0.157167   \n",
       "engaged                                   0.011717  1.000000        0.007930   \n",
       "cellcode_House                            0.157167  0.007930        1.000000   \n",
       "cellcode_Non_House                       -0.049364 -0.021088       -0.120355   \n",
       "cellcode_SAGETrack                       -0.140840 -0.001513       -0.954385   \n",
       "region_APAC                              -0.047882 -0.064129       -0.062303   \n",
       "region_India                              0.099205 -0.009009       -0.017647   \n",
       "region_UK                                 0.076222  0.061820        0.089260   \n",
       "region_US                                 0.044870  0.011095        0.188301   \n",
       "region_Unknown                           -0.180861  0.008533       -0.229460   \n",
       "\n",
       "                               cellcode_Non_House  cellcode_SAGETrack  \\\n",
       "is_academic_email                        0.003635           -0.036367   \n",
       "is_china_recipient                       0.020982            0.056208   \n",
       "prior_received                           0.298495            0.091762   \n",
       "recent_received                          0.011008            0.476702   \n",
       "prior_responses                          0.090025            0.043843   \n",
       "recent_responses                        -0.023161            0.163912   \n",
       "prior_submissions_subject               -0.004215            0.140249   \n",
       "prior_submissions_discipline            -0.044417            0.254817   \n",
       "recent_submissions_subject               0.003709            0.030290   \n",
       "recent_submissions_discipline           -0.015861            0.070789   \n",
       "has_precise_code_match                  -0.021105           -0.117280   \n",
       "codes_in_discipline                     -0.049364           -0.140840   \n",
       "engaged                                 -0.021088           -0.001513   \n",
       "cellcode_House                          -0.120355           -0.954385   \n",
       "cellcode_Non_House                       1.000000           -0.181543   \n",
       "cellcode_SAGETrack                      -0.181543            1.000000   \n",
       "region_APAC                              0.041277            0.049302   \n",
       "region_India                            -0.025084            0.025025   \n",
       "region_UK                               -0.044200           -0.075125   \n",
       "region_US                               -0.032451           -0.176768   \n",
       "region_Unknown                           0.057693            0.209948   \n",
       "\n",
       "                               region_APAC  region_India  region_UK  \\\n",
       "is_academic_email                 0.076416     -0.058143  -0.072208   \n",
       "is_china_recipient                0.817274     -0.193071  -0.501846   \n",
       "prior_received                    0.042408      0.043775   0.018866   \n",
       "recent_received                   0.056466      0.005582  -0.017320   \n",
       "prior_responses                  -0.063552      0.013501   0.085129   \n",
       "recent_responses                 -0.048926     -0.008920   0.058627   \n",
       "prior_submissions_subject         0.194224     -0.004091  -0.118716   \n",
       "prior_submissions_discipline      0.100217      0.073086  -0.060724   \n",
       "recent_submissions_subject        0.093177      0.009442  -0.052632   \n",
       "recent_submissions_discipline     0.061803      0.039620  -0.020671   \n",
       "has_precise_code_match           -0.031408      0.009081   0.055327   \n",
       "codes_in_discipline              -0.047882      0.099205   0.076222   \n",
       "engaged                          -0.064129     -0.009009   0.061820   \n",
       "cellcode_House                   -0.062303     -0.017647   0.089260   \n",
       "cellcode_Non_House                0.041277     -0.025084  -0.044200   \n",
       "cellcode_SAGETrack                0.049302      0.025025  -0.075125   \n",
       "region_APAC                       1.000000     -0.234571  -0.611828   \n",
       "region_India                     -0.234571      1.000000  -0.171064   \n",
       "region_UK                        -0.611828     -0.171064   1.000000   \n",
       "region_US                        -0.298496     -0.083458  -0.217683   \n",
       "region_Unknown                   -0.265864     -0.074334  -0.193885   \n",
       "\n",
       "                               region_US  region_Unknown  \n",
       "is_academic_email               0.133794       -0.112630  \n",
       "is_china_recipient             -0.241658       -0.215454  \n",
       "prior_received                 -0.015151       -0.134078  \n",
       "recent_received                -0.072341       -0.000577  \n",
       "prior_responses                 0.011526       -0.053440  \n",
       "recent_responses               -0.013059        0.012255  \n",
       "prior_submissions_subject      -0.091518       -0.052153  \n",
       "prior_submissions_discipline   -0.087855       -0.050621  \n",
       "recent_submissions_subject     -0.044253       -0.042329  \n",
       "recent_submissions_discipline  -0.042573       -0.068042  \n",
       "has_precise_code_match          0.007692       -0.053641  \n",
       "codes_in_discipline             0.044870       -0.180861  \n",
       "engaged                         0.011095        0.008533  \n",
       "cellcode_House                  0.188301       -0.229460  \n",
       "cellcode_Non_House             -0.032451        0.057693  \n",
       "cellcode_SAGETrack             -0.176768        0.209948  \n",
       "region_APAC                    -0.298496       -0.265864  \n",
       "region_India                   -0.083458       -0.074334  \n",
       "region_UK                      -0.217683       -0.193885  \n",
       "region_US                       1.000000       -0.094592  \n",
       "region_Unknown                 -0.094592        1.000000  \n",
       "\n",
       "[21 rows x 21 columns]"
      ]
     },
     "execution_count": 25,
     "metadata": {},
     "output_type": "execute_result"
    }
   ],
   "source": [
    "# Tabulate correlation\n",
    "engaged.corr()"
   ]
  },
  {
   "cell_type": "code",
   "execution_count": 7,
   "metadata": {},
   "outputs": [
    {
     "data": {
      "image/png": "[encoded data removed]",
      "text/plain": [
       "<Figure size 1440x1008 with 2 Axes>"
      ]
     },
     "metadata": {
      "needs_background": "light"
     },
     "output_type": "display_data"
    }
   ],
   "source": [
    "# Visualize correlation\n",
    "fig, ax = plt.subplots(figsize=(20,14))         \n",
    "sns.heatmap(engaged.corr(),vmin=-1, vmax=1,cmap=sns.diverging_palette(h_neg=220, h_pos=10, n=21), linewidths=.5, annot=True, ax=ax);"
   ]
  },
  {
   "cell_type": "markdown",
   "metadata": {},
   "source": [
    "Small correlation on academic email, stronger correlation on is_responder, is_recent_responder, is_submitter_recent_subject and is_submitter_recent_discipline, strongest correlations on responses and recent_responses"
   ]
  },
  {
   "cell_type": "markdown",
   "metadata": {},
   "source": [
    "### View relationship of each feature to the target"
   ]
  },
  {
   "cell_type": "markdown",
   "metadata": {},
   "source": [
    "(While not expecting to see a great deal on binary features)"
   ]
  },
  {
   "cell_type": "code",
   "execution_count": 30,
   "metadata": {},
   "outputs": [
    {
     "data": {
      "image/png": "[encoded data removed]",
      "text/plain": [
       "<Figure size 432x288 with 1 Axes>"
      ]
     },
     "metadata": {
      "needs_background": "light"
     },
     "output_type": "display_data"
    }
   ],
   "source": [
    "ax = engagements.plot(kind='scatter', x = 'recent_responses', y = 'engagements', alpha =.2)"
   ]
  },
  {
   "cell_type": "code",
   "execution_count": 31,
   "metadata": {},
   "outputs": [
    {
     "data": {
      "image/png": "[encoded data removed]",
      "text/plain": [
       "<Figure size 432x288 with 1 Axes>"
      ]
     },
     "metadata": {
      "needs_background": "light"
     },
     "output_type": "display_data"
    }
   ],
   "source": [
    "ax = engaged.plot(kind='scatter', x = 'recent_responses', y = 'engaged', alpha =.2)"
   ]
  },
  {
   "cell_type": "code",
   "execution_count": 34,
   "metadata": {},
   "outputs": [
    {
     "data": {
      "image/png": "[encoded data removed]",
      "text/plain": [
       "<Figure size 432x288 with 1 Axes>"
      ]
     },
     "metadata": {
      "needs_background": "light"
     },
     "output_type": "display_data"
    }
   ],
   "source": [
    "ax = engaged.plot(kind='scatter', x = 'prior_responses', y = 'engaged', alpha =.2)"
   ]
  },
  {
   "cell_type": "code",
   "execution_count": 35,
   "metadata": {},
   "outputs": [
    {
     "data": {
      "image/png": "[encoded data removed]",
      "text/plain": [
       "<Figure size 432x288 with 1 Axes>"
      ]
     },
     "metadata": {
      "needs_background": "light"
     },
     "output_type": "display_data"
    }
   ],
   "source": [
    "engaged.loc[:, 'prior_responder'] = (engaged.loc[:, 'prior_responses'] > 0).astype(int)\n",
    "ax = engaged.plot(kind='scatter', x = 'prior_responder', y = 'engaged', alpha =.2)"
   ]
  },
  {
   "cell_type": "code",
   "execution_count": 36,
   "metadata": {},
   "outputs": [
    {
     "data": {
      "text/plain": [
       "prior_responder  engaged\n",
       "0                0          118957\n",
       "                 1            5868\n",
       "1                0          613730\n",
       "                 1          193916\n",
       "Name: engaged, dtype: int64"
      ]
     },
     "execution_count": 36,
     "metadata": {},
     "output_type": "execute_result"
    }
   ],
   "source": [
    "engaged.loc[:, 'engaged'].groupby(engaged.loc[:, 'prior_responder']).value_counts()"
   ]
  },
  {
   "cell_type": "markdown",
   "metadata": {},
   "source": [
    "In part 2, using smaller dataset, prior_respondr = 0 registered no engagements. Wanted to look at this in terms of a larger dataset, as logically insupportable, and there are now values for this group, but the values support this being an unresponseive group (< 5% engagement for responder = 0, c.30% engagement for responder = 1)"
   ]
  },
  {
   "cell_type": "markdown",
   "metadata": {},
   "source": [
    "As expected, scatter plots not showing a whole lot on the binary features. Responses and recent_responses map better as aren't binary values so may be worth investigating probability. However the scatter for is_responder does indicate that no engagement was made by people who weren't responders ... over a dataset of this size seems to be a strong conclusion that non responders are not a valuable mailing segment"
   ]
  },
  {
   "cell_type": "code",
   "execution_count": 18,
   "metadata": {},
   "outputs": [
    {
     "data": {
      "image/png": "[encoded data removed]",
      "text/plain": [
       "<Figure size 1296x216 with 6 Axes>"
      ]
     },
     "metadata": {
      "needs_background": "light"
     },
     "output_type": "display_data"
    }
   ],
   "source": [
    "fig, (ax0, ax1, ax2, ax3, ax4, ax5) = plt.subplots(1, 6, sharey=True, figsize=(18, 3))\n",
    "\n",
    "engagement.plot(kind='scatter', x='is_academic_email', y='engaged', ax=ax0)\n",
    "engagement.plot(kind='scatter', x='is_china_recipient', y='engaged', ax=ax1)\n",
    "engagement.plot(kind='scatter', x='is_submitter_subject', y='engaged', ax=ax2)\n",
    "engagement.plot(kind='scatter', x='is_submitter_discipline', y='engaged', ax=ax3)\n",
    "engagement.plot(kind='scatter', x='is_submitter_recent_subject', y='engaged', ax=ax4)\n",
    "engagement.plot(kind='scatter', x='is_submitter_recent_discipline', y='engaged', ax=ax5);"
   ]
  },
  {
   "cell_type": "markdown",
   "metadata": {},
   "source": [
    "Testing through the other positively correlated binary features, all others have the four-dot pattern (lending credence to signficance of is_responder = 0 as a feature of non-engagement)"
   ]
  },
  {
   "cell_type": "markdown",
   "metadata": {},
   "source": [
    "### Logistic Regression"
   ]
  },
  {
   "cell_type": "code",
   "execution_count": 37,
   "metadata": {},
   "outputs": [
    {
     "name": "stderr",
     "output_type": "stream",
     "text": [
      "C:\\Users\\WTabraham\\AppData\\Local\\Continuum\\anaconda3\\lib\\site-packages\\sklearn\\linear_model\\logistic.py:433: FutureWarning: Default solver will be changed to 'lbfgs' in 0.22. Specify a solver to silence this warning.\n",
      "  FutureWarning)\n",
      "C:\\Users\\WTabraham\\AppData\\Local\\Continuum\\anaconda3\\lib\\site-packages\\sklearn\\linear_model\\logistic.py:460: FutureWarning: Default multi_class will be changed to 'auto' in 0.22. Specify the multi_class option to silence this warning.\n",
      "  \"this warning.\", FutureWarning)\n"
     ]
    },
    {
     "data": {
      "text/plain": [
       "0.853597748779588"
      ]
     },
     "execution_count": 37,
     "metadata": {},
     "output_type": "execute_result"
    }
   ],
   "source": [
    "from sklearn.linear_model import LogisticRegression\n",
    "from sklearn.model_selection import train_test_split\n",
    "\n",
    "target_col = 'engagements'\n",
    "\n",
    "X = engagements.drop(target_col, axis='columns')\n",
    "y = engagements.loc[:, target_col]\n",
    "\n",
    "X_train, X_test, y_train, y_test = train_test_split(X,y)\n",
    "\n",
    "lr = LogisticRegression()\n",
    "\n",
    "lr.fit(X_train, y_train)\n",
    "lr.score(X_test, y_test)"
   ]
  },
  {
   "cell_type": "code",
   "execution_count": 38,
   "metadata": {},
   "outputs": [
    {
     "name": "stderr",
     "output_type": "stream",
     "text": [
      "C:\\Users\\WTabraham\\AppData\\Local\\Continuum\\anaconda3\\lib\\site-packages\\sklearn\\linear_model\\logistic.py:433: FutureWarning: Default solver will be changed to 'lbfgs' in 0.22. Specify a solver to silence this warning.\n",
      "  FutureWarning)\n"
     ]
    },
    {
     "data": {
      "text/plain": [
       "0.8625631654355305"
      ]
     },
     "execution_count": 38,
     "metadata": {},
     "output_type": "execute_result"
    }
   ],
   "source": [
    "from sklearn.linear_model import LogisticRegression\n",
    "from sklearn.model_selection import train_test_split\n",
    "\n",
    "target_col = 'engaged'\n",
    "\n",
    "X = engaged.drop(target_col, axis='columns')\n",
    "y = engaged.loc[:, target_col]\n",
    "\n",
    "X_train, X_test, y_train, y_test = train_test_split(X,y)\n",
    "\n",
    "lre = LogisticRegression()\n",
    "\n",
    "lre.fit(X_train, y_train)\n",
    "lre.score(X_test, y_test)"
   ]
  },
  {
   "cell_type": "code",
   "execution_count": 39,
   "metadata": {},
   "outputs": [
    {
     "data": {
      "text/plain": [
       "0    0.785748\n",
       "1    0.214252\n",
       "Name: engaged, dtype: float64"
      ]
     },
     "execution_count": 39,
     "metadata": {},
     "output_type": "execute_result"
    }
   ],
   "source": [
    "y.value_counts(normalize=True)"
   ]
  },
  {
   "cell_type": "markdown",
   "metadata": {},
   "source": [
    "Model is showing 85% on engagments, 86% on engaged against 78% actual so in both cases there is more signal from the features than the first pass using mainly flags. As engaged performed slightly better, and for business purposes the fact of engagement is more pertinent than the number of engagements, I shall proceed with the engaged dataset"
   ]
  },
  {
   "cell_type": "markdown",
   "metadata": {},
   "source": [
    "### Logistic Regression on two features"
   ]
  },
  {
   "cell_type": "code",
   "execution_count": 40,
   "metadata": {},
   "outputs": [
    {
     "name": "stderr",
     "output_type": "stream",
     "text": [
      "C:\\Users\\WTabraham\\AppData\\Local\\Continuum\\anaconda3\\lib\\site-packages\\sklearn\\linear_model\\logistic.py:433: FutureWarning: Default solver will be changed to 'lbfgs' in 0.22. Specify a solver to silence this warning.\n",
      "  FutureWarning)\n"
     ]
    },
    {
     "data": {
      "text/plain": [
       "0.8403340797364425"
      ]
     },
     "execution_count": 40,
     "metadata": {},
     "output_type": "execute_result"
    }
   ],
   "source": [
    "feature_cols = ['prior_responses', 'recent_responses']\n",
    "target_col = 'engaged'\n",
    "\n",
    "X2 = engaged.loc[:, feature_cols]\n",
    "y2 = engaged.loc[:, target_col]\n",
    "\n",
    "X_train, X_test, y_train, y_test = train_test_split(X2,y2)\n",
    "\n",
    "lre2 = LogisticRegression()\n",
    "lre2.fit(X_train, y_train)\n",
    "lre2.score(X_test, y_test)"
   ]
  },
  {
   "cell_type": "code",
   "execution_count": 41,
   "metadata": {},
   "outputs": [
    {
     "data": {
      "image/png": "[encoded data removed]",
      "text/plain": [
       "<Figure size 432x288 with 1 Axes>"
      ]
     },
     "metadata": {
      "needs_background": "light"
     },
     "output_type": "display_data"
    }
   ],
   "source": [
    "coefs = lre2.coef_[0]\n",
    "intercept = lre2.intercept_\n",
    "\n",
    "x_values = np.array([X2.loc[:, 'prior_responses'].min(), X2.loc[:, 'recent_responses'].max()])\n",
    "y_values = (-1./coefs[1]) * (coefs[0] * x_values + intercept)\n",
    "colors = np.where(y == 0, 'r', 'b')\n",
    "\n",
    "ax = X2.plot(kind='scatter', x='prior_responses', y='recent_responses', color=colors, alpha=.2)\n",
    "ax.plot(x_values, y_values, label='Decision Boundary')\n",
    "plt.show()"
   ]
  },
  {
   "cell_type": "markdown",
   "metadata": {},
   "source": [
    "This seems to be defining a conjoined boundary of response and recent responses above which engagement is more probable (though not sure beyond that how it should be interpreted)"
   ]
  },
  {
   "cell_type": "markdown",
   "metadata": {},
   "source": [
    "### Predict probability for responses and recent_responses"
   ]
  },
  {
   "cell_type": "code",
   "execution_count": 42,
   "metadata": {},
   "outputs": [
    {
     "name": "stderr",
     "output_type": "stream",
     "text": [
      "C:\\Users\\WTabraham\\AppData\\Local\\Continuum\\anaconda3\\lib\\site-packages\\sklearn\\linear_model\\logistic.py:433: FutureWarning: Default solver will be changed to 'lbfgs' in 0.22. Specify a solver to silence this warning.\n",
      "  FutureWarning)\n"
     ]
    },
    {
     "data": {
      "text/plain": [
       "0.8001698710524284"
      ]
     },
     "execution_count": 42,
     "metadata": {},
     "output_type": "execute_result"
    }
   ],
   "source": [
    "from sklearn.linear_model import LogisticRegression\n",
    "from sklearn.model_selection import train_test_split\n",
    "\n",
    "feature_cols = ['prior_responses']\n",
    "target_col = 'engaged'\n",
    "\n",
    "X3 = engaged.loc[:, feature_cols]\n",
    "y3 = engaged.loc[:, target_col]\n",
    "\n",
    "X_train, X_test, y_train, y_test = train_test_split(X3,y3)\n",
    "\n",
    "lr_r = LogisticRegression()\n",
    "\n",
    "lr_r.fit(X_train, y_train)\n",
    "lr_r.score(X_test, y_test)\n"
   ]
  },
  {
   "cell_type": "code",
   "execution_count": 43,
   "metadata": {},
   "outputs": [],
   "source": [
    "y_pred_prob = lr_r.predict_proba(X_test)"
   ]
  },
  {
   "cell_type": "code",
   "execution_count": 44,
   "metadata": {},
   "outputs": [
    {
     "data": {
      "image/png": "[encoded data removed]",
      "text/plain": [
       "<Figure size 432x288 with 1 Axes>"
      ]
     },
     "metadata": {
      "needs_background": "light"
     },
     "output_type": "display_data"
    }
   ],
   "source": [
    "x_grid = np.linspace(start=engaged.loc[:, 'prior_responses'].min(), stop=engaged.loc[:, 'prior_responses'].max(), num=100)\n",
    "pred_probs = lr_r.predict_proba(x_grid.reshape(-1, 1))[:, 1]\n",
    "preds = lr_r.predict(x_grid.reshape(-1, 1))\n",
    "ax = engaged.plot(kind='scatter', x='prior_responses', y='engaged', alpha=.2)\n",
    "ax.plot(x_grid, pred_probs, c='r')\n",
    "ax.plot(x_grid, preds, c='g');"
   ]
  },
  {
   "cell_type": "code",
   "execution_count": 45,
   "metadata": {},
   "outputs": [
    {
     "name": "stderr",
     "output_type": "stream",
     "text": [
      "C:\\Users\\WTabraham\\AppData\\Local\\Continuum\\anaconda3\\lib\\site-packages\\sklearn\\linear_model\\logistic.py:433: FutureWarning: Default solver will be changed to 'lbfgs' in 0.22. Specify a solver to silence this warning.\n",
      "  FutureWarning)\n"
     ]
    },
    {
     "data": {
      "text/plain": [
       "0.8430580221175542"
      ]
     },
     "execution_count": 45,
     "metadata": {},
     "output_type": "execute_result"
    }
   ],
   "source": [
    "from sklearn.linear_model import LogisticRegression\n",
    "from sklearn.model_selection import train_test_split\n",
    "\n",
    "feature_cols = ['recent_responses']\n",
    "target_col = 'engaged'\n",
    "\n",
    "X4 = engaged.loc[:, feature_cols]\n",
    "y4 = engaged.loc[:, target_col]\n",
    "\n",
    "X_train, X_test, y_train, y_test = train_test_split(X4,y4)\n",
    "\n",
    "lr_rr = LogisticRegression()\n",
    "\n",
    "lr_rr.fit(X_train, y_train)\n",
    "lr_rr.score(X_test, y_test)"
   ]
  },
  {
   "cell_type": "code",
   "execution_count": 46,
   "metadata": {},
   "outputs": [],
   "source": [
    "y_pred_prob = lr_rr.predict_proba(X_test)"
   ]
  },
  {
   "cell_type": "code",
   "execution_count": 48,
   "metadata": {},
   "outputs": [
    {
     "data": {
      "image/png": "[encoded data removed]",
      "text/plain": [
       "<Figure size 432x288 with 1 Axes>"
      ]
     },
     "metadata": {
      "needs_background": "light"
     },
     "output_type": "display_data"
    }
   ],
   "source": [
    "x_grid = np.linspace(start=engaged.loc[:, 'recent_responses'].min(), stop=engaged.loc[:, 'recent_responses'].max(), num=100)\n",
    "pred_probs = lr_rr.predict_proba(x_grid.reshape(-1, 1))[:, 1]\n",
    "preds = lr_rr.predict(x_grid.reshape(-1, 1))\n",
    "ax = engaged.plot(kind='scatter', x='recent_responses', y='engaged', alpha=.02)\n",
    "ax.plot(x_grid, pred_probs, c='r')\n",
    "ax.plot(x_grid, preds, c='g');"
   ]
  },
  {
   "cell_type": "markdown",
   "metadata": {},
   "source": [
    "Seems that approximately 10 recent responses indicate a >50% chance of engagement, likewise c. 66 total prior responses indicate a > 50% chance of engagement"
   ]
  },
  {
   "cell_type": "markdown",
   "metadata": {},
   "source": [
    "### Test accuracy, recall and precision of recent_responses"
   ]
  },
  {
   "cell_type": "code",
   "execution_count": 53,
   "metadata": {},
   "outputs": [
    {
     "data": {
      "text/plain": [
       "array([[174249,   9158],\n",
       "       [ 27428,  22283]], dtype=int64)"
      ]
     },
     "execution_count": 53,
     "metadata": {},
     "output_type": "execute_result"
    }
   ],
   "source": [
    "from sklearn import metrics\n",
    "\n",
    "y_pred = lr_rr.predict(X_test)\n",
    "metrics.confusion_matrix(y_test, y_pred)"
   ]
  },
  {
   "cell_type": "code",
   "execution_count": 62,
   "metadata": {},
   "outputs": [
    {
     "data": {
      "text/plain": [
       "0.8439502741101074"
      ]
     },
     "execution_count": 62,
     "metadata": {},
     "output_type": "execute_result"
    }
   ],
   "source": [
    "#Accuracy\n",
    "(22581 + 174159) / (22581 + 174159 + 9189 + 27189)"
   ]
  },
  {
   "cell_type": "code",
   "execution_count": 32,
   "metadata": {},
   "outputs": [
    {
     "data": {
      "text/plain": [
       "0.6703954214360042"
      ]
     },
     "execution_count": 32,
     "metadata": {},
     "output_type": "execute_result"
    }
   ],
   "source": [
    "#Precision\n",
    "2577 / (2577 + 1267)"
   ]
  },
  {
   "cell_type": "code",
   "execution_count": 33,
   "metadata": {},
   "outputs": [
    {
     "data": {
      "text/plain": [
       "0.2781135333477229"
      ]
     },
     "execution_count": 33,
     "metadata": {},
     "output_type": "execute_result"
    }
   ],
   "source": [
    "#Recall\n",
    "2577 / (2577 + 6689)"
   ]
  },
  {
   "cell_type": "code",
   "execution_count": 54,
   "metadata": {},
   "outputs": [
    {
     "name": "stdout",
     "output_type": "stream",
     "text": [
      "precision: 0.7087242772176457\n",
      "recall: 0.4482508901450383\n"
     ]
    }
   ],
   "source": [
    "print('precision:', metrics.precision_score(y_test, y_pred))\n",
    "print('recall:', metrics.recall_score(y_test, y_pred))"
   ]
  },
  {
   "cell_type": "markdown",
   "metadata": {},
   "source": [
    "So... bringing in the counts over the flags has improved the model. Overall LR model is now showing 78-86% versus 80-84% so getting more signal from the features/increased dataset\n",
    "\n",
    "likewise, precision and recall have both improved, p 67 - 70%, r 27 - 45 % (recall more)"
   ]
  },
  {
   "cell_type": "code",
   "execution_count": 63,
   "metadata": {},
   "outputs": [
    {
     "name": "stderr",
     "output_type": "stream",
     "text": [
      "C:\\Users\\WTabraham\\AppData\\Local\\Continuum\\anaconda3\\lib\\site-packages\\sklearn\\linear_model\\logistic.py:433: FutureWarning: Default solver will be changed to 'lbfgs' in 0.22. Specify a solver to silence this warning.\n",
      "  FutureWarning)\n"
     ]
    },
    {
     "data": {
      "text/plain": [
       "0.8427277172933879"
      ]
     },
     "execution_count": 63,
     "metadata": {},
     "output_type": "execute_result"
    }
   ],
   "source": [
    "feature_cols = ['recent_responses']\n",
    "target_col = 'engaged'\n",
    "\n",
    "X4 = engaged.loc[:, feature_cols]\n",
    "y4 = engaged.loc[:, target_col]\n",
    "\n",
    "X_train, X_test, y_train, y_test = train_test_split(X4,y4)\n",
    "\n",
    "lr_rr = LogisticRegression()\n",
    "\n",
    "lr_rr.fit(X_train, y_train)\n",
    "lr_rr.score(X_test, y_test)"
   ]
  },
  {
   "cell_type": "code",
   "execution_count": 64,
   "metadata": {},
   "outputs": [],
   "source": [
    "y_pred_prob = lr_rr.predict_proba(X_test)"
   ]
  },
  {
   "cell_type": "code",
   "execution_count": 72,
   "metadata": {},
   "outputs": [
    {
     "data": {
      "text/plain": [
       "array([0.45543458, 0.07503313, 0.16596686, ..., 0.98414848, 0.07503313,\n",
       "       0.08847818])"
      ]
     },
     "execution_count": 72,
     "metadata": {},
     "output_type": "execute_result"
    }
   ],
   "source": [
    "y_pred_prob = lr_rr.predict_proba(X_test)[:, 1]\n",
    "y_pred_prob"
   ]
  },
  {
   "cell_type": "code",
   "execution_count": 74,
   "metadata": {},
   "outputs": [
    {
     "name": "stdout",
     "output_type": "stream",
     "text": [
      "threshold: 0.07503312898817245\n",
      "precision: 0.34048939552080987\n",
      "recall: 1.0\n",
      "f1: 0.5080075928366776\n",
      "f2: 0.7207779642268157\n",
      "f1/2: 0.3922246600489102\n",
      "\n",
      "threshold: 0.17780721827257495\n",
      "precision: 0.5485678340501478\n",
      "recall: 0.7513022920339798\n",
      "f1: 0.6341253065020717\n",
      "f2: 0.6995925464355277\n",
      "f1/2: 0.5798623138205751\n",
      "\n",
      "threshold: 0.28058130755697747\n",
      "precision: 0.6242250083649891\n",
      "recall: 0.6354183362718384\n",
      "f1: 0.6297719397531746\n",
      "f2: 0.6331476712383463\n",
      "f1/2: 0.6264320139053489\n",
      "\n",
      "threshold: 0.3833553968413799\n",
      "precision: 0.6827352211927443\n",
      "recall: 0.524102420259657\n",
      "f1: 0.5929930746823535\n",
      "f2: 0.549644272428907\n",
      "f1/2: 0.6437648888626385\n",
      "\n",
      "threshold: 0.48612948612578244\n",
      "precision: 0.7102682113950166\n",
      "recall: 0.4483290591440936\n",
      "f1: 0.5496886399646266\n",
      "f2: 0.48403005801352345\n",
      "f1/2: 0.635955937521315\n",
      "\n",
      "threshold: 0.588903575410185\n",
      "precision: 0.7327062512247697\n",
      "recall: 0.374559224234653\n",
      "f1: 0.49571108489002613\n",
      "f2: 0.4151436959003033\n",
      "f1/2: 0.6150804095491273\n",
      "\n",
      "threshold: 0.6916776646945875\n",
      "precision: 0.7540222438181622\n",
      "recall: 0.2798124699471069\n",
      "f1: 0.40815968670543884\n",
      "f2: 0.32007150387312644\n",
      "f1/2: 0.5631451612903225\n",
      "\n",
      "threshold: 0.79445175397899\n",
      "precision: 0.7830175032547374\n",
      "recall: 0.21690174707485174\n",
      "f1: 0.33970315981047416\n",
      "f2: 0.2535671791412537\n",
      "f1/2: 0.5144654805352797\n",
      "\n",
      "threshold: 0.8972258432633925\n",
      "precision: 0.8126880641925778\n",
      "recall: 0.12986856868087834\n",
      "f1: 0.2239496959646213\n",
      "f2: 0.1560994875351597\n",
      "f1/2: 0.39613278576317595\n",
      "\n",
      "threshold: 0.999999932547795\n",
      "precision: 0.0\n",
      "recall: 0.0\n"
     ]
    },
    {
     "name": "stderr",
     "output_type": "stream",
     "text": [
      "C:\\Users\\WTabraham\\AppData\\Local\\Continuum\\anaconda3\\lib\\site-packages\\sklearn\\metrics\\classification.py:1143: UndefinedMetricWarning: Precision is ill-defined and being set to 0.0 due to no predicted samples.\n",
      "  'precision', 'predicted', average, warn_for)\n",
      "C:\\Users\\WTabraham\\AppData\\Local\\Continuum\\anaconda3\\lib\\site-packages\\sklearn\\metrics\\classification.py:1143: UndefinedMetricWarning: F-score is ill-defined and being set to 0.0 due to no predicted samples.\n",
      "  'precision', 'predicted', average, warn_for)\n",
      "C:\\Users\\WTabraham\\AppData\\Local\\Continuum\\anaconda3\\lib\\site-packages\\sklearn\\metrics\\classification.py:1143: UndefinedMetricWarning: F-score is ill-defined and being set to 0.0 due to no predicted samples.\n",
      "  'precision', 'predicted', average, warn_for)\n"
     ]
    },
    {
     "name": "stdout",
     "output_type": "stream",
     "text": [
      "f1: 0.0\n",
      "f2: 0.0\n",
      "f1/2: 0.0\n",
      "\n"
     ]
    },
    {
     "name": "stderr",
     "output_type": "stream",
     "text": [
      "C:\\Users\\WTabraham\\AppData\\Local\\Continuum\\anaconda3\\lib\\site-packages\\sklearn\\metrics\\classification.py:1143: UndefinedMetricWarning: F-score is ill-defined and being set to 0.0 due to no predicted samples.\n",
      "  'precision', 'predicted', average, warn_for)\n"
     ]
    }
   ],
   "source": [
    "from sklearn import metrics\n",
    "\n",
    "for threshold in np.linspace(y_pred_prob.min(), y_pred_prob.max(), 10):\n",
    "    y_pred_thresh = y_pred_prob > threshold\n",
    "    print('threshold:', threshold)\n",
    "    print('precision:', metrics.precision_score(y_test, y_pred_thresh))\n",
    "    print('recall:', metrics.recall_score(y_test, y_pred_thresh))\n",
    "    print('f1:', metrics.f1_score(y_test, y_pred_thresh))\n",
    "    print('f2:', metrics.fbeta_score(y_test, y_pred_thresh, 2))\n",
    "    print('f1/2:', metrics.fbeta_score(y_test, y_pred_thresh, .5))\n",
    "    print()"
   ]
  },
  {
   "cell_type": "code",
   "execution_count": null,
   "metadata": {},
   "outputs": [],
   "source": []
  },
  {
   "cell_type": "code",
   "execution_count": null,
   "metadata": {},
   "outputs": [],
   "source": []
  },
  {
   "cell_type": "code",
   "execution_count": null,
   "metadata": {},
   "outputs": [],
   "source": []
  },
  {
   "cell_type": "markdown",
   "metadata": {},
   "source": [
    "### Things to try next\n",
    "\n",
    "Play with f-beta on pr & rr features\n",
    "Try RFC on whole dataset\n",
    "?\n"
   ]
  },
  {
   "cell_type": "code",
   "execution_count": 75,
   "metadata": {},
   "outputs": [
    {
     "name": "stdout",
     "output_type": "stream",
     "text": [
      "The history saving thread hit an unexpected error (OperationalError('disk I/O error')).History will not be written to the database.\n",
      "0.9962937171928912\n",
      "0.8499643957137587\n"
     ]
    }
   ],
   "source": [
    "X_train, X_test, y_train, y_test = train_test_split(X,y)\n",
    "\n",
    "from sklearn.tree import DecisionTreeClassifier\n",
    "\n",
    "dtc = DecisionTreeClassifier()\n",
    "\n",
    "dtc.fit(X_train, y_train)\n",
    "print(dtc.score(X_train, y_train))\n",
    "print(dtc.score(X_test, y_test))"
   ]
  },
  {
   "cell_type": "code",
   "execution_count": 60,
   "metadata": {},
   "outputs": [
    {
     "name": "stdout",
     "output_type": "stream",
     "text": [
      "0.9962779883692499\n",
      "0.8781303889017579\n"
     ]
    }
   ],
   "source": [
    "X_train, X_test, y_train, y_test = train_test_split(X,y)\n",
    "\n",
    "from sklearn.ensemble import RandomForestClassifier\n",
    "\n",
    "rfc = RandomForestClassifier(n_estimators=100) #, oob_score=True)\n",
    "\n",
    "rfc.fit(X_train, y_train)\n",
    "print(rfc.score(X_train, y_train))\n",
    "print(rfc.score(X_test, y_test))"
   ]
  },
  {
   "cell_type": "code",
   "execution_count": null,
   "metadata": {},
   "outputs": [],
   "source": []
  },
  {
   "cell_type": "code",
   "execution_count": null,
   "metadata": {},
   "outputs": [],
   "source": [
    "### Generate prior and recent response rates"
   ]
  },
  {
   "cell_type": "code",
   "execution_count": 8,
   "metadata": {},
   "outputs": [],
   "source": [
    "engaged.loc[:, 'prior_response_rate'] = (engaged.loc[:, 'prior_responses'] / engaged.loc[:, 'prior_received']).astype(float)"
   ]
  },
  {
   "cell_type": "code",
   "execution_count": 9,
   "metadata": {},
   "outputs": [
    {
     "data": {
      "text/plain": [
       "0         0.047619\n",
       "1         0.000000\n",
       "2         0.000000\n",
       "3         0.096774\n",
       "4         0.920000\n",
       "5         0.512077\n",
       "6         0.309735\n",
       "7         0.277778\n",
       "8         0.000000\n",
       "9         0.036145\n",
       "10        0.222222\n",
       "11        0.440415\n",
       "12        0.131148\n",
       "13        0.021978\n",
       "14        0.000000\n",
       "15        0.200000\n",
       "16        0.132353\n",
       "17        0.000000\n",
       "18        0.000000\n",
       "19        0.018182\n",
       "20        0.571429\n",
       "21        0.082474\n",
       "22        0.039216\n",
       "23        0.162162\n",
       "24        0.138889\n",
       "25        0.544304\n",
       "26        0.492857\n",
       "27        0.405797\n",
       "28        0.037634\n",
       "29        0.948454\n",
       "            ...   \n",
       "932441    0.055556\n",
       "932442    0.330000\n",
       "932443    0.023622\n",
       "932444    0.007463\n",
       "932445    0.019465\n",
       "932446    0.012048\n",
       "932447    0.043478\n",
       "932448    0.464286\n",
       "932449    0.967742\n",
       "932450    0.000000\n",
       "932451    0.064516\n",
       "932452    0.000000\n",
       "932453    0.000000\n",
       "932454    0.010274\n",
       "932455    0.642241\n",
       "932456    0.297101\n",
       "932457    0.020408\n",
       "932458    0.073394\n",
       "932459    0.014085\n",
       "932460    0.944444\n",
       "932461    0.426087\n",
       "932462    0.085586\n",
       "932463    0.000000\n",
       "932464    0.000000\n",
       "932465    0.289855\n",
       "932466    0.868545\n",
       "932467    0.056452\n",
       "932468    0.466667\n",
       "932469    0.266234\n",
       "932470    0.202454\n",
       "Name: prior_response_rate, Length: 932471, dtype: float64"
      ]
     },
     "execution_count": 9,
     "metadata": {},
     "output_type": "execute_result"
    }
   ],
   "source": [
    "engaged.loc[:, 'prior_response_rate']"
   ]
  },
  {
   "cell_type": "code",
   "execution_count": 10,
   "metadata": {},
   "outputs": [],
   "source": [
    "engaged.loc[:, 'recent_response_rate'] = (engaged.loc[:, 'recent_responses'] / engaged.loc[:, 'recent_received']).astype(float)"
   ]
  },
  {
   "cell_type": "code",
   "execution_count": 19,
   "metadata": {},
   "outputs": [],
   "source": [
    "engaged.loc[:, 'prior_response_rate'] = engaged.loc[:, 'prior_response_rate'].fillna(0)"
   ]
  },
  {
   "cell_type": "code",
   "execution_count": 20,
   "metadata": {},
   "outputs": [
    {
     "data": {
      "image/png": "[encoded data removed]",
      "text/plain": [
       "<Figure size 1440x1008 with 2 Axes>"
      ]
     },
     "metadata": {
      "needs_background": "light"
     },
     "output_type": "display_data"
    }
   ],
   "source": [
    "fig, ax = plt.subplots(figsize=(20,14))         \n",
    "sns.heatmap(engaged.corr(),vmin=-1, vmax=1,cmap=sns.diverging_palette(h_neg=220, h_pos=10, n=21), linewidths=.5, annot=True, ax=ax);"
   ]
  },
  {
   "cell_type": "code",
   "execution_count": 21,
   "metadata": {},
   "outputs": [
    {
     "name": "stderr",
     "output_type": "stream",
     "text": [
      "C:\\Users\\WTabraham\\AppData\\Local\\Continuum\\anaconda3\\lib\\site-packages\\sklearn\\linear_model\\logistic.py:433: FutureWarning: Default solver will be changed to 'lbfgs' in 0.22. Specify a solver to silence this warning.\n",
      "  FutureWarning)\n"
     ]
    },
    {
     "data": {
      "text/plain": [
       "0.8790869859899278"
      ]
     },
     "execution_count": 21,
     "metadata": {},
     "output_type": "execute_result"
    }
   ],
   "source": [
    "from sklearn.linear_model import LogisticRegression\n",
    "from sklearn.model_selection import train_test_split\n",
    "\n",
    "target_col = 'engaged'\n",
    "\n",
    "X = engaged.drop(target_col, axis='columns')\n",
    "y = engaged.loc[:, target_col]\n",
    "\n",
    "X_train, X_test, y_train, y_test = train_test_split(X,y)\n",
    "\n",
    "lre = LogisticRegression()\n",
    "\n",
    "lre.fit(X_train, y_train)\n",
    "lre.score(X_test, y_test)"
   ]
  },
  {
   "cell_type": "code",
   "execution_count": 23,
   "metadata": {},
   "outputs": [
    {
     "name": "stdout",
     "output_type": "stream",
     "text": [
      "0.8831934659606808\n",
      "0.8825187244228245\n"
     ]
    }
   ],
   "source": [
    "X_train, X_test, y_train, y_test = train_test_split(X,y)\n",
    "\n",
    "from sklearn.tree import DecisionTreeClassifier\n",
    "\n",
    "dtc = DecisionTreeClassifier(max_depth=7)\n",
    "\n",
    "dtc.fit(X_train, y_train)\n",
    "print(dtc.score(X_train, y_train))\n",
    "print(dtc.score(X_test, y_test))"
   ]
  },
  {
   "cell_type": "code",
   "execution_count": 30,
   "metadata": {},
   "outputs": [
    {
     "name": "stdout",
     "output_type": "stream",
     "text": [
      "0.8926193210009823\n",
      "0.8867912387717808\n"
     ]
    }
   ],
   "source": [
    "X_train, X_test, y_train, y_test = train_test_split(X,y)\n",
    "\n",
    "from sklearn.ensemble import RandomForestClassifier\n",
    "\n",
    "rfc = RandomForestClassifier(n_estimators=100, max_depth=13) #, oob_score=True)\n",
    "\n",
    "rfc.fit(X_train, y_train)\n",
    "print(rfc.score(X_train, y_train))\n",
    "print(rfc.score(X_test, y_test))"
   ]
  },
  {
   "cell_type": "code",
   "execution_count": null,
   "metadata": {},
   "outputs": [],
   "source": [
    "md 5 - 0.8758 / 0.8750\n",
    "md 10 - 0.8845 /0.8827\n",
    "md 15 - 0.900 / 0.8866\n",
    "md 12 - 0.8896 / 0.8846\n",
    "md 13 - 0.8926 / 0.8867"
   ]
  },
  {
   "cell_type": "markdown",
   "metadata": {},
   "source": [
    "### feature selection attempt 1"
   ]
  },
  {
   "cell_type": "code",
   "execution_count": 31,
   "metadata": {},
   "outputs": [],
   "source": [
    "# pick 3 lowest correlating features, remove and rerun\n",
    "\n",
    "engaged_fs = engaged.drop(['cellcode_SAGETrack', 'has_precise_code_match', 'prior_responses'], axis='columns')"
   ]
  },
  {
   "cell_type": "code",
   "execution_count": 32,
   "metadata": {},
   "outputs": [
    {
     "name": "stderr",
     "output_type": "stream",
     "text": [
      "C:\\Users\\WTabraham\\AppData\\Local\\Continuum\\anaconda3\\lib\\site-packages\\sklearn\\linear_model\\logistic.py:433: FutureWarning: Default solver will be changed to 'lbfgs' in 0.22. Specify a solver to silence this warning.\n",
      "  FutureWarning)\n"
     ]
    },
    {
     "data": {
      "text/plain": [
       "0.8778129530967149"
      ]
     },
     "execution_count": 32,
     "metadata": {},
     "output_type": "execute_result"
    }
   ],
   "source": [
    "from sklearn.linear_model import LogisticRegression\n",
    "from sklearn.model_selection import train_test_split\n",
    "\n",
    "target_col = 'engaged'\n",
    "\n",
    "X = engaged_fs.drop(target_col, axis='columns')\n",
    "y = engaged_fs.loc[:, target_col]\n",
    "\n",
    "X_train, X_test, y_train, y_test = train_test_split(X,y)\n",
    "\n",
    "lre = LogisticRegression()\n",
    "\n",
    "lre.fit(X_train, y_train)\n",
    "lre.score(X_test, y_test)"
   ]
  },
  {
   "cell_type": "code",
   "execution_count": 33,
   "metadata": {},
   "outputs": [
    {
     "name": "stdout",
     "output_type": "stream",
     "text": [
      "0.8828560111989224\n",
      "0.8830506438799235\n"
     ]
    }
   ],
   "source": [
    "X_train, X_test, y_train, y_test = train_test_split(X,y)\n",
    "\n",
    "from sklearn.tree import DecisionTreeClassifier\n",
    "\n",
    "dtc = DecisionTreeClassifier(max_depth=7)\n",
    "\n",
    "dtc.fit(X_train, y_train)\n",
    "print(dtc.score(X_train, y_train))\n",
    "print(dtc.score(X_test, y_test))"
   ]
  },
  {
   "cell_type": "code",
   "execution_count": 37,
   "metadata": {},
   "outputs": [
    {
     "name": "stdout",
     "output_type": "stream",
     "text": [
      "0.995923374890792\n",
      "0.880940124743692\n"
     ]
    }
   ],
   "source": [
    "X_train, X_test, y_train, y_test = train_test_split(X,y)\n",
    "\n",
    "from sklearn.ensemble import RandomForestClassifier\n",
    "\n",
    "rfc = RandomForestClassifier(n_estimators=100, oob_score=True) # max_depth=12, \n",
    "\n",
    "rfc.fit(X_train, y_train)\n",
    "print(rfc.score(X_train, y_train))\n",
    "print(rfc.score(X_test, y_test))"
   ]
  },
  {
   "cell_type": "code",
   "execution_count": 35,
   "metadata": {},
   "outputs": [
    {
     "data": {
      "text/plain": [
       "0    0.785748\n",
       "1    0.214252\n",
       "Name: engaged, dtype: float64"
      ]
     },
     "execution_count": 35,
     "metadata": {},
     "output_type": "execute_result"
    }
   ],
   "source": [
    "y.value_counts(normalize=True)"
   ]
  },
  {
   "cell_type": "code",
   "execution_count": 39,
   "metadata": {},
   "outputs": [
    {
     "data": {
      "text/plain": [
       "\u001b[1;31mInit signature:\u001b[0m\n",
       "\u001b[0mDecisionTreeClassifier\u001b[0m\u001b[1;33m(\u001b[0m\u001b[1;33m\n",
       "\u001b[0m    \u001b[1;33m[\u001b[0m\u001b[1;34m\"criterion='gini'\"\u001b[0m\u001b[1;33m,\u001b[0m \u001b[1;34m\"splitter='best'\"\u001b[0m\u001b[1;33m,\u001b[0m \u001b[1;34m'max_depth=None'\u001b[0m\u001b[1;33m,\u001b[0m \u001b[1;34m'min_samples_split=2'\u001b[0m\u001b[1;33m,\u001b[0m \u001b[1;34m'min_samples_leaf=1'\u001b[0m\u001b[1;33m,\u001b[0m \u001b[1;34m'min_weight_fraction_leaf=0.0'\u001b[0m\u001b[1;33m,\u001b[0m \u001b[1;34m'max_features=None'\u001b[0m\u001b[1;33m,\u001b[0m \u001b[1;34m'random_state=None'\u001b[0m\u001b[1;33m,\u001b[0m \u001b[1;34m'max_leaf_nodes=None'\u001b[0m\u001b[1;33m,\u001b[0m \u001b[1;34m'min_impurity_decrease=0.0'\u001b[0m\u001b[1;33m,\u001b[0m \u001b[1;34m'min_impurity_split=None'\u001b[0m\u001b[1;33m,\u001b[0m \u001b[1;34m'class_weight=None'\u001b[0m\u001b[1;33m,\u001b[0m \u001b[1;34m'presort=False'\u001b[0m\u001b[1;33m]\u001b[0m\u001b[1;33m,\u001b[0m\u001b[1;33m\n",
       "\u001b[0m\u001b[1;33m)\u001b[0m\u001b[1;33m\u001b[0m\u001b[1;33m\u001b[0m\u001b[0m\n",
       "\u001b[1;31mDocstring:\u001b[0m     \n",
       "A decision tree classifier.\n",
       "\n",
       "Read more in the :ref:`User Guide <tree>`.\n",
       "\n",
       "Parameters\n",
       "----------\n",
       "criterion : string, optional (default=\"gini\")\n",
       "    The function to measure the quality of a split. Supported criteria are\n",
       "    \"gini\" for the Gini impurity and \"entropy\" for the information gain.\n",
       "\n",
       "splitter : string, optional (default=\"best\")\n",
       "    The strategy used to choose the split at each node. Supported\n",
       "    strategies are \"best\" to choose the best split and \"random\" to choose\n",
       "    the best random split.\n",
       "\n",
       "max_depth : int or None, optional (default=None)\n",
       "    The maximum depth of the tree. If None, then nodes are expanded until\n",
       "    all leaves are pure or until all leaves contain less than\n",
       "    min_samples_split samples.\n",
       "\n",
       "min_samples_split : int, float, optional (default=2)\n",
       "    The minimum number of samples required to split an internal node:\n",
       "\n",
       "    - If int, then consider `min_samples_split` as the minimum number.\n",
       "    - If float, then `min_samples_split` is a fraction and\n",
       "      `ceil(min_samples_split * n_samples)` are the minimum\n",
       "      number of samples for each split.\n",
       "\n",
       "    .. versionchanged:: 0.18\n",
       "       Added float values for fractions.\n",
       "\n",
       "min_samples_leaf : int, float, optional (default=1)\n",
       "    The minimum number of samples required to be at a leaf node.\n",
       "    A split point at any depth will only be considered if it leaves at\n",
       "    least ``min_samples_leaf`` training samples in each of the left and\n",
       "    right branches.  This may have the effect of smoothing the model,\n",
       "    especially in regression.\n",
       "\n",
       "    - If int, then consider `min_samples_leaf` as the minimum number.\n",
       "    - If float, then `min_samples_leaf` is a fraction and\n",
       "      `ceil(min_samples_leaf * n_samples)` are the minimum\n",
       "      number of samples for each node.\n",
       "\n",
       "    .. versionchanged:: 0.18\n",
       "       Added float values for fractions.\n",
       "\n",
       "min_weight_fraction_leaf : float, optional (default=0.)\n",
       "    The minimum weighted fraction of the sum total of weights (of all\n",
       "    the input samples) required to be at a leaf node. Samples have\n",
       "    equal weight when sample_weight is not provided.\n",
       "\n",
       "max_features : int, float, string or None, optional (default=None)\n",
       "    The number of features to consider when looking for the best split:\n",
       "\n",
       "        - If int, then consider `max_features` features at each split.\n",
       "        - If float, then `max_features` is a fraction and\n",
       "          `int(max_features * n_features)` features are considered at each\n",
       "          split.\n",
       "        - If \"auto\", then `max_features=sqrt(n_features)`.\n",
       "        - If \"sqrt\", then `max_features=sqrt(n_features)`.\n",
       "        - If \"log2\", then `max_features=log2(n_features)`.\n",
       "        - If None, then `max_features=n_features`.\n",
       "\n",
       "    Note: the search for a split does not stop until at least one\n",
       "    valid partition of the node samples is found, even if it requires to\n",
       "    effectively inspect more than ``max_features`` features.\n",
       "\n",
       "random_state : int, RandomState instance or None, optional (default=None)\n",
       "    If int, random_state is the seed used by the random number generator;\n",
       "    If RandomState instance, random_state is the random number generator;\n",
       "    If None, the random number generator is the RandomState instance used\n",
       "    by `np.random`.\n",
       "\n",
       "max_leaf_nodes : int or None, optional (default=None)\n",
       "    Grow a tree with ``max_leaf_nodes`` in best-first fashion.\n",
       "    Best nodes are defined as relative reduction in impurity.\n",
       "    If None then unlimited number of leaf nodes.\n",
       "\n",
       "min_impurity_decrease : float, optional (default=0.)\n",
       "    A node will be split if this split induces a decrease of the impurity\n",
       "    greater than or equal to this value.\n",
       "\n",
       "    The weighted impurity decrease equation is the following::\n",
       "\n",
       "        N_t / N * (impurity - N_t_R / N_t * right_impurity\n",
       "                            - N_t_L / N_t * left_impurity)\n",
       "\n",
       "    where ``N`` is the total number of samples, ``N_t`` is the number of\n",
       "    samples at the current node, ``N_t_L`` is the number of samples in the\n",
       "    left child, and ``N_t_R`` is the number of samples in the right child.\n",
       "\n",
       "    ``N``, ``N_t``, ``N_t_R`` and ``N_t_L`` all refer to the weighted sum,\n",
       "    if ``sample_weight`` is passed.\n",
       "\n",
       "    .. versionadded:: 0.19\n",
       "\n",
       "min_impurity_split : float, (default=1e-7)\n",
       "    Threshold for early stopping in tree growth. A node will split\n",
       "    if its impurity is above the threshold, otherwise it is a leaf.\n",
       "\n",
       "    .. deprecated:: 0.19\n",
       "       ``min_impurity_split`` has been deprecated in favor of\n",
       "       ``min_impurity_decrease`` in 0.19. The default value of\n",
       "       ``min_impurity_split`` will change from 1e-7 to 0 in 0.23 and it\n",
       "       will be removed in 0.25. Use ``min_impurity_decrease`` instead.\n",
       "\n",
       "class_weight : dict, list of dicts, \"balanced\" or None, default=None\n",
       "    Weights associated with classes in the form ``{class_label: weight}``.\n",
       "    If not given, all classes are supposed to have weight one. For\n",
       "    multi-output problems, a list of dicts can be provided in the same\n",
       "    order as the columns of y.\n",
       "\n",
       "    Note that for multioutput (including multilabel) weights should be\n",
       "    defined for each class of every column in its own dict. For example,\n",
       "    for four-class multilabel classification weights should be\n",
       "    [{0: 1, 1: 1}, {0: 1, 1: 5}, {0: 1, 1: 1}, {0: 1, 1: 1}] instead of\n",
       "    [{1:1}, {2:5}, {3:1}, {4:1}].\n",
       "\n",
       "    The \"balanced\" mode uses the values of y to automatically adjust\n",
       "    weights inversely proportional to class frequencies in the input data\n",
       "    as ``n_samples / (n_classes * np.bincount(y))``\n",
       "\n",
       "    For multi-output, the weights of each column of y will be multiplied.\n",
       "\n",
       "    Note that these weights will be multiplied with sample_weight (passed\n",
       "    through the fit method) if sample_weight is specified.\n",
       "\n",
       "presort : bool, optional (default=False)\n",
       "    Whether to presort the data to speed up the finding of best splits in\n",
       "    fitting. For the default settings of a decision tree on large\n",
       "    datasets, setting this to true may slow down the training process.\n",
       "    When using either a smaller dataset or a restricted depth, this may\n",
       "    speed up the training.\n",
       "\n",
       "Attributes\n",
       "----------\n",
       "classes_ : array of shape = [n_classes] or a list of such arrays\n",
       "    The classes labels (single output problem),\n",
       "    or a list of arrays of class labels (multi-output problem).\n",
       "\n",
       "feature_importances_ : array of shape = [n_features]\n",
       "    The feature importances. The higher, the more important the\n",
       "    feature. The importance of a feature is computed as the (normalized)\n",
       "    total reduction of the criterion brought by that feature.  It is also\n",
       "    known as the Gini importance [4]_.\n",
       "\n",
       "max_features_ : int,\n",
       "    The inferred value of max_features.\n",
       "\n",
       "n_classes_ : int or list\n",
       "    The number of classes (for single output problems),\n",
       "    or a list containing the number of classes for each\n",
       "    output (for multi-output problems).\n",
       "\n",
       "n_features_ : int\n",
       "    The number of features when ``fit`` is performed.\n",
       "\n",
       "n_outputs_ : int\n",
       "    The number of outputs when ``fit`` is performed.\n",
       "\n",
       "tree_ : Tree object\n",
       "    The underlying Tree object. Please refer to\n",
       "    ``help(sklearn.tree._tree.Tree)`` for attributes of Tree object and\n",
       "    :ref:`sphx_glr_auto_examples_tree_plot_unveil_tree_structure.py`\n",
       "    for basic usage of these attributes.\n",
       "\n",
       "Notes\n",
       "-----\n",
       "The default values for the parameters controlling the size of the trees\n",
       "(e.g. ``max_depth``, ``min_samples_leaf``, etc.) lead to fully grown and\n",
       "unpruned trees which can potentially be very large on some data sets. To\n",
       "reduce memory consumption, the complexity and size of the trees should be\n",
       "controlled by setting those parameter values.\n",
       "\n",
       "The features are always randomly permuted at each split. Therefore,\n",
       "the best found split may vary, even with the same training data and\n",
       "``max_features=n_features``, if the improvement of the criterion is\n",
       "identical for several splits enumerated during the search of the best\n",
       "split. To obtain a deterministic behaviour during fitting,\n",
       "``random_state`` has to be fixed.\n",
       "\n",
       "See also\n",
       "--------\n",
       "DecisionTreeRegressor\n",
       "\n",
       "References\n",
       "----------\n",
       "\n",
       ".. [1] https://en.wikipedia.org/wiki/Decision_tree_learning\n",
       "\n",
       ".. [2] L. Breiman, J. Friedman, R. Olshen, and C. Stone, \"Classification\n",
       "       and Regression Trees\", Wadsworth, Belmont, CA, 1984.\n",
       "\n",
       ".. [3] T. Hastie, R. Tibshirani and J. Friedman. \"Elements of Statistical\n",
       "       Learning\", Springer, 2009.\n",
       "\n",
       ".. [4] L. Breiman, and A. Cutler, \"Random Forests\",\n",
       "       https://www.stat.berkeley.edu/~breiman/RandomForests/cc_home.htm\n",
       "\n",
       "Examples\n",
       "--------\n",
       ">>> from sklearn.datasets import load_iris\n",
       ">>> from sklearn.model_selection import cross_val_score\n",
       ">>> from sklearn.tree import DecisionTreeClassifier\n",
       ">>> clf = DecisionTreeClassifier(random_state=0)\n",
       ">>> iris = load_iris()\n",
       ">>> cross_val_score(clf, iris.data, iris.target, cv=10)\n",
       "...                             # doctest: +SKIP\n",
       "...\n",
       "array([ 1.     ,  0.93...,  0.86...,  0.93...,  0.93...,\n",
       "        0.93...,  0.93...,  1.     ,  0.93...,  1.      ])\n",
       "\u001b[1;31mFile:\u001b[0m           c:\\users\\wtabraham\\appdata\\local\\continuum\\anaconda3\\lib\\site-packages\\sklearn\\tree\\tree.py\n",
       "\u001b[1;31mType:\u001b[0m           ABCMeta\n",
       "\u001b[1;31mSubclasses:\u001b[0m     ExtraTreeClassifier\n"
      ]
     },
     "metadata": {},
     "output_type": "display_data"
    },
    {
     "name": "stdout",
     "output_type": "stream",
     "text": [
      "The history saving thread hit an unexpected error (OperationalError('database is locked')).History will not be written to the database.\n"
     ]
    }
   ],
   "source": [
    "#RandomForestClassifier?\n",
    "DecisionTreeClassifier?"
   ]
  },
  {
   "cell_type": "code",
   "execution_count": 40,
   "metadata": {},
   "outputs": [
    {
     "data": {
      "text/plain": [
       "array([7.87289574e-05, 3.45684849e-04, 1.13798117e-02, 1.32522326e-04,\n",
       "       2.42956158e-04, 3.30723804e-05, 3.04222667e-05, 2.92189532e-05,\n",
       "       0.00000000e+00, 2.36409819e-04, 0.00000000e+00, 1.46607465e-06,\n",
       "       0.00000000e+00, 0.00000000e+00, 0.00000000e+00, 3.44562345e-02,\n",
       "       9.53033472e-01])"
      ]
     },
     "execution_count": 40,
     "metadata": {},
     "output_type": "execute_result"
    }
   ],
   "source": [
    "dtc.feature_importances_"
   ]
  },
  {
   "cell_type": "code",
   "execution_count": 43,
   "metadata": {},
   "outputs": [
    {
     "name": "stdout",
     "output_type": "stream",
     "text": [
      "{'is_academic_email': 7.872895735340259e-05, 'is_china_recipient': 0.00034568484868588456, 'prior_received': 0.011379811731073709, 'recent_received': 0.0001325223257835438, 'prior_responses': 0.0002429561579044525, 'recent_responses': 3.307238043614014e-05, 'prior_submissions_subject': 3.042226671543932e-05, 'prior_submissions_discipline': 2.9218953234189496e-05, 'recent_submissions_subject': 0.0, 'recent_submissions_discipline': 0.00023640981933919394, 'has_precise_code_match': 0.0, 'codes_in_discipline': 1.4660746462897716e-06, 'engaged': 0.0, 'cellcode_Non_House': 0.0, 'cellcode_SAGETrack': 0.0, 'region_India': 0.03445623450686125, 'region_UK': 0.9530334719779664}\n"
     ]
    }
   ],
   "source": [
    "print(dict(zip(engaged.columns, dtc.feature_importances_)))"
   ]
  },
  {
   "cell_type": "code",
   "execution_count": 46,
   "metadata": {},
   "outputs": [
    {
     "data": {
      "text/plain": [
       "[(0.9530334719779664, 'recent_response_rate'),\n",
       " (0.03445623450686125, 'prior_response_rate'),\n",
       " (0.011379811731073709, 'prior_received'),\n",
       " (0.00034568484868588456, 'is_china_recipient'),\n",
       " (0.0002429561579044525, 'recent_responses'),\n",
       " (0.00023640981933919394, 'codes_in_discipline'),\n",
       " (0.0001325223257835438, 'recent_received'),\n",
       " (7.872895735340259e-05, 'is_academic_email'),\n",
       " (3.307238043614014e-05, 'prior_submissions_subject'),\n",
       " (3.042226671543932e-05, 'prior_submissions_discipline'),\n",
       " (2.9218953234189496e-05, 'recent_submissions_subject'),\n",
       " (1.4660746462897716e-06, 'region_India'),\n",
       " (0.0, 'region_Unknown'),\n",
       " (0.0, 'region_US'),\n",
       " (0.0, 'region_UK'),\n",
       " (0.0, 'recent_submissions_discipline'),\n",
       " (0.0, 'cellcode_Non_House')]"
      ]
     },
     "execution_count": 46,
     "metadata": {},
     "output_type": "execute_result"
    }
   ],
   "source": [
    "sorted(zip(dtc.feature_importances_, X.columns))[::-1]"
   ]
  },
  {
   "cell_type": "code",
   "execution_count": 47,
   "metadata": {},
   "outputs": [
    {
     "data": {
      "text/plain": [
       "[(0.2744223872875974, 'recent_response_rate'),\n",
       " (0.25443499858648344, 'prior_response_rate'),\n",
       " (0.18023758574951013, 'recent_responses'),\n",
       " (0.13190634509120566, 'prior_received'),\n",
       " (0.05344778221903103, 'recent_received'),\n",
       " (0.02756727377418554, 'codes_in_discipline'),\n",
       " (0.024031122780490955, 'prior_submissions_discipline'),\n",
       " (0.009927462372534876, 'is_academic_email'),\n",
       " (0.009421933764444092, 'prior_submissions_subject'),\n",
       " (0.007404331045863015, 'recent_submissions_discipline'),\n",
       " (0.00671278551208908, 'region_UK'),\n",
       " (0.00633079947317784, 'is_china_recipient'),\n",
       " (0.004217537023598594, 'region_US'),\n",
       " (0.0034341426646960715, 'region_India'),\n",
       " (0.003187656446113445, 'region_Unknown'),\n",
       " (0.002017901049556974, 'recent_submissions_subject'),\n",
       " (0.00129795515942166, 'cellcode_Non_House')]"
      ]
     },
     "execution_count": 47,
     "metadata": {},
     "output_type": "execute_result"
    }
   ],
   "source": [
    "sorted(zip(rfc.feature_importances_, X.columns))[::-1]"
   ]
  },
  {
   "cell_type": "markdown",
   "metadata": {},
   "source": [
    "Re-try this with removed features reincluded..."
   ]
  },
  {
   "cell_type": "code",
   "execution_count": 51,
   "metadata": {},
   "outputs": [
    {
     "name": "stderr",
     "output_type": "stream",
     "text": [
      "C:\\Users\\WTabraham\\AppData\\Local\\Continuum\\anaconda3\\lib\\site-packages\\sklearn\\linear_model\\logistic.py:433: FutureWarning: Default solver will be changed to 'lbfgs' in 0.22. Specify a solver to silence this warning.\n",
      "  FutureWarning)\n"
     ]
    },
    {
     "data": {
      "text/plain": [
       "0.8783706105920607"
      ]
     },
     "execution_count": 51,
     "metadata": {},
     "output_type": "execute_result"
    }
   ],
   "source": [
    "from sklearn.linear_model import LogisticRegression\n",
    "from sklearn.model_selection import train_test_split\n",
    "\n",
    "target_col = 'engaged'\n",
    "\n",
    "Xff = engaged.drop(target_col, axis='columns')\n",
    "yff = engaged.loc[:, target_col]\n",
    "\n",
    "X_train, X_test, y_train, y_test = train_test_split(Xff,yff)\n",
    "\n",
    "lreff = LogisticRegression()\n",
    "\n",
    "lreff.fit(X_train, y_train)\n",
    "lreff.score(X_test, y_test)"
   ]
  },
  {
   "cell_type": "code",
   "execution_count": 52,
   "metadata": {},
   "outputs": [
    {
     "name": "stdout",
     "output_type": "stream",
     "text": [
      "0.8843345206212028\n",
      "0.8831578857059514\n"
     ]
    }
   ],
   "source": [
    "X_train, X_test, y_train, y_test = train_test_split(Xff,yff)\n",
    "\n",
    "from sklearn.tree import DecisionTreeClassifier\n",
    "\n",
    "dtc = DecisionTreeClassifier(max_depth=7)\n",
    "\n",
    "dtc.fit(X_train, y_train)\n",
    "print(dtc.score(X_train, y_train))\n",
    "print(dtc.score(X_test, y_test))"
   ]
  },
  {
   "cell_type": "code",
   "execution_count": 54,
   "metadata": {},
   "outputs": [
    {
     "data": {
      "text/plain": [
       "[(0.9455985011967162, 'recent_response_rate'),\n",
       " (0.031576822781094915, 'prior_response_rate'),\n",
       " (0.011272601449159654, 'prior_received'),\n",
       " (0.00737547590992723, 'prior_responses'),\n",
       " (0.00268648329936437, 'recent_received'),\n",
       " (0.0008313015595847722, 'codes_in_discipline'),\n",
       " (0.00038479014248028216, 'is_china_recipient'),\n",
       " (7.657775157561728e-05, 'is_academic_email'),\n",
       " (6.734787337032297e-05, 'recent_responses'),\n",
       " (5.526687980502991e-05, 'prior_submissions_discipline'),\n",
       " (4.847581603906024e-05, 'prior_submissions_subject'),\n",
       " (1.638086879478149e-05, 'recent_submissions_subject'),\n",
       " (8.9862282089481e-06, 'recent_submissions_discipline'),\n",
       " (9.882438788634e-07, 'region_Unknown'),\n",
       " (0.0, 'region_US'),\n",
       " (0.0, 'region_UK'),\n",
       " (0.0, 'region_India'),\n",
       " (0.0, 'has_precise_code_match'),\n",
       " (0.0, 'cellcode_SAGETrack'),\n",
       " (0.0, 'cellcode_Non_House')]"
      ]
     },
     "execution_count": 54,
     "metadata": {},
     "output_type": "execute_result"
    }
   ],
   "source": [
    "sorted(zip(dtc.feature_importances_, Xff.columns))[::-1]"
   ]
  },
  {
   "cell_type": "code",
   "execution_count": 55,
   "metadata": {},
   "outputs": [
    {
     "name": "stdout",
     "output_type": "stream",
     "text": [
      "0.8894220801226276\n",
      "0.8853928053603755\n"
     ]
    }
   ],
   "source": [
    "X_train, X_test, y_train, y_test = train_test_split(Xff,yff)\n",
    "\n",
    "from sklearn.ensemble import RandomForestClassifier\n",
    "\n",
    "rfc = RandomForestClassifier(n_estimators=100, oob_score=True, max_depth=12)\n",
    "\n",
    "rfc.fit(X_train, y_train)\n",
    "print(rfc.score(X_train, y_train))\n",
    "print(rfc.score(X_test, y_test))"
   ]
  },
  {
   "cell_type": "code",
   "execution_count": 56,
   "metadata": {},
   "outputs": [
    {
     "data": {
      "text/plain": [
       "[(0.4860286822026149, 'recent_response_rate'),\n",
       " (0.23392297011899438, 'recent_responses'),\n",
       " (0.1439540734925483, 'prior_response_rate'),\n",
       " (0.08170338430679681, 'prior_responses'),\n",
       " (0.019970600020806764, 'recent_received'),\n",
       " (0.01673698283567771, 'prior_received'),\n",
       " (0.003098203282205326, 'is_china_recipient'),\n",
       " (0.002853719022016702, 'prior_submissions_discipline'),\n",
       " (0.0024549128318605003, 'codes_in_discipline'),\n",
       " (0.0018344081540951126, 'cellcode_SAGETrack'),\n",
       " (0.0015709366000203856, 'recent_submissions_discipline'),\n",
       " (0.0013929421368241227, 'prior_submissions_subject'),\n",
       " (0.0012321673079306148, 'region_UK'),\n",
       " (0.0012036196633405688, 'is_academic_email'),\n",
       " (0.000584446238419844, 'recent_submissions_subject'),\n",
       " (0.00033438864175465606, 'region_India'),\n",
       " (0.0003223791965349066, 'region_US'),\n",
       " (0.0002975023005387726, 'has_precise_code_match'),\n",
       " (0.00026096393107280324, 'region_Unknown'),\n",
       " (0.00024271771594689486, 'cellcode_Non_House')]"
      ]
     },
     "execution_count": 56,
     "metadata": {},
     "output_type": "execute_result"
    }
   ],
   "source": [
    "sorted(zip(rfc.feature_importances_, Xff.columns))[::-1]"
   ]
  },
  {
   "cell_type": "markdown",
   "metadata": {},
   "source": [
    "### Test how models change with response rates retained and response numbers removed (wondering how co-correlation comes into effect)"
   ]
  },
  {
   "cell_type": "code",
   "execution_count": 57,
   "metadata": {},
   "outputs": [],
   "source": [
    "engaged_trimmed = engaged.drop(['recent_responses','prior_responses'], axis='columns')"
   ]
  },
  {
   "cell_type": "code",
   "execution_count": 58,
   "metadata": {},
   "outputs": [
    {
     "name": "stderr",
     "output_type": "stream",
     "text": [
      "C:\\Users\\WTabraham\\AppData\\Local\\Continuum\\anaconda3\\lib\\site-packages\\sklearn\\linear_model\\logistic.py:433: FutureWarning: Default solver will be changed to 'lbfgs' in 0.22. Specify a solver to silence this warning.\n",
      "  FutureWarning)\n"
     ]
    },
    {
     "data": {
      "text/plain": [
       "0.878735232800556"
      ]
     },
     "execution_count": 58,
     "metadata": {},
     "output_type": "execute_result"
    }
   ],
   "source": [
    "target_col = 'engaged'\n",
    "\n",
    "X_trim = engaged_trimmed.drop(target_col, axis='columns')\n",
    "y_trim = engaged_trimmed.loc[:, target_col]\n",
    "\n",
    "X_train, X_test, y_train, y_test = train_test_split(X_trim,y_trim)\n",
    "\n",
    "lr_trim = LogisticRegression()\n",
    "\n",
    "lr_trim.fit(X_train, y_train)\n",
    "lr_trim.score(X_test, y_test)"
   ]
  },
  {
   "cell_type": "code",
   "execution_count": 60,
   "metadata": {},
   "outputs": [
    {
     "name": "stdout",
     "output_type": "stream",
     "text": [
      "0.8832277833940799\n",
      "0.883247968839815\n"
     ]
    }
   ],
   "source": [
    "dtc_trim = DecisionTreeClassifier(max_depth=7)\n",
    "\n",
    "dtc_trim.fit(X_train, y_train)\n",
    "print(dtc_trim.score(X_train, y_train))\n",
    "print(dtc_trim.score(X_test, y_test))"
   ]
  },
  {
   "cell_type": "code",
   "execution_count": 61,
   "metadata": {},
   "outputs": [
    {
     "data": {
      "text/plain": [
       "[(0.9512592589521726, 'recent_response_rate'),\n",
       " (0.030191452586031547, 'prior_response_rate'),\n",
       " (0.017123709011974693, 'prior_received'),\n",
       " (0.0006231078616797187, 'recent_received'),\n",
       " (0.00046178194904158564, 'codes_in_discipline'),\n",
       " (0.00017852123512867682, 'is_china_recipient'),\n",
       " (6.037147551429369e-05, 'is_academic_email'),\n",
       " (5.295060643781091e-05, 'prior_submissions_subject'),\n",
       " (2.262665245233154e-05, 'prior_submissions_discipline'),\n",
       " (2.225193715398858e-05, 'recent_submissions_subject'),\n",
       " (2.4410476522023965e-06, 'cellcode_SAGETrack'),\n",
       " (1.5266847605386049e-06, 'region_India'),\n",
       " (0.0, 'region_Unknown'),\n",
       " (0.0, 'region_US'),\n",
       " (0.0, 'region_UK'),\n",
       " (0.0, 'recent_submissions_discipline'),\n",
       " (0.0, 'has_precise_code_match'),\n",
       " (0.0, 'cellcode_Non_House')]"
      ]
     },
     "execution_count": 61,
     "metadata": {},
     "output_type": "execute_result"
    }
   ],
   "source": [
    "sorted(zip(dtc_trim.feature_importances_, X_trim.columns))[::-1]"
   ]
  },
  {
   "cell_type": "code",
   "execution_count": 62,
   "metadata": {},
   "outputs": [
    {
     "name": "stdout",
     "output_type": "stream",
     "text": [
      "0.8861075880134924\n",
      "0.8826731526523048\n"
     ]
    }
   ],
   "source": [
    "rfc_trim = RandomForestClassifier(n_estimators=100, oob_score=True, max_depth=12)\n",
    "\n",
    "rfc_trim.fit(X_train, y_train)\n",
    "print(rfc_trim.score(X_train, y_train))\n",
    "print(rfc_trim.score(X_test, y_test))"
   ]
  },
  {
   "cell_type": "code",
   "execution_count": 63,
   "metadata": {},
   "outputs": [
    {
     "data": {
      "text/plain": [
       "[(0.6444458407206183, 'recent_response_rate'),\n",
       " (0.30985725306153084, 'prior_response_rate'),\n",
       " (0.015601852554621298, 'prior_received'),\n",
       " (0.009030892027442429, 'recent_received'),\n",
       " (0.004182106052120746, 'is_china_recipient'),\n",
       " (0.002684965572792472, 'prior_submissions_discipline'),\n",
       " (0.0025547183100004985, 'codes_in_discipline'),\n",
       " (0.002475653531220384, 'recent_submissions_discipline'),\n",
       " (0.002364151268608372, 'is_academic_email'),\n",
       " (0.002122586365563806, 'region_UK'),\n",
       " (0.001408913596386583, 'prior_submissions_subject'),\n",
       " (0.000849157591678203, 'cellcode_SAGETrack'),\n",
       " (0.0007988675556764142, 'recent_submissions_subject'),\n",
       " (0.00042089067011571025, 'region_India'),\n",
       " (0.0003363117218116219, 'has_precise_code_match'),\n",
       " (0.00033076614815409394, 'region_US'),\n",
       " (0.000293256064970256, 'cellcode_Non_House'),\n",
       " (0.00024181718668822208, 'region_Unknown')]"
      ]
     },
     "execution_count": 63,
     "metadata": {},
     "output_type": "execute_result"
    }
   ],
   "source": [
    "sorted(zip(rfc_trim.feature_importances_, X_trim.columns))[::-1]"
   ]
  },
  {
   "cell_type": "code",
   "execution_count": null,
   "metadata": {},
   "outputs": [],
   "source": [
    "Slightly better R2 scores for LR on the trimmed data, slightly worse R2 scores for DTC and RFC R2 scores... but very slight (< 0.5%) so worth retaining (?)"
   ]
  },
  {
   "cell_type": "markdown",
   "metadata": {},
   "source": [
    "### Test how models change with response rates retained and delivered numbers removed (wondering how co-correlation comes into effect)"
   ]
  },
  {
   "cell_type": "code",
   "execution_count": 64,
   "metadata": {},
   "outputs": [],
   "source": [
    "engaged_t2 = engaged.drop(['recent_responses','prior_responses'], axis='columns')"
   ]
  },
  {
   "cell_type": "code",
   "execution_count": 65,
   "metadata": {},
   "outputs": [
    {
     "name": "stderr",
     "output_type": "stream",
     "text": [
      "C:\\Users\\WTabraham\\AppData\\Local\\Continuum\\anaconda3\\lib\\site-packages\\sklearn\\linear_model\\logistic.py:433: FutureWarning: Default solver will be changed to 'lbfgs' in 0.22. Specify a solver to silence this warning.\n",
      "  FutureWarning)\n"
     ]
    },
    {
     "data": {
      "text/plain": [
       "0.8791684897777091"
      ]
     },
     "execution_count": 65,
     "metadata": {},
     "output_type": "execute_result"
    }
   ],
   "source": [
    "target_col = 'engaged'\n",
    "\n",
    "X_t2 = engaged_trimmed.drop(target_col, axis='columns')\n",
    "y_t2 = engaged_trimmed.loc[:, target_col]\n",
    "\n",
    "X_train, X_test, y_train, y_test = train_test_split(X_t2,y_t2)\n",
    "\n",
    "lr_t2 = LogisticRegression()\n",
    "\n",
    "lr_t2.fit(X_train, y_train)\n",
    "lr_t2.score(X_test, y_test)"
   ]
  },
  {
   "cell_type": "code",
   "execution_count": 66,
   "metadata": {},
   "outputs": [
    {
     "name": "stdout",
     "output_type": "stream",
     "text": [
      "0.8823355301257019\n",
      "0.8826860216714282\n"
     ]
    }
   ],
   "source": [
    "dtc_t2 = DecisionTreeClassifier(max_depth=7)\n",
    "\n",
    "dtc_t2.fit(X_train, y_train)\n",
    "print(dtc_t2.score(X_train, y_train))\n",
    "print(dtc_t2.score(X_test, y_test))"
   ]
  },
  {
   "cell_type": "code",
   "execution_count": 67,
   "metadata": {},
   "outputs": [
    {
     "name": "stdout",
     "output_type": "stream",
     "text": [
      "0.8858044506851332\n",
      "0.8833423416467197\n"
     ]
    }
   ],
   "source": [
    "rfc_t2 = RandomForestClassifier(n_estimators=100, oob_score=True, max_depth=12)\n",
    "\n",
    "rfc_t2.fit(X_train, y_train)\n",
    "print(rfc_t2.score(X_train, y_train))\n",
    "print(rfc_t2.score(X_test, y_test))"
   ]
  },
  {
   "cell_type": "markdown",
   "metadata": {},
   "source": [
    "### APAC only segment"
   ]
  },
  {
   "cell_type": "code",
   "execution_count": 36,
   "metadata": {},
   "outputs": [],
   "source": [
    "engagement_raw = pd.read_csv('engagement_full.csv')"
   ]
  },
  {
   "cell_type": "code",
   "execution_count": 37,
   "metadata": {},
   "outputs": [],
   "source": [
    "engaged = engagement_raw.drop(['email','launch_id', 'date_launched', 'engagements'], axis='columns')"
   ]
  },
  {
   "cell_type": "code",
   "execution_count": 38,
   "metadata": {},
   "outputs": [],
   "source": [
    "engaged_apac = engaged.loc[engaged.loc[:, 'region'] == 'APAC']"
   ]
  },
  {
   "cell_type": "code",
   "execution_count": 39,
   "metadata": {},
   "outputs": [
    {
     "data": {
      "text/plain": [
       "(425408, 15)"
      ]
     },
     "execution_count": 39,
     "metadata": {},
     "output_type": "execute_result"
    }
   ],
   "source": [
    "engaged_apac.shape"
   ]
  },
  {
   "cell_type": "code",
   "execution_count": 40,
   "metadata": {},
   "outputs": [],
   "source": [
    "engaged_row = engaged.loc[engaged.loc[:, 'region'] != 'APAC']"
   ]
  },
  {
   "cell_type": "code",
   "execution_count": 41,
   "metadata": {},
   "outputs": [
    {
     "data": {
      "text/plain": [
       "(507063, 15)"
      ]
     },
     "execution_count": 41,
     "metadata": {},
     "output_type": "execute_result"
    }
   ],
   "source": [
    "engaged_row.shape"
   ]
  },
  {
   "cell_type": "code",
   "execution_count": 42,
   "metadata": {},
   "outputs": [],
   "source": [
    "engaged_apac = engaged_apac.drop('region', axis='columns')"
   ]
  },
  {
   "cell_type": "code",
   "execution_count": 43,
   "metadata": {},
   "outputs": [],
   "source": [
    "engaged_row = engaged_row.drop('region', axis='columns')"
   ]
  },
  {
   "cell_type": "code",
   "execution_count": 15,
   "metadata": {},
   "outputs": [],
   "source": [
    "engaged_apac = pd.get_dummies(engaged_apac, drop_first=True)"
   ]
  },
  {
   "cell_type": "code",
   "execution_count": 44,
   "metadata": {},
   "outputs": [],
   "source": [
    "engaged_row = pd.get_dummies(engaged_row, drop_first=True)"
   ]
  },
  {
   "cell_type": "code",
   "execution_count": 45,
   "metadata": {},
   "outputs": [],
   "source": [
    "engaged_apac.loc[:, 'recent_response_rate'] = (engaged_apac.loc[:, 'recent_responses'] / engaged_apac.loc[:, 'recent_received']).astype(float)"
   ]
  },
  {
   "cell_type": "code",
   "execution_count": 46,
   "metadata": {},
   "outputs": [],
   "source": [
    "engaged_row.loc[:, 'recent_response_rate'] = (engaged_row.loc[:, 'recent_responses'] / engaged_row.loc[:, 'recent_received']).astype(float)"
   ]
  },
  {
   "cell_type": "code",
   "execution_count": 52,
   "metadata": {},
   "outputs": [
    {
     "name": "stderr",
     "output_type": "stream",
     "text": [
      "C:\\Users\\WTabraham\\AppData\\Local\\Continuum\\anaconda3\\lib\\site-packages\\sklearn\\linear_model\\logistic.py:433: FutureWarning: Default solver will be changed to 'lbfgs' in 0.22. Specify a solver to silence this warning.\n",
      "  FutureWarning)\n"
     ]
    },
    {
     "data": {
      "text/plain": [
       "0.8568997292011433"
      ]
     },
     "execution_count": 52,
     "metadata": {},
     "output_type": "execute_result"
    }
   ],
   "source": [
    "from sklearn.linear_model import LogisticRegression\n",
    "from sklearn.model_selection import train_test_split\n",
    "\n",
    "target_col = 'engaged'\n",
    "\n",
    "#X_apac = engaged_apac.loc[:, ['recent_response_rate']]\n",
    "X_apac = engaged_apac.loc[:, ['recent_responses']]\n",
    "y_apac = engaged_apac.loc[:, target_col]\n",
    "\n",
    "X_train, X_test, y_train, y_test = train_test_split(X_apac,y_apac)\n",
    "\n",
    "lr_apac = LogisticRegression()\n",
    "\n",
    "lr_apac.fit(X_train, y_train)\n",
    "lr_apac.score(X_test, y_test)"
   ]
  },
  {
   "cell_type": "code",
   "execution_count": 53,
   "metadata": {},
   "outputs": [
    {
     "data": {
      "image/png": "[encoded data removed]",
      "text/plain": [
       "<Figure size 432x288 with 1 Axes>"
      ]
     },
     "metadata": {
      "needs_background": "light"
     },
     "output_type": "display_data"
    }
   ],
   "source": [
    "y_pred_prob_a = lr_apac.predict_proba(X_test)\n",
    "\n",
    "x_grid = np.linspace(start=engaged_apac.loc[:, 'recent_responses'].min(), stop=engaged_apac.loc[:, 'recent_responses'].max(), num=100)\n",
    "pred_probs = lr_apac.predict_proba(x_grid.reshape(-1, 1))[:, 1]\n",
    "preds = lr_apac.predict(x_grid.reshape(-1, 1))\n",
    "ax = engaged_apac.plot(kind='scatter', x='recent_responses', y='engaged', alpha=.02)\n",
    "ax.plot(x_grid, pred_probs, c='r')\n",
    "ax.plot(x_grid, preds, c='g');"
   ]
  },
  {
   "cell_type": "code",
   "execution_count": 55,
   "metadata": {},
   "outputs": [
    {
     "name": "stderr",
     "output_type": "stream",
     "text": [
      "C:\\Users\\WTabraham\\AppData\\Local\\Continuum\\anaconda3\\lib\\site-packages\\sklearn\\linear_model\\logistic.py:433: FutureWarning: Default solver will be changed to 'lbfgs' in 0.22. Specify a solver to silence this warning.\n",
      "  FutureWarning)\n"
     ]
    },
    {
     "data": {
      "text/plain": [
       "0.8287474559424451"
      ]
     },
     "execution_count": 55,
     "metadata": {},
     "output_type": "execute_result"
    }
   ],
   "source": [
    "target_col = 'engaged'\n",
    "\n",
    "#X_row = engaged_row.loc[:, ['recent_response_rate']]\n",
    "X_row = engaged_row.loc[:, ['recent_responses']]\n",
    "y_row = engaged_row.loc[:, target_col]\n",
    "\n",
    "X_train, X_test, y_train, y_test = train_test_split(X_row,y_row)\n",
    "\n",
    "lr_row = LogisticRegression()\n",
    "\n",
    "lr_row.fit(X_train, y_train)\n",
    "lr_row.score(X_test, y_test)"
   ]
  },
  {
   "cell_type": "code",
   "execution_count": 56,
   "metadata": {},
   "outputs": [
    {
     "data": {
      "image/png": "[encoded data removed]",
      "text/plain": [
       "<Figure size 432x288 with 1 Axes>"
      ]
     },
     "metadata": {
      "needs_background": "light"
     },
     "output_type": "display_data"
    }
   ],
   "source": [
    "#y_pred_prob_r = lr_row.predict_proba(X_test)\n",
    "\n",
    "x_grid = np.linspace(start=engaged_row.loc[:, 'recent_responses'].min(), stop=engaged_row.loc[:, 'recent_responses'].max(), num=100)\n",
    "pred_probs = lr_row.predict_proba(x_grid.reshape(-1, 1))[:, 1]\n",
    "preds = lr_row.predict(x_grid.reshape(-1, 1))\n",
    "ax = engaged_row.plot(kind='scatter', x='recent_responses', y='engaged', alpha=.02)\n",
    "ax.plot(x_grid, pred_probs, c='r')\n",
    "ax.plot(x_grid, preds, c='g');"
   ]
  },
  {
   "cell_type": "code",
   "execution_count": 50,
   "metadata": {},
   "outputs": [
    {
     "data": {
      "text/plain": [
       "(507063, 18)"
      ]
     },
     "execution_count": 50,
     "metadata": {},
     "output_type": "execute_result"
    }
   ],
   "source": [
    "engaged_row.shape"
   ]
  },
  {
   "cell_type": "code",
   "execution_count": 35,
   "metadata": {},
   "outputs": [
    {
     "data": {
      "text/plain": [
       "(425408, 18)"
      ]
     },
     "execution_count": 35,
     "metadata": {},
     "output_type": "execute_result"
    }
   ],
   "source": [
    "engaged_apac.shape"
   ]
  },
  {
   "cell_type": "code",
   "execution_count": null,
   "metadata": {},
   "outputs": [],
   "source": []
  }
 ],
 "metadata": {
  "kernelspec": {
   "display_name": "Python 3",
   "language": "python",
   "name": "python3"
  },
  "language_info": {
   "codemirror_mode": {
    "name": "ipython",
    "version": 3
   },
   "file_extension": ".py",
   "mimetype": "text/x-python",
   "name": "python",
   "nbconvert_exporter": "python",
   "pygments_lexer": "ipython3",
   "version": "3.7.1"
  }
 },
 "nbformat": 4,
 "nbformat_minor": 2
}
