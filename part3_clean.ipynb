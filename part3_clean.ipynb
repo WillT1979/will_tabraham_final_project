{
 "cells": [
  {
   "cell_type": "markdown",
   "metadata": {},
   "source": [
    "# Final Project Part 3"
   ]
  },
  {
   "cell_type": "markdown",
   "metadata": {},
   "source": [
    "Following discoveries in part 2, I have reformatted the data being used in the model, exchanging flags for counts where possible (including the taget variable), including email received counts both prior and recent. Following advice I will also be using the full dataset of close to a million rows in the model"
   ]
  },
  {
   "cell_type": "markdown",
   "metadata": {},
   "source": [
    "### Import Libraries"
   ]
  },
  {
   "cell_type": "code",
   "execution_count": 1,
   "metadata": {},
   "outputs": [],
   "source": [
    "import pandas as pd\n",
    "import matplotlib.pyplot as plt\n",
    "import numpy as np\n",
    "import seaborn as sns\n",
    "import sklearn.metrics\n",
    "from pathlib import Path\n",
    "\n",
    "%matplotlib inline"
   ]
  },
  {
   "cell_type": "markdown",
   "metadata": {},
   "source": [
    "### Import Raw Data"
   ]
  },
  {
   "cell_type": "code",
   "execution_count": 10,
   "metadata": {},
   "outputs": [],
   "source": [
    "engagement_raw = pd.read_csv('../engagement_full.csv')"
   ]
  },
  {
   "cell_type": "code",
   "execution_count": 11,
   "metadata": {},
   "outputs": [
    {
     "data": {
      "text/html": [
       "<div>\n",
       "<style scoped>\n",
       "    .dataframe tbody tr th:only-of-type {\n",
       "        vertical-align: middle;\n",
       "    }\n",
       "\n",
       "    .dataframe tbody tr th {\n",
       "        vertical-align: top;\n",
       "    }\n",
       "\n",
       "    .dataframe thead th {\n",
       "        text-align: right;\n",
       "    }\n",
       "</style>\n",
       "<table border=\"1\" class=\"dataframe\">\n",
       "  <thead>\n",
       "    <tr style=\"text-align: right;\">\n",
       "      <th></th>\n",
       "      <th>email</th>\n",
       "      <th>launch_id</th>\n",
       "      <th>cellcode</th>\n",
       "      <th>date_launched</th>\n",
       "      <th>region</th>\n",
       "      <th>is_academic_email</th>\n",
       "      <th>is_china_recipient</th>\n",
       "      <th>prior_received</th>\n",
       "      <th>recent_received</th>\n",
       "      <th>prior_responses</th>\n",
       "      <th>recent_responses</th>\n",
       "      <th>prior_submissions_subject</th>\n",
       "      <th>prior_submissions_discipline</th>\n",
       "      <th>recent_submissions_subject</th>\n",
       "      <th>recent_submissions_discipline</th>\n",
       "      <th>has_precise_code_match</th>\n",
       "      <th>codes_in_discipline</th>\n",
       "      <th>engagements</th>\n",
       "      <th>engaged</th>\n",
       "    </tr>\n",
       "  </thead>\n",
       "  <tbody>\n",
       "    <tr>\n",
       "      <th>0</th>\n",
       "      <td>00008394@ufrgs.br</td>\n",
       "      <td>92170</td>\n",
       "      <td>HOUSE</td>\n",
       "      <td>3/30/2019</td>\n",
       "      <td>UK</td>\n",
       "      <td>0</td>\n",
       "      <td>0</td>\n",
       "      <td>189</td>\n",
       "      <td>16</td>\n",
       "      <td>9</td>\n",
       "      <td>0</td>\n",
       "      <td>0</td>\n",
       "      <td>0</td>\n",
       "      <td>0</td>\n",
       "      <td>0</td>\n",
       "      <td>0</td>\n",
       "      <td>1</td>\n",
       "      <td>0</td>\n",
       "      <td>0</td>\n",
       "    </tr>\n",
       "    <tr>\n",
       "      <th>1</th>\n",
       "      <td>00010389@whu.edu.cn</td>\n",
       "      <td>92170</td>\n",
       "      <td>HOUSE</td>\n",
       "      <td>3/30/2019</td>\n",
       "      <td>APAC</td>\n",
       "      <td>1</td>\n",
       "      <td>1</td>\n",
       "      <td>6</td>\n",
       "      <td>7</td>\n",
       "      <td>0</td>\n",
       "      <td>0</td>\n",
       "      <td>0</td>\n",
       "      <td>0</td>\n",
       "      <td>0</td>\n",
       "      <td>0</td>\n",
       "      <td>0</td>\n",
       "      <td>1</td>\n",
       "      <td>0</td>\n",
       "      <td>0</td>\n",
       "    </tr>\n",
       "    <tr>\n",
       "      <th>2</th>\n",
       "      <td>000903@nuist.edu.cn</td>\n",
       "      <td>92170</td>\n",
       "      <td>HOUSE</td>\n",
       "      <td>3/30/2019</td>\n",
       "      <td>APAC</td>\n",
       "      <td>1</td>\n",
       "      <td>1</td>\n",
       "      <td>2</td>\n",
       "      <td>3</td>\n",
       "      <td>0</td>\n",
       "      <td>0</td>\n",
       "      <td>0</td>\n",
       "      <td>2</td>\n",
       "      <td>0</td>\n",
       "      <td>2</td>\n",
       "      <td>0</td>\n",
       "      <td>1</td>\n",
       "      <td>0</td>\n",
       "      <td>0</td>\n",
       "    </tr>\n",
       "    <tr>\n",
       "      <th>3</th>\n",
       "      <td>001_xiangyang@tongji.edu.cn</td>\n",
       "      <td>92170</td>\n",
       "      <td>HOUSE</td>\n",
       "      <td>3/30/2019</td>\n",
       "      <td>APAC</td>\n",
       "      <td>1</td>\n",
       "      <td>1</td>\n",
       "      <td>155</td>\n",
       "      <td>23</td>\n",
       "      <td>15</td>\n",
       "      <td>0</td>\n",
       "      <td>0</td>\n",
       "      <td>3</td>\n",
       "      <td>0</td>\n",
       "      <td>0</td>\n",
       "      <td>0</td>\n",
       "      <td>1</td>\n",
       "      <td>0</td>\n",
       "      <td>0</td>\n",
       "    </tr>\n",
       "    <tr>\n",
       "      <th>4</th>\n",
       "      <td>006579@yzu.edu.cn</td>\n",
       "      <td>92170</td>\n",
       "      <td>ST</td>\n",
       "      <td>3/30/2019</td>\n",
       "      <td>APAC</td>\n",
       "      <td>1</td>\n",
       "      <td>1</td>\n",
       "      <td>75</td>\n",
       "      <td>36</td>\n",
       "      <td>69</td>\n",
       "      <td>30</td>\n",
       "      <td>0</td>\n",
       "      <td>3</td>\n",
       "      <td>0</td>\n",
       "      <td>0</td>\n",
       "      <td>0</td>\n",
       "      <td>1</td>\n",
       "      <td>0</td>\n",
       "      <td>0</td>\n",
       "    </tr>\n",
       "  </tbody>\n",
       "</table>\n",
       "</div>"
      ],
      "text/plain": [
       "                         email  launch_id cellcode date_launched region  \\\n",
       "0            00008394@ufrgs.br      92170    HOUSE     3/30/2019     UK   \n",
       "1          00010389@whu.edu.cn      92170    HOUSE     3/30/2019   APAC   \n",
       "2          000903@nuist.edu.cn      92170    HOUSE     3/30/2019   APAC   \n",
       "3  001_xiangyang@tongji.edu.cn      92170    HOUSE     3/30/2019   APAC   \n",
       "4            006579@yzu.edu.cn      92170       ST     3/30/2019   APAC   \n",
       "\n",
       "   is_academic_email  is_china_recipient  prior_received  recent_received  \\\n",
       "0                  0                   0             189               16   \n",
       "1                  1                   1               6                7   \n",
       "2                  1                   1               2                3   \n",
       "3                  1                   1             155               23   \n",
       "4                  1                   1              75               36   \n",
       "\n",
       "   prior_responses  recent_responses  prior_submissions_subject  \\\n",
       "0                9                 0                          0   \n",
       "1                0                 0                          0   \n",
       "2                0                 0                          0   \n",
       "3               15                 0                          0   \n",
       "4               69                30                          0   \n",
       "\n",
       "   prior_submissions_discipline  recent_submissions_subject  \\\n",
       "0                             0                           0   \n",
       "1                             0                           0   \n",
       "2                             2                           0   \n",
       "3                             3                           0   \n",
       "4                             3                           0   \n",
       "\n",
       "   recent_submissions_discipline  has_precise_code_match  codes_in_discipline  \\\n",
       "0                              0                       0                    1   \n",
       "1                              0                       0                    1   \n",
       "2                              2                       0                    1   \n",
       "3                              0                       0                    1   \n",
       "4                              0                       0                    1   \n",
       "\n",
       "   engagements  engaged  \n",
       "0            0        0  \n",
       "1            0        0  \n",
       "2            0        0  \n",
       "3            0        0  \n",
       "4            0        0  "
      ]
     },
     "execution_count": 11,
     "metadata": {},
     "output_type": "execute_result"
    }
   ],
   "source": [
    "engagement_raw.head(5)"
   ]
  },
  {
   "cell_type": "markdown",
   "metadata": {},
   "source": [
    "### Check target variables"
   ]
  },
  {
   "cell_type": "markdown",
   "metadata": {},
   "source": [
    "In addition to counts for the features of the model, the data now includes the number of engagements as well as the fact of engagement. I will check the distribution of the engagement count, and run both target variables into basic Logistic Regression to determine which target variable to use in the final models"
   ]
  },
  {
   "cell_type": "code",
   "execution_count": 12,
   "metadata": {},
   "outputs": [
    {
     "data": {
      "text/plain": [
       "0     732687\n",
       "1     187780\n",
       "2       8946\n",
       "3       1170\n",
       "4        324\n",
       "8        297\n",
       "9        269\n",
       "10       249\n",
       "7        203\n",
       "6        154\n",
       "5        154\n",
       "11       144\n",
       "12        67\n",
       "13        16\n",
       "14         9\n",
       "16         2\n",
       "Name: engagements, dtype: int64"
      ]
     },
     "execution_count": 12,
     "metadata": {},
     "output_type": "execute_result"
    }
   ],
   "source": [
    "engagement_raw.loc[:, 'engagements'].value_counts()"
   ]
  },
  {
   "cell_type": "code",
   "execution_count": 13,
   "metadata": {},
   "outputs": [
    {
     "data": {
      "text/plain": [
       "0    732687\n",
       "1    199784\n",
       "Name: engaged, dtype: int64"
      ]
     },
     "execution_count": 13,
     "metadata": {},
     "output_type": "execute_result"
    }
   ],
   "source": [
    "engagement_raw.loc[:, 'engaged'].value_counts()"
   ]
  },
  {
   "cell_type": "markdown",
   "metadata": {},
   "source": [
    "93% of contacts who engaged only did so once... this may cause noise and challenges in interpretation, but will test out in models "
   ]
  },
  {
   "cell_type": "markdown",
   "metadata": {},
   "source": [
    "### Exploring data"
   ]
  },
  {
   "cell_type": "code",
   "execution_count": 15,
   "metadata": {},
   "outputs": [
    {
     "data": {
      "text/plain": [
       "(932471, 19)"
      ]
     },
     "execution_count": 15,
     "metadata": {},
     "output_type": "execute_result"
    }
   ],
   "source": [
    "engagement_raw.shape"
   ]
  },
  {
   "cell_type": "code",
   "execution_count": 16,
   "metadata": {},
   "outputs": [
    {
     "data": {
      "text/plain": [
       "Index(['email', 'launch_id', 'cellcode', 'date_launched', 'region',\n",
       "       'is_academic_email', 'is_china_recipient', 'prior_received',\n",
       "       'recent_received', 'prior_responses', 'recent_responses',\n",
       "       'prior_submissions_subject', 'prior_submissions_discipline',\n",
       "       'recent_submissions_subject', 'recent_submissions_discipline',\n",
       "       'has_precise_code_match', 'codes_in_discipline', 'engagements',\n",
       "       'engaged'],\n",
       "      dtype='object')"
      ]
     },
     "execution_count": 16,
     "metadata": {},
     "output_type": "execute_result"
    }
   ],
   "source": [
    "engagement_raw.columns"
   ]
  },
  {
   "cell_type": "code",
   "execution_count": 21,
   "metadata": {},
   "outputs": [
    {
     "name": "stdout",
     "output_type": "stream",
     "text": [
      "<class 'pandas.core.frame.DataFrame'>\n",
      "RangeIndex: 932471 entries, 0 to 932470\n",
      "Data columns (total 19 columns):\n",
      "email                            932471 non-null object\n",
      "launch_id                        932471 non-null int64\n",
      "cellcode                         932471 non-null object\n",
      "date_launched                    932471 non-null object\n",
      "region                           932471 non-null object\n",
      "is_academic_email                932471 non-null int64\n",
      "is_china_recipient               932471 non-null int64\n",
      "prior_received                   932471 non-null int64\n",
      "recent_received                  932471 non-null int64\n",
      "prior_responses                  932471 non-null int64\n",
      "recent_responses                 932471 non-null int64\n",
      "prior_submissions_subject        932471 non-null int64\n",
      "prior_submissions_discipline     932471 non-null int64\n",
      "recent_submissions_subject       932471 non-null int64\n",
      "recent_submissions_discipline    932471 non-null int64\n",
      "has_precise_code_match           932471 non-null int64\n",
      "codes_in_discipline              932471 non-null int64\n",
      "engagements                      932471 non-null int64\n",
      "engaged                          932471 non-null int64\n",
      "dtypes: int64(15), object(4)\n",
      "memory usage: 135.2+ MB\n"
     ]
    }
   ],
   "source": [
    "engagement_raw.info()"
   ]
  },
  {
   "cell_type": "code",
   "execution_count": 22,
   "metadata": {},
   "outputs": [
    {
     "data": {
      "text/plain": [
       "email                            object\n",
       "launch_id                         int64\n",
       "cellcode                         object\n",
       "date_launched                    object\n",
       "region                           object\n",
       "is_academic_email                 int64\n",
       "is_china_recipient                int64\n",
       "prior_received                    int64\n",
       "recent_received                   int64\n",
       "prior_responses                   int64\n",
       "recent_responses                  int64\n",
       "prior_submissions_subject         int64\n",
       "prior_submissions_discipline      int64\n",
       "recent_submissions_subject        int64\n",
       "recent_submissions_discipline     int64\n",
       "has_precise_code_match            int64\n",
       "codes_in_discipline               int64\n",
       "engagements                       int64\n",
       "engaged                           int64\n",
       "dtype: object"
      ]
     },
     "execution_count": 22,
     "metadata": {},
     "output_type": "execute_result"
    }
   ],
   "source": [
    "engagement_raw.dtypes"
   ]
  },
  {
   "cell_type": "code",
   "execution_count": 23,
   "metadata": {},
   "outputs": [
    {
     "data": {
      "text/plain": [
       "email                            0\n",
       "launch_id                        0\n",
       "cellcode                         0\n",
       "date_launched                    0\n",
       "region                           0\n",
       "is_academic_email                0\n",
       "is_china_recipient               0\n",
       "prior_received                   0\n",
       "recent_received                  0\n",
       "prior_responses                  0\n",
       "recent_responses                 0\n",
       "prior_submissions_subject        0\n",
       "prior_submissions_discipline     0\n",
       "recent_submissions_subject       0\n",
       "recent_submissions_discipline    0\n",
       "has_precise_code_match           0\n",
       "codes_in_discipline              0\n",
       "engagements                      0\n",
       "engaged                          0\n",
       "dtype: int64"
      ]
     },
     "execution_count": 23,
     "metadata": {},
     "output_type": "execute_result"
    }
   ],
   "source": [
    "engagement_raw.isna().sum()"
   ]
  },
  {
   "cell_type": "code",
   "execution_count": 17,
   "metadata": {},
   "outputs": [
    {
     "data": {
      "text/html": [
       "<div>\n",
       "<style scoped>\n",
       "    .dataframe tbody tr th:only-of-type {\n",
       "        vertical-align: middle;\n",
       "    }\n",
       "\n",
       "    .dataframe tbody tr th {\n",
       "        vertical-align: top;\n",
       "    }\n",
       "\n",
       "    .dataframe thead th {\n",
       "        text-align: right;\n",
       "    }\n",
       "</style>\n",
       "<table border=\"1\" class=\"dataframe\">\n",
       "  <thead>\n",
       "    <tr style=\"text-align: right;\">\n",
       "      <th></th>\n",
       "      <th>launch_id</th>\n",
       "      <th>is_academic_email</th>\n",
       "      <th>is_china_recipient</th>\n",
       "      <th>prior_received</th>\n",
       "      <th>recent_received</th>\n",
       "      <th>prior_responses</th>\n",
       "      <th>recent_responses</th>\n",
       "      <th>prior_submissions_subject</th>\n",
       "      <th>prior_submissions_discipline</th>\n",
       "      <th>recent_submissions_subject</th>\n",
       "      <th>recent_submissions_discipline</th>\n",
       "      <th>has_precise_code_match</th>\n",
       "      <th>codes_in_discipline</th>\n",
       "      <th>engagements</th>\n",
       "      <th>engaged</th>\n",
       "    </tr>\n",
       "  </thead>\n",
       "  <tbody>\n",
       "    <tr>\n",
       "      <th>count</th>\n",
       "      <td>932471.000000</td>\n",
       "      <td>932471.000000</td>\n",
       "      <td>932471.000000</td>\n",
       "      <td>932471.000000</td>\n",
       "      <td>932471.000000</td>\n",
       "      <td>932471.000000</td>\n",
       "      <td>932471.00000</td>\n",
       "      <td>932471.000000</td>\n",
       "      <td>932471.000000</td>\n",
       "      <td>932471.000000</td>\n",
       "      <td>932471.000000</td>\n",
       "      <td>932471.000000</td>\n",
       "      <td>932471.000000</td>\n",
       "      <td>932471.000000</td>\n",
       "      <td>932471.000000</td>\n",
       "    </tr>\n",
       "    <tr>\n",
       "      <th>mean</th>\n",
       "      <td>78171.367791</td>\n",
       "      <td>0.350539</td>\n",
       "      <td>0.362749</td>\n",
       "      <td>115.363895</td>\n",
       "      <td>23.353901</td>\n",
       "      <td>22.605042</td>\n",
       "      <td>5.29399</td>\n",
       "      <td>0.326025</td>\n",
       "      <td>1.281755</td>\n",
       "      <td>0.050768</td>\n",
       "      <td>0.197379</td>\n",
       "      <td>0.033024</td>\n",
       "      <td>1.368852</td>\n",
       "      <td>0.239829</td>\n",
       "      <td>0.214252</td>\n",
       "    </tr>\n",
       "    <tr>\n",
       "      <th>std</th>\n",
       "      <td>8519.231375</td>\n",
       "      <td>0.477139</td>\n",
       "      <td>0.480794</td>\n",
       "      <td>94.812789</td>\n",
       "      <td>12.817104</td>\n",
       "      <td>34.202984</td>\n",
       "      <td>8.30012</td>\n",
       "      <td>0.951367</td>\n",
       "      <td>2.223821</td>\n",
       "      <td>0.307813</td>\n",
       "      <td>0.671141</td>\n",
       "      <td>0.178700</td>\n",
       "      <td>2.196847</td>\n",
       "      <td>0.569788</td>\n",
       "      <td>0.410303</td>\n",
       "    </tr>\n",
       "    <tr>\n",
       "      <th>min</th>\n",
       "      <td>62490.000000</td>\n",
       "      <td>0.000000</td>\n",
       "      <td>0.000000</td>\n",
       "      <td>0.000000</td>\n",
       "      <td>1.000000</td>\n",
       "      <td>0.000000</td>\n",
       "      <td>0.00000</td>\n",
       "      <td>0.000000</td>\n",
       "      <td>0.000000</td>\n",
       "      <td>0.000000</td>\n",
       "      <td>0.000000</td>\n",
       "      <td>0.000000</td>\n",
       "      <td>0.000000</td>\n",
       "      <td>0.000000</td>\n",
       "      <td>0.000000</td>\n",
       "    </tr>\n",
       "    <tr>\n",
       "      <th>25%</th>\n",
       "      <td>68068.000000</td>\n",
       "      <td>0.000000</td>\n",
       "      <td>0.000000</td>\n",
       "      <td>46.000000</td>\n",
       "      <td>15.000000</td>\n",
       "      <td>2.000000</td>\n",
       "      <td>0.00000</td>\n",
       "      <td>0.000000</td>\n",
       "      <td>0.000000</td>\n",
       "      <td>0.000000</td>\n",
       "      <td>0.000000</td>\n",
       "      <td>0.000000</td>\n",
       "      <td>0.000000</td>\n",
       "      <td>0.000000</td>\n",
       "      <td>0.000000</td>\n",
       "    </tr>\n",
       "    <tr>\n",
       "      <th>50%</th>\n",
       "      <td>76158.000000</td>\n",
       "      <td>0.000000</td>\n",
       "      <td>0.000000</td>\n",
       "      <td>88.000000</td>\n",
       "      <td>21.000000</td>\n",
       "      <td>9.000000</td>\n",
       "      <td>2.00000</td>\n",
       "      <td>0.000000</td>\n",
       "      <td>1.000000</td>\n",
       "      <td>0.000000</td>\n",
       "      <td>0.000000</td>\n",
       "      <td>0.000000</td>\n",
       "      <td>1.000000</td>\n",
       "      <td>0.000000</td>\n",
       "      <td>0.000000</td>\n",
       "    </tr>\n",
       "    <tr>\n",
       "      <th>75%</th>\n",
       "      <td>87249.000000</td>\n",
       "      <td>1.000000</td>\n",
       "      <td>1.000000</td>\n",
       "      <td>165.000000</td>\n",
       "      <td>31.000000</td>\n",
       "      <td>29.000000</td>\n",
       "      <td>7.00000</td>\n",
       "      <td>0.000000</td>\n",
       "      <td>2.000000</td>\n",
       "      <td>0.000000</td>\n",
       "      <td>0.000000</td>\n",
       "      <td>0.000000</td>\n",
       "      <td>2.000000</td>\n",
       "      <td>0.000000</td>\n",
       "      <td>0.000000</td>\n",
       "    </tr>\n",
       "    <tr>\n",
       "      <th>max</th>\n",
       "      <td>92170.000000</td>\n",
       "      <td>1.000000</td>\n",
       "      <td>1.000000</td>\n",
       "      <td>929.000000</td>\n",
       "      <td>124.000000</td>\n",
       "      <td>606.000000</td>\n",
       "      <td>108.00000</td>\n",
       "      <td>27.000000</td>\n",
       "      <td>88.000000</td>\n",
       "      <td>13.000000</td>\n",
       "      <td>26.000000</td>\n",
       "      <td>1.000000</td>\n",
       "      <td>43.000000</td>\n",
       "      <td>16.000000</td>\n",
       "      <td>1.000000</td>\n",
       "    </tr>\n",
       "  </tbody>\n",
       "</table>\n",
       "</div>"
      ],
      "text/plain": [
       "           launch_id  is_academic_email  is_china_recipient  prior_received  \\\n",
       "count  932471.000000      932471.000000       932471.000000   932471.000000   \n",
       "mean    78171.367791           0.350539            0.362749      115.363895   \n",
       "std      8519.231375           0.477139            0.480794       94.812789   \n",
       "min     62490.000000           0.000000            0.000000        0.000000   \n",
       "25%     68068.000000           0.000000            0.000000       46.000000   \n",
       "50%     76158.000000           0.000000            0.000000       88.000000   \n",
       "75%     87249.000000           1.000000            1.000000      165.000000   \n",
       "max     92170.000000           1.000000            1.000000      929.000000   \n",
       "\n",
       "       recent_received  prior_responses  recent_responses  \\\n",
       "count    932471.000000    932471.000000      932471.00000   \n",
       "mean         23.353901        22.605042           5.29399   \n",
       "std          12.817104        34.202984           8.30012   \n",
       "min           1.000000         0.000000           0.00000   \n",
       "25%          15.000000         2.000000           0.00000   \n",
       "50%          21.000000         9.000000           2.00000   \n",
       "75%          31.000000        29.000000           7.00000   \n",
       "max         124.000000       606.000000         108.00000   \n",
       "\n",
       "       prior_submissions_subject  prior_submissions_discipline  \\\n",
       "count              932471.000000                 932471.000000   \n",
       "mean                    0.326025                      1.281755   \n",
       "std                     0.951367                      2.223821   \n",
       "min                     0.000000                      0.000000   \n",
       "25%                     0.000000                      0.000000   \n",
       "50%                     0.000000                      1.000000   \n",
       "75%                     0.000000                      2.000000   \n",
       "max                    27.000000                     88.000000   \n",
       "\n",
       "       recent_submissions_subject  recent_submissions_discipline  \\\n",
       "count               932471.000000                  932471.000000   \n",
       "mean                     0.050768                       0.197379   \n",
       "std                      0.307813                       0.671141   \n",
       "min                      0.000000                       0.000000   \n",
       "25%                      0.000000                       0.000000   \n",
       "50%                      0.000000                       0.000000   \n",
       "75%                      0.000000                       0.000000   \n",
       "max                     13.000000                      26.000000   \n",
       "\n",
       "       has_precise_code_match  codes_in_discipline    engagements  \\\n",
       "count           932471.000000        932471.000000  932471.000000   \n",
       "mean                 0.033024             1.368852       0.239829   \n",
       "std                  0.178700             2.196847       0.569788   \n",
       "min                  0.000000             0.000000       0.000000   \n",
       "25%                  0.000000             0.000000       0.000000   \n",
       "50%                  0.000000             1.000000       0.000000   \n",
       "75%                  0.000000             2.000000       0.000000   \n",
       "max                  1.000000            43.000000      16.000000   \n",
       "\n",
       "             engaged  \n",
       "count  932471.000000  \n",
       "mean        0.214252  \n",
       "std         0.410303  \n",
       "min         0.000000  \n",
       "25%         0.000000  \n",
       "50%         0.000000  \n",
       "75%         0.000000  \n",
       "max         1.000000  "
      ]
     },
     "execution_count": 17,
     "metadata": {},
     "output_type": "execute_result"
    }
   ],
   "source": [
    "engagement_raw.describe()"
   ]
  },
  {
   "cell_type": "code",
   "execution_count": 18,
   "metadata": {},
   "outputs": [
    {
     "data": {
      "text/html": [
       "<div>\n",
       "<style scoped>\n",
       "    .dataframe tbody tr th:only-of-type {\n",
       "        vertical-align: middle;\n",
       "    }\n",
       "\n",
       "    .dataframe tbody tr th {\n",
       "        vertical-align: top;\n",
       "    }\n",
       "\n",
       "    .dataframe thead th {\n",
       "        text-align: right;\n",
       "    }\n",
       "</style>\n",
       "<table border=\"1\" class=\"dataframe\">\n",
       "  <thead>\n",
       "    <tr style=\"text-align: right;\">\n",
       "      <th></th>\n",
       "      <th>email</th>\n",
       "      <th>cellcode</th>\n",
       "      <th>date_launched</th>\n",
       "      <th>region</th>\n",
       "    </tr>\n",
       "  </thead>\n",
       "  <tbody>\n",
       "    <tr>\n",
       "      <th>count</th>\n",
       "      <td>932471</td>\n",
       "      <td>932471</td>\n",
       "      <td>932471</td>\n",
       "      <td>932471</td>\n",
       "    </tr>\n",
       "    <tr>\n",
       "      <th>unique</th>\n",
       "      <td>152291</td>\n",
       "      <td>5</td>\n",
       "      <td>22</td>\n",
       "      <td>5</td>\n",
       "    </tr>\n",
       "    <tr>\n",
       "      <th>top</th>\n",
       "      <td>h.ouyang@liverpool.ac.uk</td>\n",
       "      <td>ST</td>\n",
       "      <td>2/12/2019</td>\n",
       "      <td>APAC</td>\n",
       "    </tr>\n",
       "    <tr>\n",
       "      <th>freq</th>\n",
       "      <td>24</td>\n",
       "      <td>539238</td>\n",
       "      <td>105178</td>\n",
       "      <td>425408</td>\n",
       "    </tr>\n",
       "  </tbody>\n",
       "</table>\n",
       "</div>"
      ],
      "text/plain": [
       "                           email cellcode date_launched  region\n",
       "count                     932471   932471        932471  932471\n",
       "unique                    152291        5            22       5\n",
       "top     h.ouyang@liverpool.ac.uk       ST     2/12/2019    APAC\n",
       "freq                          24   539238        105178  425408"
      ]
     },
     "execution_count": 18,
     "metadata": {},
     "output_type": "execute_result"
    }
   ],
   "source": [
    "engagement_raw.describe(include='object')"
   ]
  },
  {
   "cell_type": "markdown",
   "metadata": {},
   "source": [
    "The cellcode field should only have 3 values but is showing 5. Investigate and address the issue"
   ]
  },
  {
   "cell_type": "code",
   "execution_count": 24,
   "metadata": {},
   "outputs": [
    {
     "data": {
      "text/plain": [
       "ST       539238\n",
       "HOUSE    361354\n",
       "NH        20870\n",
       "ST1        6363\n",
       "ST2        4646\n",
       "Name: cellcode, dtype: int64"
      ]
     },
     "execution_count": 24,
     "metadata": {},
     "output_type": "execute_result"
    }
   ],
   "source": [
    "engagement_raw.loc[:, 'cellcode'].value_counts()"
   ]
  },
  {
   "cell_type": "code",
   "execution_count": 27,
   "metadata": {},
   "outputs": [
    {
     "data": {
      "text/plain": [
       "SAGETrack    550247\n",
       "House        361354\n",
       "Non_House     20870\n",
       "Name: cellcode, dtype: int64"
      ]
     },
     "execution_count": 27,
     "metadata": {},
     "output_type": "execute_result"
    }
   ],
   "source": [
    "# ST1 and ST2 have no significance over ST - replace these values, and clarify the meanings by renaming all columns\n",
    "\n",
    "engagement_raw.loc[:, 'cellcode'] = engagement_raw.loc[:, 'cellcode'].replace(['ST','ST1', 'ST2'],'SAGETrack')\n",
    "engagement_raw.loc[:, 'cellcode'] = engagement_raw.loc[:, 'cellcode'].replace('HOUSE','House')\n",
    "engagement_raw.loc[:, 'cellcode'] = engagement_raw.loc[:, 'cellcode'].replace('NH','Non_House')\n",
    "\n",
    "engagement_raw.loc[:, 'cellcode'].value_counts()"
   ]
  },
  {
   "cell_type": "markdown",
   "metadata": {},
   "source": [
    "Drop unneeded columns and dummy cellcode and region field"
   ]
  },
  {
   "cell_type": "code",
   "execution_count": 28,
   "metadata": {},
   "outputs": [],
   "source": [
    "engagement_raw = engagement_raw.drop(['email','launch_id', 'date_launched'], axis='columns')"
   ]
  },
  {
   "cell_type": "code",
   "execution_count": 29,
   "metadata": {},
   "outputs": [],
   "source": [
    "engagement_raw = pd.get_dummies(engagement_raw, drop_first=True)"
   ]
  },
  {
   "cell_type": "code",
   "execution_count": 30,
   "metadata": {},
   "outputs": [
    {
     "data": {
      "text/plain": [
       "(932471, 20)"
      ]
     },
     "execution_count": 30,
     "metadata": {},
     "output_type": "execute_result"
    }
   ],
   "source": [
    "engagement_raw.shape"
   ]
  },
  {
   "cell_type": "code",
   "execution_count": null,
   "metadata": {},
   "outputs": [],
   "source": [
    "# Visualize correlation\n",
    "fig, ax = plt.subplots(figsize=(20,14))         \n",
    "sns.heatmap(engaged.corr(),vmin=-1, vmax=1,cmap=sns.diverging_palette(h_neg=220, h_pos=10, n=21), linewidths=.5, annot=True, ax=ax);"
   ]
  },
  {
   "cell_type": "markdown",
   "metadata": {},
   "source": [
    "### Test Engagements v Engaged"
   ]
  },
  {
   "cell_type": "code",
   "execution_count": 32,
   "metadata": {},
   "outputs": [
    {
     "name": "stderr",
     "output_type": "stream",
     "text": [
      "C:\\Users\\WTabraham\\AppData\\Local\\Continuum\\anaconda3\\lib\\site-packages\\sklearn\\linear_model\\logistic.py:433: FutureWarning: Default solver will be changed to 'lbfgs' in 0.22. Specify a solver to silence this warning.\n",
      "  FutureWarning)\n",
      "C:\\Users\\WTabraham\\AppData\\Local\\Continuum\\anaconda3\\lib\\site-packages\\sklearn\\linear_model\\logistic.py:460: FutureWarning: Default multi_class will be changed to 'auto' in 0.22. Specify the multi_class option to silence this warning.\n",
      "  \"this warning.\", FutureWarning)\n"
     ]
    },
    {
     "data": {
      "text/plain": [
       "0.853632066163917"
      ]
     },
     "execution_count": 32,
     "metadata": {},
     "output_type": "execute_result"
    }
   ],
   "source": [
    "# Engagements Logistic Regression\n",
    "\n",
    "from sklearn.linear_model import LogisticRegression\n",
    "from sklearn.model_selection import train_test_split\n",
    "\n",
    "target_col = 'engagements'\n",
    "\n",
    "X = engagement_raw.drop(['engagements','engaged'], axis='columns')\n",
    "y = engagement_raw.loc[:, target_col]\n",
    "\n",
    "X_train, X_test, y_train, y_test = train_test_split(X,y)\n",
    "\n",
    "lr = LogisticRegression()\n",
    "\n",
    "lr.fit(X_train, y_train)\n",
    "lr.score(X_test, y_test)"
   ]
  },
  {
   "cell_type": "code",
   "execution_count": 36,
   "metadata": {},
   "outputs": [
    {
     "name": "stderr",
     "output_type": "stream",
     "text": [
      "C:\\Users\\WTabraham\\AppData\\Local\\Continuum\\anaconda3\\lib\\site-packages\\sklearn\\linear_model\\logistic.py:433: FutureWarning: Default solver will be changed to 'lbfgs' in 0.22. Specify a solver to silence this warning.\n",
      "  FutureWarning)\n"
     ]
    },
    {
     "data": {
      "text/plain": [
       "0.8601395001672972"
      ]
     },
     "execution_count": 36,
     "metadata": {},
     "output_type": "execute_result"
    }
   ],
   "source": [
    "# Engaged Logistic Regression\n",
    "\n",
    "target_col = 'engaged'\n",
    "\n",
    "X = engagement_raw.drop(['engagements','engaged'], axis='columns')\n",
    "y = engagement_raw.loc[:, target_col]\n",
    "\n",
    "X_train, X_test, y_train, y_test = train_test_split(X,y)\n",
    "\n",
    "lr = LogisticRegression()\n",
    "\n",
    "lr.fit(X_train, y_train)\n",
    "lr.score(X_test, y_test)"
   ]
  },
  {
   "cell_type": "markdown",
   "metadata": {},
   "source": [
    "Model is showing 85% on engagments, 86% on engaged against 78% actual so in both cases there is more signal from the features than the first pass using mainly flags. As engaged performed slightly better, proves easier to interpret, and for business purposes the fact of engagement is more pertinent than the number of engagements, I shall proceed with the engaged dataset"
   ]
  },
  {
   "cell_type": "code",
   "execution_count": 37,
   "metadata": {},
   "outputs": [],
   "source": [
    "engaged = engagement_raw.drop('engagements', axis='columns')"
   ]
  },
  {
   "cell_type": "code",
   "execution_count": 38,
   "metadata": {},
   "outputs": [
    {
     "data": {
      "text/html": [
       "<div>\n",
       "<style scoped>\n",
       "    .dataframe tbody tr th:only-of-type {\n",
       "        vertical-align: middle;\n",
       "    }\n",
       "\n",
       "    .dataframe tbody tr th {\n",
       "        vertical-align: top;\n",
       "    }\n",
       "\n",
       "    .dataframe thead th {\n",
       "        text-align: right;\n",
       "    }\n",
       "</style>\n",
       "<table border=\"1\" class=\"dataframe\">\n",
       "  <thead>\n",
       "    <tr style=\"text-align: right;\">\n",
       "      <th></th>\n",
       "      <th>is_academic_email</th>\n",
       "      <th>is_china_recipient</th>\n",
       "      <th>prior_received</th>\n",
       "      <th>recent_received</th>\n",
       "      <th>prior_responses</th>\n",
       "      <th>recent_responses</th>\n",
       "      <th>prior_submissions_subject</th>\n",
       "      <th>prior_submissions_discipline</th>\n",
       "      <th>recent_submissions_subject</th>\n",
       "      <th>recent_submissions_discipline</th>\n",
       "      <th>has_precise_code_match</th>\n",
       "      <th>codes_in_discipline</th>\n",
       "      <th>engaged</th>\n",
       "      <th>cellcode_Non_House</th>\n",
       "      <th>cellcode_SAGETrack</th>\n",
       "      <th>region_India</th>\n",
       "      <th>region_UK</th>\n",
       "      <th>region_US</th>\n",
       "      <th>region_Unknown</th>\n",
       "    </tr>\n",
       "  </thead>\n",
       "  <tbody>\n",
       "    <tr>\n",
       "      <th>0</th>\n",
       "      <td>0</td>\n",
       "      <td>0</td>\n",
       "      <td>189</td>\n",
       "      <td>16</td>\n",
       "      <td>9</td>\n",
       "      <td>0</td>\n",
       "      <td>0</td>\n",
       "      <td>0</td>\n",
       "      <td>0</td>\n",
       "      <td>0</td>\n",
       "      <td>0</td>\n",
       "      <td>1</td>\n",
       "      <td>0</td>\n",
       "      <td>0</td>\n",
       "      <td>0</td>\n",
       "      <td>0</td>\n",
       "      <td>1</td>\n",
       "      <td>0</td>\n",
       "      <td>0</td>\n",
       "    </tr>\n",
       "    <tr>\n",
       "      <th>1</th>\n",
       "      <td>1</td>\n",
       "      <td>1</td>\n",
       "      <td>6</td>\n",
       "      <td>7</td>\n",
       "      <td>0</td>\n",
       "      <td>0</td>\n",
       "      <td>0</td>\n",
       "      <td>0</td>\n",
       "      <td>0</td>\n",
       "      <td>0</td>\n",
       "      <td>0</td>\n",
       "      <td>1</td>\n",
       "      <td>0</td>\n",
       "      <td>0</td>\n",
       "      <td>0</td>\n",
       "      <td>0</td>\n",
       "      <td>0</td>\n",
       "      <td>0</td>\n",
       "      <td>0</td>\n",
       "    </tr>\n",
       "    <tr>\n",
       "      <th>2</th>\n",
       "      <td>1</td>\n",
       "      <td>1</td>\n",
       "      <td>2</td>\n",
       "      <td>3</td>\n",
       "      <td>0</td>\n",
       "      <td>0</td>\n",
       "      <td>0</td>\n",
       "      <td>2</td>\n",
       "      <td>0</td>\n",
       "      <td>2</td>\n",
       "      <td>0</td>\n",
       "      <td>1</td>\n",
       "      <td>0</td>\n",
       "      <td>0</td>\n",
       "      <td>0</td>\n",
       "      <td>0</td>\n",
       "      <td>0</td>\n",
       "      <td>0</td>\n",
       "      <td>0</td>\n",
       "    </tr>\n",
       "    <tr>\n",
       "      <th>3</th>\n",
       "      <td>1</td>\n",
       "      <td>1</td>\n",
       "      <td>155</td>\n",
       "      <td>23</td>\n",
       "      <td>15</td>\n",
       "      <td>0</td>\n",
       "      <td>0</td>\n",
       "      <td>3</td>\n",
       "      <td>0</td>\n",
       "      <td>0</td>\n",
       "      <td>0</td>\n",
       "      <td>1</td>\n",
       "      <td>0</td>\n",
       "      <td>0</td>\n",
       "      <td>0</td>\n",
       "      <td>0</td>\n",
       "      <td>0</td>\n",
       "      <td>0</td>\n",
       "      <td>0</td>\n",
       "    </tr>\n",
       "    <tr>\n",
       "      <th>4</th>\n",
       "      <td>1</td>\n",
       "      <td>1</td>\n",
       "      <td>75</td>\n",
       "      <td>36</td>\n",
       "      <td>69</td>\n",
       "      <td>30</td>\n",
       "      <td>0</td>\n",
       "      <td>3</td>\n",
       "      <td>0</td>\n",
       "      <td>0</td>\n",
       "      <td>0</td>\n",
       "      <td>1</td>\n",
       "      <td>0</td>\n",
       "      <td>0</td>\n",
       "      <td>1</td>\n",
       "      <td>0</td>\n",
       "      <td>0</td>\n",
       "      <td>0</td>\n",
       "      <td>0</td>\n",
       "    </tr>\n",
       "  </tbody>\n",
       "</table>\n",
       "</div>"
      ],
      "text/plain": [
       "   is_academic_email  is_china_recipient  prior_received  recent_received  \\\n",
       "0                  0                   0             189               16   \n",
       "1                  1                   1               6                7   \n",
       "2                  1                   1               2                3   \n",
       "3                  1                   1             155               23   \n",
       "4                  1                   1              75               36   \n",
       "\n",
       "   prior_responses  recent_responses  prior_submissions_subject  \\\n",
       "0                9                 0                          0   \n",
       "1                0                 0                          0   \n",
       "2                0                 0                          0   \n",
       "3               15                 0                          0   \n",
       "4               69                30                          0   \n",
       "\n",
       "   prior_submissions_discipline  recent_submissions_subject  \\\n",
       "0                             0                           0   \n",
       "1                             0                           0   \n",
       "2                             2                           0   \n",
       "3                             3                           0   \n",
       "4                             3                           0   \n",
       "\n",
       "   recent_submissions_discipline  has_precise_code_match  codes_in_discipline  \\\n",
       "0                              0                       0                    1   \n",
       "1                              0                       0                    1   \n",
       "2                              2                       0                    1   \n",
       "3                              0                       0                    1   \n",
       "4                              0                       0                    1   \n",
       "\n",
       "   engaged  cellcode_Non_House  cellcode_SAGETrack  region_India  region_UK  \\\n",
       "0        0                   0                   0             0          1   \n",
       "1        0                   0                   0             0          0   \n",
       "2        0                   0                   0             0          0   \n",
       "3        0                   0                   0             0          0   \n",
       "4        0                   0                   1             0          0   \n",
       "\n",
       "   region_US  region_Unknown  \n",
       "0          0               0  \n",
       "1          0               0  \n",
       "2          0               0  \n",
       "3          0               0  \n",
       "4          0               0  "
      ]
     },
     "execution_count": 38,
     "metadata": {},
     "output_type": "execute_result"
    }
   ],
   "source": [
    "engaged.head()"
   ]
  },
  {
   "cell_type": "markdown",
   "metadata": {},
   "source": [
    "### Generating prior and recent response rates"
   ]
  },
  {
   "cell_type": "code",
   "execution_count": 39,
   "metadata": {},
   "outputs": [],
   "source": [
    "engaged.loc[:, 'prior_response_rate'] = (engaged.loc[:, 'prior_responses'] / engaged.loc[:, 'prior_received']).astype(float)\n",
    "engaged.loc[:, 'recent_response_rate'] = (engaged.loc[:, 'recent_responses'] / engaged.loc[:, 'recent_received']).astype(float)"
   ]
  },
  {
   "cell_type": "code",
   "execution_count": 40,
   "metadata": {},
   "outputs": [
    {
     "data": {
      "text/plain": [
       "is_academic_email                    0\n",
       "is_china_recipient                   0\n",
       "prior_received                       0\n",
       "recent_received                      0\n",
       "prior_responses                      0\n",
       "recent_responses                     0\n",
       "prior_submissions_subject            0\n",
       "prior_submissions_discipline         0\n",
       "recent_submissions_subject           0\n",
       "recent_submissions_discipline        0\n",
       "has_precise_code_match               0\n",
       "codes_in_discipline                  0\n",
       "engaged                              0\n",
       "cellcode_Non_House                   0\n",
       "cellcode_SAGETrack                   0\n",
       "region_India                         0\n",
       "region_UK                            0\n",
       "region_US                            0\n",
       "region_Unknown                       0\n",
       "prior_response_rate              17620\n",
       "recent_response_rate                 0\n",
       "dtype: int64"
      ]
     },
     "execution_count": 40,
     "metadata": {},
     "output_type": "execute_result"
    }
   ],
   "source": [
    "engaged.isna().sum()"
   ]
  },
  {
   "cell_type": "code",
   "execution_count": 41,
   "metadata": {},
   "outputs": [],
   "source": [
    "# address missing data in newly created prior_reponse_rate\n",
    "engaged.loc[:, 'prior_response_rate'] = engaged.loc[:, 'prior_response_rate'].fillna(0)"
   ]
  },
  {
   "cell_type": "code",
   "execution_count": 42,
   "metadata": {},
   "outputs": [
    {
     "data": {
      "text/plain": [
       "is_academic_email                0\n",
       "is_china_recipient               0\n",
       "prior_received                   0\n",
       "recent_received                  0\n",
       "prior_responses                  0\n",
       "recent_responses                 0\n",
       "prior_submissions_subject        0\n",
       "prior_submissions_discipline     0\n",
       "recent_submissions_subject       0\n",
       "recent_submissions_discipline    0\n",
       "has_precise_code_match           0\n",
       "codes_in_discipline              0\n",
       "engaged                          0\n",
       "cellcode_Non_House               0\n",
       "cellcode_SAGETrack               0\n",
       "region_India                     0\n",
       "region_UK                        0\n",
       "region_US                        0\n",
       "region_Unknown                   0\n",
       "prior_response_rate              0\n",
       "recent_response_rate             0\n",
       "dtype: int64"
      ]
     },
     "execution_count": 42,
     "metadata": {},
     "output_type": "execute_result"
    }
   ],
   "source": [
    "engaged.isna().sum()"
   ]
  },
  {
   "cell_type": "code",
   "execution_count": 43,
   "metadata": {},
   "outputs": [
    {
     "data": {
      "image/png": "[encoded data removed]",
      "text/plain": [
       "<Figure size 1440x1008 with 2 Axes>"
      ]
     },
     "metadata": {
      "needs_background": "light"
     },
     "output_type": "display_data"
    }
   ],
   "source": [
    "# Re-run correlation mapping with rates included\n",
    "\n",
    "fig, ax = plt.subplots(figsize=(20,14))         \n",
    "sns.heatmap(engaged.corr(),vmin=-1, vmax=1,cmap=sns.diverging_palette(h_neg=220, h_pos=10, n=21), linewidths=.5, annot=True, ax=ax);"
   ]
  },
  {
   "cell_type": "markdown",
   "metadata": {},
   "source": [
    "Newly created response rates are now showing the largest correlations in the model (but may be co-correlated with the figures that informed them)"
   ]
  },
  {
   "cell_type": "markdown",
   "metadata": {},
   "source": [
    "## Testing multiple models"
   ]
  },
  {
   "cell_type": "markdown",
   "metadata": {},
   "source": [
    "### Logistic regression (re-run including rates)"
   ]
  },
  {
   "cell_type": "code",
   "execution_count": 106,
   "metadata": {},
   "outputs": [
    {
     "name": "stderr",
     "output_type": "stream",
     "text": [
      "C:\\Users\\WTabraham\\AppData\\Local\\Continuum\\anaconda3\\lib\\site-packages\\sklearn\\linear_model\\logistic.py:433: FutureWarning: Default solver will be changed to 'lbfgs' in 0.22. Specify a solver to silence this warning.\n",
      "  FutureWarning)\n"
     ]
    },
    {
     "name": "stdout",
     "output_type": "stream",
     "text": [
      "0.8791239903167642\n",
      "0.8782161823625804\n"
     ]
    }
   ],
   "source": [
    "target_col = 'engaged'\n",
    "\n",
    "X = engaged.drop(target_col, axis='columns')\n",
    "y = engaged.loc[:, target_col]\n",
    "\n",
    "X_train, X_test, y_train, y_test = train_test_split(X,y)\n",
    "\n",
    "lr = LogisticRegression()\n",
    "\n",
    "lr.fit(X_train, y_train)\n",
    "print(lr.score(X_train, y_train))\n",
    "print(lr.score(X_test, y_test))"
   ]
  },
  {
   "cell_type": "markdown",
   "metadata": {},
   "source": [
    "### Decision Tree Classifier"
   ]
  },
  {
   "cell_type": "code",
   "execution_count": 45,
   "metadata": {},
   "outputs": [
    {
     "name": "stdout",
     "output_type": "stream",
     "text": [
      "0.9962350915775009\n",
      "0.847806690174075\n"
     ]
    }
   ],
   "source": [
    "from sklearn.tree import DecisionTreeClassifier\n",
    "\n",
    "dtc = DecisionTreeClassifier()\n",
    "\n",
    "dtc.fit(X_train, y_train)\n",
    "print(dtc.score(X_train, y_train))\n",
    "print(dtc.score(X_test, y_test))"
   ]
  },
  {
   "cell_type": "markdown",
   "metadata": {},
   "source": [
    "### Random Forest Classifier"
   ]
  },
  {
   "cell_type": "code",
   "execution_count": 49,
   "metadata": {},
   "outputs": [
    {
     "name": "stderr",
     "output_type": "stream",
     "text": [
      "C:\\Users\\WTabraham\\AppData\\Local\\Continuum\\anaconda3\\lib\\site-packages\\sklearn\\ensemble\\forest.py:246: FutureWarning: The default value of n_estimators will change from 10 in version 0.20 to 100 in 0.22.\n",
      "  \"10 in version 0.20 to 100 in 0.22.\", FutureWarning)\n"
     ]
    },
    {
     "name": "stdout",
     "output_type": "stream",
     "text": [
      "0.9864031469086427\n",
      "0.8780317264218122\n"
     ]
    }
   ],
   "source": [
    "from sklearn.ensemble import RandomForestClassifier\n",
    "\n",
    "rfc = RandomForestClassifier()\n",
    "\n",
    "rfc.fit(X_train, y_train)\n",
    "print(rfc.score(X_train, y_train))\n",
    "print(rfc.score(X_test, y_test))"
   ]
  },
  {
   "cell_type": "markdown",
   "metadata": {},
   "source": [
    "On first pass, Logistic Regression performing the best, with train and test sets very similar, and still showing a 10% improvement over the null model. Decision Tree and Random Forest models are overfitting (as train scores close to prefect) so will aim to tune the hyperparamaters to reduce the models' flexibility"
   ]
  },
  {
   "cell_type": "code",
   "execution_count": 71,
   "metadata": {},
   "outputs": [
    {
     "name": "stdout",
     "output_type": "stream",
     "text": [
      "0.8864235943793763\n",
      "0.8849809967484278\n"
     ]
    }
   ],
   "source": [
    "dtc = DecisionTreeClassifier(max_depth=10)\n",
    "\n",
    "dtc.fit(X_train, y_train)\n",
    "print(dtc.score(X_train, y_train))\n",
    "print(dtc.score(X_test, y_test))"
   ]
  },
  {
   "cell_type": "markdown",
   "metadata": {},
   "source": [
    "I manually ran multiple iterations of the DTC tuning the max_depth to achieve the balance of the highest train and test scores and smallest gap between the two. For purposes of takeaways however, a max_depth of 7 sacrifices a very small percentage of the accuracy for greater interpretability"
   ]
  },
  {
   "cell_type": "code",
   "execution_count": 55,
   "metadata": {},
   "outputs": [
    {
     "name": "stdout",
     "output_type": "stream",
     "text": [
      "0.8899139633346822\n",
      "0.8840758757367514\n"
     ]
    }
   ],
   "source": [
    "rfc = RandomForestClassifier(n_estimators=100, max_depth=12, oob_score=True)\n",
    "\n",
    "rfc.fit(X_train, y_train)\n",
    "print(rfc.score(X_train, y_train))\n",
    "print(rfc.score(X_test, y_test))"
   ]
  },
  {
   "cell_type": "markdown",
   "metadata": {},
   "source": [
    "Likewise, I manually ran multiple iterations of the these three hyperparamaters, settling on the above combination as the best balance of train, test, and gap between the two"
   ]
  },
  {
   "cell_type": "markdown",
   "metadata": {},
   "source": [
    "Max Depth    Train Score    Test Score\n",
    "5              87.58%         87.50%\n",
    "10             88.45%         88.27%\n",
    "15             90.02%         88.66%\n",
    "13             89.26%         88.67%\n",
    "12             88.99%         88.40%"
   ]
  },
  {
   "cell_type": "markdown",
   "metadata": {},
   "source": [
    "### View Decision Tree at max_depth of 7"
   ]
  },
  {
   "cell_type": "code",
   "execution_count": 72,
   "metadata": {},
   "outputs": [
    {
     "name": "stdout",
     "output_type": "stream",
     "text": [
      "0.8833150068706361\n",
      "0.8825959385375647\n"
     ]
    }
   ],
   "source": [
    "dtc = DecisionTreeClassifier(max_depth=7)\n",
    "\n",
    "dtc.fit(X_train, y_train)\n",
    "print(dtc.score(X_train, y_train))\n",
    "print(dtc.score(X_test, y_test))"
   ]
  },
  {
   "cell_type": "code",
   "execution_count": 73,
   "metadata": {},
   "outputs": [],
   "source": [
    "# Set up paths for tree diagram files\n",
    "images_dir = '../assets/images'\n",
    "dotfile_path = f'{images_dir}/eng_tree.dot'\n",
    "png_path = f'{images_dir}/eng_tree.png'"
   ]
  },
  {
   "cell_type": "code",
   "execution_count": 74,
   "metadata": {},
   "outputs": [],
   "source": [
    "from sklearn.tree import export_graphviz\n",
    "\n",
    "export_graphviz(dtc, out_file=dotfile_path, feature_names=X.columns)"
   ]
  },
  {
   "cell_type": "code",
   "execution_count": 75,
   "metadata": {},
   "outputs": [],
   "source": [
    "# Convert the graphviz file to PNG\n",
    "!dot -Tpng {dotfile_path} -o {png_path}"
   ]
  },
  {
   "cell_type": "code",
   "execution_count": 76,
   "metadata": {},
   "outputs": [
    {
     "data": {
      "image/png": "[encoded data removed]",
      "text/plain": [
       "<Figure size 2880x2880 with 1 Axes>"
      ]
     },
     "metadata": {
      "needs_background": "light"
     },
     "output_type": "display_data"
    }
   ],
   "source": [
    "# Show the PNG\n",
    "tree_image = plt.imread(png_path)\n",
    "fig,ax = plt.subplots(figsize=(40,40))\n",
    "ax.imshow(tree_image);"
   ]
  },
  {
   "cell_type": "markdown",
   "metadata": {},
   "source": [
    "### Feature Importances of Tree and Forest models"
   ]
  },
  {
   "cell_type": "code",
   "execution_count": 56,
   "metadata": {},
   "outputs": [
    {
     "data": {
      "text/plain": [
       "[(0.9244442231843366, 'recent_response_rate'),\n",
       " (0.034285501520951674, 'prior_response_rate'),\n",
       " (0.014743224387591338, 'prior_responses'),\n",
       " (0.013073874861453037, 'prior_received'),\n",
       " (0.0048474008985574385, 'recent_responses'),\n",
       " (0.004488020134675912, 'recent_received'),\n",
       " (0.001540868852770843, 'is_china_recipient'),\n",
       " (0.0008248937874559676, 'codes_in_discipline'),\n",
       " (0.0003938937384257901, 'cellcode_SAGETrack'),\n",
       " (0.0003548148434457879, 'prior_submissions_discipline'),\n",
       " (0.00027191409756918217, 'is_academic_email'),\n",
       " (0.00016501218809324315, 'prior_submissions_subject'),\n",
       " (0.00012180565756233353, 'recent_submissions_discipline'),\n",
       " (0.00011323700226959054, 'region_UK'),\n",
       " (8.959067911329808e-05, 'region_Unknown'),\n",
       " (7.789694283793831e-05, 'has_precise_code_match'),\n",
       " (5.582540545309402e-05, 'recent_submissions_subject'),\n",
       " (4.263591492387192e-05, 'cellcode_Non_House'),\n",
       " (3.8057617186980124e-05, 'region_US'),\n",
       " (2.7308285326070744e-05, 'region_India')]"
      ]
     },
     "execution_count": 56,
     "metadata": {},
     "output_type": "execute_result"
    }
   ],
   "source": [
    "sorted(zip(dtc.feature_importances_, X.columns))[::-1]"
   ]
  },
  {
   "cell_type": "code",
   "execution_count": 57,
   "metadata": {},
   "outputs": [
    {
     "data": {
      "text/plain": [
       "[(0.4172957921241169, 'recent_response_rate'),\n",
       " (0.2820748292075192, 'recent_responses'),\n",
       " (0.1657195730958415, 'prior_response_rate'),\n",
       " (0.07522896982763225, 'prior_responses'),\n",
       " (0.022893794777083483, 'recent_received'),\n",
       " (0.01738278232324259, 'prior_received'),\n",
       " (0.0034422614373735973, 'is_china_recipient'),\n",
       " (0.003221677398454516, 'prior_submissions_discipline'),\n",
       " (0.0025318064140264322, 'codes_in_discipline'),\n",
       " (0.0021911559151307305, 'cellcode_SAGETrack'),\n",
       " (0.001580207313963617, 'recent_submissions_discipline'),\n",
       " (0.0015501843369491015, 'is_academic_email'),\n",
       " (0.001440499964181135, 'prior_submissions_subject'),\n",
       " (0.0011782517242445965, 'region_UK'),\n",
       " (0.0006976725135777332, 'recent_submissions_subject'),\n",
       " (0.0003799521587452324, 'region_India'),\n",
       " (0.0003469004346328471, 'region_US'),\n",
       " (0.00031768534807451773, 'has_precise_code_match'),\n",
       " (0.00030115819875119827, 'region_Unknown'),\n",
       " (0.00022484548645862652, 'cellcode_Non_House')]"
      ]
     },
     "execution_count": 57,
     "metadata": {},
     "output_type": "execute_result"
    }
   ],
   "source": [
    "sorted(zip(rfc.feature_importances_, X.columns))[::-1]"
   ]
  },
  {
   "cell_type": "markdown",
   "metadata": {},
   "source": [
    "In the correlation heatmap of the Logistic Regression model, and in the feature importances of both Decision Tree and Random Forest models, the features surrounding prior and recent response show the strongest correlation and the highest ranked features in the models' predictions "
   ]
  },
  {
   "cell_type": "markdown",
   "metadata": {},
   "source": [
    "## Further investigation of these operative features"
   ]
  },
  {
   "cell_type": "markdown",
   "metadata": {},
   "source": [
    "View scatterplots of key features"
   ]
  },
  {
   "cell_type": "code",
   "execution_count": 69,
   "metadata": {},
   "outputs": [
    {
     "data": {
      "image/png": "[encoded data removed]",
      "text/plain": [
       "<Figure size 1296x216 with 4 Axes>"
      ]
     },
     "metadata": {
      "needs_background": "light"
     },
     "output_type": "display_data"
    }
   ],
   "source": [
    "fig, (ax0, ax1, ax2, ax3) = plt.subplots(1, 4, sharey=True, figsize=(18, 3))\n",
    "\n",
    "engaged.plot(kind='scatter', x='recent_response_rate', y='engaged', ax=ax0)\n",
    "engaged.plot(kind='scatter', x='recent_responses', y='engaged', ax=ax1)\n",
    "engaged.plot(kind='scatter', x='prior_response_rate', y='engaged', ax=ax2)\n",
    "engaged.plot(kind='scatter', x='prior_responses', y='engaged', ax=ax3);"
   ]
  },
  {
   "cell_type": "markdown",
   "metadata": {},
   "source": [
    "... both recent_response_rate and prior_response_rate are showing cases with > 100% ... this points to some margin of error in the data being used (databases were in flux during the sourcing of this data, and would estimate the prior and recent received figures are incorrect)... as a result, while I was planning to map probability thresholds based on these rates, I feel more confident basing them on the actuall response numbers"
   ]
  },
  {
   "cell_type": "code",
   "execution_count": 59,
   "metadata": {},
   "outputs": [
    {
     "name": "stderr",
     "output_type": "stream",
     "text": [
      "C:\\Users\\WTabraham\\AppData\\Local\\Continuum\\anaconda3\\lib\\site-packages\\sklearn\\linear_model\\logistic.py:433: FutureWarning: Default solver will be changed to 'lbfgs' in 0.22. Specify a solver to silence this warning.\n",
      "  FutureWarning)\n"
     ]
    },
    {
     "data": {
      "text/plain": [
       "0.8018900299419178"
      ]
     },
     "execution_count": 59,
     "metadata": {},
     "output_type": "execute_result"
    }
   ],
   "source": [
    "feature_cols = ['prior_responses']\n",
    "target_col = 'engaged'\n",
    "\n",
    "X = engaged.loc[:, feature_cols]\n",
    "y = engaged.loc[:, target_col]\n",
    "\n",
    "X_train, X_test, y_train, y_test = train_test_split(X,y)\n",
    "\n",
    "lr = LogisticRegression()\n",
    "\n",
    "lr.fit(X_train, y_train)\n",
    "lr.score(X_test, y_test)"
   ]
  },
  {
   "cell_type": "code",
   "execution_count": 60,
   "metadata": {},
   "outputs": [
    {
     "data": {
      "image/png": "[encoded data removed]",
      "text/plain": [
       "<Figure size 432x288 with 1 Axes>"
      ]
     },
     "metadata": {
      "needs_background": "light"
     },
     "output_type": "display_data"
    }
   ],
   "source": [
    "x_grid = np.linspace(start=engaged.loc[:, 'prior_responses'].min(), stop=engaged.loc[:, 'prior_responses'].max(), num=100)\n",
    "pred_probs = lr.predict_proba(x_grid.reshape(-1, 1))[:, 1]\n",
    "preds = lr.predict(x_grid.reshape(-1, 1))\n",
    "ax = engaged.plot(kind='scatter', x='prior_responses', y='engaged', alpha=.2)\n",
    "ax.plot(x_grid, pred_probs, c='r')\n",
    "ax.plot(x_grid, preds, c='g');"
   ]
  },
  {
   "cell_type": "code",
   "execution_count": 61,
   "metadata": {},
   "outputs": [
    {
     "name": "stderr",
     "output_type": "stream",
     "text": [
      "C:\\Users\\WTabraham\\AppData\\Local\\Continuum\\anaconda3\\lib\\site-packages\\sklearn\\linear_model\\logistic.py:433: FutureWarning: Default solver will be changed to 'lbfgs' in 0.22. Specify a solver to silence this warning.\n",
      "  FutureWarning)\n"
     ]
    },
    {
     "data": {
      "text/plain": [
       "0.8397764222410968"
      ]
     },
     "execution_count": 61,
     "metadata": {},
     "output_type": "execute_result"
    }
   ],
   "source": [
    "feature_cols = ['recent_responses']\n",
    "target_col = 'engaged'\n",
    "\n",
    "X = engaged.loc[:, feature_cols]\n",
    "y = engaged.loc[:, target_col]\n",
    "\n",
    "X_train, X_test, y_train, y_test = train_test_split(X,y)\n",
    "\n",
    "lr = LogisticRegression()\n",
    "\n",
    "lr.fit(X_train, y_train)\n",
    "lr.score(X_test, y_test)"
   ]
  },
  {
   "cell_type": "code",
   "execution_count": 62,
   "metadata": {},
   "outputs": [
    {
     "data": {
      "image/png": "[encoded data removed]",
      "text/plain": [
       "<Figure size 432x288 with 1 Axes>"
      ]
     },
     "metadata": {
      "needs_background": "light"
     },
     "output_type": "display_data"
    }
   ],
   "source": [
    "x_grid = np.linspace(start=engaged.loc[:, 'recent_responses'].min(), stop=engaged.loc[:, 'recent_responses'].max(), num=100)\n",
    "pred_probs = lr.predict_proba(x_grid.reshape(-1, 1))[:, 1]\n",
    "preds = lr.predict(x_grid.reshape(-1, 1))\n",
    "ax = engaged.plot(kind='scatter', x='recent_responses', y='engaged', alpha=.02)\n",
    "ax.plot(x_grid, pred_probs, c='r')\n",
    "ax.plot(x_grid, preds, c='g');"
   ]
  },
  {
   "cell_type": "markdown",
   "metadata": {},
   "source": [
    "The above plots demonstrate that a recipient has a greater than 50% chance of engaging if they have previously responded to c.70 emails, or recently responded to c.12 emails"
   ]
  },
  {
   "cell_type": "markdown",
   "metadata": {},
   "source": [
    "Test accuracy, recall and precision of recent_response model"
   ]
  },
  {
   "cell_type": "code",
   "execution_count": 64,
   "metadata": {},
   "outputs": [
    {
     "data": {
      "text/plain": [
       "array([[175095,   7827],\n",
       "       [ 29524,  20672]], dtype=int64)"
      ]
     },
     "execution_count": 64,
     "metadata": {},
     "output_type": "execute_result"
    }
   ],
   "source": [
    "from sklearn import metrics\n",
    "\n",
    "y_pred = lr.predict(X_test)\n",
    "metrics.confusion_matrix(y_test, y_pred)"
   ]
  },
  {
   "cell_type": "code",
   "execution_count": 65,
   "metadata": {},
   "outputs": [
    {
     "name": "stdout",
     "output_type": "stream",
     "text": [
      "precision: 0.725358784518755\n",
      "recall: 0.41182564347756795\n"
     ]
    }
   ],
   "source": [
    "print('precision:', metrics.precision_score(y_test, y_pred))\n",
    "print('recall:', metrics.recall_score(y_test, y_pred))"
   ]
  },
  {
   "cell_type": "code",
   "execution_count": null,
   "metadata": {},
   "outputs": [],
   "source": []
  },
  {
   "cell_type": "code",
   "execution_count": 67,
   "metadata": {},
   "outputs": [
    {
     "name": "stdout",
     "output_type": "stream",
     "text": [
      "threshold: 0.07502495348690771\n",
      "precision: 0.3411862263971398\n",
      "recall: 1.0\n",
      "f1: 0.5087827770401079\n",
      "f2: 0.7214017579461118\n",
      "f1/2: 0.3929642828065209\n",
      "\n",
      "threshold: 0.3062686980850152\n",
      "precision: 0.6469819646146596\n",
      "recall: 0.6017411745955853\n",
      "f1: 0.6235420408331785\n",
      "f2: 0.6102759930496626\n",
      "f1/2: 0.6373976534143665\n",
      "\n",
      "threshold: 0.5375124426831227\n",
      "precision: 0.725358784518755\n",
      "recall: 0.41182564347756795\n",
      "f1: 0.5253700997522078\n",
      "f2: 0.4507966137916897\n",
      "f1/2: 0.6295069187292924\n",
      "\n",
      "threshold: 0.7687561872812303\n",
      "precision: 0.771528769970126\n",
      "recall: 0.23667224480038251\n",
      "f1: 0.3622282525840778\n",
      "f2: 0.27476848211229427\n",
      "f1/2: 0.53136293698787\n",
      "\n",
      "threshold: 0.9999999318793378\n",
      "precision: 0.0\n",
      "recall: 0.0\n"
     ]
    },
    {
     "name": "stderr",
     "output_type": "stream",
     "text": [
      "C:\\Users\\WTabraham\\AppData\\Local\\Continuum\\anaconda3\\lib\\site-packages\\sklearn\\metrics\\classification.py:1143: UndefinedMetricWarning: Precision is ill-defined and being set to 0.0 due to no predicted samples.\n",
      "  'precision', 'predicted', average, warn_for)\n",
      "C:\\Users\\WTabraham\\AppData\\Local\\Continuum\\anaconda3\\lib\\site-packages\\sklearn\\metrics\\classification.py:1143: UndefinedMetricWarning: F-score is ill-defined and being set to 0.0 due to no predicted samples.\n",
      "  'precision', 'predicted', average, warn_for)\n"
     ]
    },
    {
     "name": "stdout",
     "output_type": "stream",
     "text": [
      "f1: 0.0\n",
      "f2: 0.0\n",
      "f1/2: 0.0\n",
      "\n"
     ]
    },
    {
     "name": "stderr",
     "output_type": "stream",
     "text": [
      "C:\\Users\\WTabraham\\AppData\\Local\\Continuum\\anaconda3\\lib\\site-packages\\sklearn\\metrics\\classification.py:1143: UndefinedMetricWarning: F-score is ill-defined and being set to 0.0 due to no predicted samples.\n",
      "  'precision', 'predicted', average, warn_for)\n",
      "C:\\Users\\WTabraham\\AppData\\Local\\Continuum\\anaconda3\\lib\\site-packages\\sklearn\\metrics\\classification.py:1143: UndefinedMetricWarning: F-score is ill-defined and being set to 0.0 due to no predicted samples.\n",
      "  'precision', 'predicted', average, warn_for)\n"
     ]
    }
   ],
   "source": [
    "y_pred_prob = lr.predict_proba(X_test)[:, 1]\n",
    "\n",
    "for threshold in np.linspace(y_pred_prob.min(), y_pred_prob.max(), 5):\n",
    "    y_pred_thresh = y_pred_prob > threshold\n",
    "    print('threshold:', threshold)\n",
    "    print('precision:', metrics.precision_score(y_test, y_pred_thresh))\n",
    "    print('recall:', metrics.recall_score(y_test, y_pred_thresh))\n",
    "    print('f1:', metrics.f1_score(y_test, y_pred_thresh))\n",
    "    print('f2:', metrics.fbeta_score(y_test, y_pred_thresh, 2))\n",
    "    print('f1/2:', metrics.fbeta_score(y_test, y_pred_thresh, .5))\n",
    "    print()"
   ]
  },
  {
   "cell_type": "markdown",
   "metadata": {},
   "source": [
    "While the problem in question merits paying attention to the precision, as the aim will be to maximise potential engagers, so the mid-range threshold of c.50% seems to  be most approriate (precision remains the higher value, without too much sacrifice of recall)"
   ]
  },
  {
   "cell_type": "markdown",
   "metadata": {},
   "source": [
    "### Region specific thresholding"
   ]
  },
  {
   "cell_type": "markdown",
   "metadata": {},
   "source": [
    "As the Asia Pacfic region is a valuable source of revenue, and they account for c.45% of the recipients of the data being modeled, and they engage at a lower rate than the RoW (Rest of World) it seems wise to determine if there are difference in this recent_responses threshold"
   ]
  },
  {
   "cell_type": "code",
   "execution_count": 89,
   "metadata": {},
   "outputs": [],
   "source": [
    "engagement_region =  pd.read_csv('../engagement_full.csv')"
   ]
  },
  {
   "cell_type": "code",
   "execution_count": 90,
   "metadata": {},
   "outputs": [],
   "source": [
    "engagement_region = engagement_region.drop(['email','launch_id', 'date_launched'], axis='columns')"
   ]
  },
  {
   "cell_type": "code",
   "execution_count": 91,
   "metadata": {},
   "outputs": [],
   "source": [
    "engaged_apac = engagement_region.loc[engagement_region.loc[:, 'region'] == 'APAC']"
   ]
  },
  {
   "cell_type": "code",
   "execution_count": 92,
   "metadata": {},
   "outputs": [],
   "source": [
    "engaged_ROW = engagement_region.loc[engagement_region.loc[:, 'region'] != 'APAC']"
   ]
  },
  {
   "cell_type": "code",
   "execution_count": 93,
   "metadata": {},
   "outputs": [
    {
     "data": {
      "text/plain": [
       "(425408, 16)"
      ]
     },
     "execution_count": 93,
     "metadata": {},
     "output_type": "execute_result"
    }
   ],
   "source": [
    "engaged_apac.shape"
   ]
  },
  {
   "cell_type": "code",
   "execution_count": 94,
   "metadata": {},
   "outputs": [
    {
     "data": {
      "text/plain": [
       "(507063, 16)"
      ]
     },
     "execution_count": 94,
     "metadata": {},
     "output_type": "execute_result"
    }
   ],
   "source": [
    "engaged_ROW.shape"
   ]
  },
  {
   "cell_type": "code",
   "execution_count": 95,
   "metadata": {},
   "outputs": [],
   "source": [
    "engaged_apac = engaged_apac.drop('region', axis='columns')\n",
    "engaged_apac = pd.get_dummies(engaged_apac, drop_first=True)"
   ]
  },
  {
   "cell_type": "code",
   "execution_count": 96,
   "metadata": {},
   "outputs": [],
   "source": [
    "engaged_ROW = engaged_ROW.drop('region', axis='columns')\n",
    "engaged_ROW = pd.get_dummies(engaged_ROW, drop_first=True)"
   ]
  },
  {
   "cell_type": "code",
   "execution_count": 97,
   "metadata": {},
   "outputs": [
    {
     "name": "stderr",
     "output_type": "stream",
     "text": [
      "C:\\Users\\WTabraham\\AppData\\Local\\Continuum\\anaconda3\\lib\\site-packages\\sklearn\\linear_model\\logistic.py:433: FutureWarning: Default solver will be changed to 'lbfgs' in 0.22. Specify a solver to silence this warning.\n",
      "  FutureWarning)\n"
     ]
    },
    {
     "data": {
      "text/plain": [
       "0.8553482774183843"
      ]
     },
     "execution_count": 97,
     "metadata": {},
     "output_type": "execute_result"
    }
   ],
   "source": [
    "target_col = 'engaged'\n",
    "\n",
    "X_apac = engaged_apac.loc[:, ['recent_responses']]\n",
    "y_apac = engaged_apac.loc[:, target_col]\n",
    "\n",
    "X_train, X_test, y_train, y_test = train_test_split(X_apac,y_apac)\n",
    "\n",
    "lr_apac = LogisticRegression()\n",
    "\n",
    "lr_apac.fit(X_train, y_train)\n",
    "lr_apac.score(X_test, y_test)"
   ]
  },
  {
   "cell_type": "code",
   "execution_count": 98,
   "metadata": {},
   "outputs": [
    {
     "data": {
      "image/png": "[encoded data removed]",
      "text/plain": [
       "<Figure size 432x288 with 1 Axes>"
      ]
     },
     "metadata": {
      "needs_background": "light"
     },
     "output_type": "display_data"
    }
   ],
   "source": [
    "y_pred_prob_a = lr_apac.predict_proba(X_test)\n",
    "\n",
    "x_grid = np.linspace(start=engaged_apac.loc[:, 'recent_responses'].min(), stop=engaged_apac.loc[:, 'recent_responses'].max(), num=100)\n",
    "pred_probs = lr_apac.predict_proba(x_grid.reshape(-1, 1))[:, 1]\n",
    "preds = lr_apac.predict(x_grid.reshape(-1, 1))\n",
    "ax = engaged_apac.plot(kind='scatter', x='recent_responses', y='engaged', alpha=.02)\n",
    "ax.plot(x_grid, pred_probs, c='r')\n",
    "ax.plot(x_grid, preds, c='g');"
   ]
  },
  {
   "cell_type": "code",
   "execution_count": 100,
   "metadata": {},
   "outputs": [
    {
     "name": "stderr",
     "output_type": "stream",
     "text": [
      "C:\\Users\\WTabraham\\AppData\\Local\\Continuum\\anaconda3\\lib\\site-packages\\sklearn\\linear_model\\logistic.py:433: FutureWarning: Default solver will be changed to 'lbfgs' in 0.22. Specify a solver to silence this warning.\n",
      "  FutureWarning)\n"
     ]
    },
    {
     "data": {
      "text/plain": [
       "0.8297650789643911"
      ]
     },
     "execution_count": 100,
     "metadata": {},
     "output_type": "execute_result"
    }
   ],
   "source": [
    "target_col = 'engaged'\n",
    "\n",
    "X_row = engaged_ROW.loc[:, ['recent_responses']]\n",
    "y_row = engaged_ROW.loc[:, target_col]\n",
    "\n",
    "X_train, X_test, y_train, y_test = train_test_split(X_row,y_row)\n",
    "\n",
    "lr_row = LogisticRegression()\n",
    "\n",
    "lr_row.fit(X_train, y_train)\n",
    "lr_row.score(X_test, y_test)"
   ]
  },
  {
   "cell_type": "code",
   "execution_count": 101,
   "metadata": {},
   "outputs": [
    {
     "data": {
      "image/png": "[encoded data removed]",
      "text/plain": [
       "<Figure size 432x288 with 1 Axes>"
      ]
     },
     "metadata": {
      "needs_background": "light"
     },
     "output_type": "display_data"
    }
   ],
   "source": [
    "x_grid = np.linspace(start=engaged_ROW.loc[:, 'recent_responses'].min(), stop=engaged_ROW.loc[:, 'recent_responses'].max(), num=100)\n",
    "pred_probs = lr_row.predict_proba(x_grid.reshape(-1, 1))[:, 1]\n",
    "preds = lr_row.predict(x_grid.reshape(-1, 1))\n",
    "ax = engaged_ROW.plot(kind='scatter', x='recent_responses', y='engaged', alpha=.02)\n",
    "ax.plot(x_grid, pred_probs, c='r')\n",
    "ax.plot(x_grid, preds, c='g');"
   ]
  },
  {
   "cell_type": "markdown",
   "metadata": {},
   "source": [
    "Theory confirmed - APAC threshold appears to be more like 15 emails, RoW closer to 10 emails"
   ]
  },
  {
   "cell_type": "markdown",
   "metadata": {},
   "source": [
    "### Notes"
   ]
  },
  {
   "cell_type": "markdown",
   "metadata": {},
   "source": [
    "I did perform some test removing and adding features, testing co-correlation etc. however these did not significantly affect the model (process can be found in scratch version, ran out of time to transpose here) "
   ]
  },
  {
   "cell_type": "code",
   "execution_count": 107,
   "metadata": {},
   "outputs": [
    {
     "data": {
      "text/plain": [
       "(233118, 20)"
      ]
     },
     "execution_count": 107,
     "metadata": {},
     "output_type": "execute_result"
    }
   ],
   "source": [
    "X_test.shape"
   ]
  },
  {
   "cell_type": "code",
   "execution_count": 108,
   "metadata": {},
   "outputs": [
    {
     "data": {
      "text/plain": [
       "(699353, 20)"
      ]
     },
     "execution_count": 108,
     "metadata": {},
     "output_type": "execute_result"
    }
   ],
   "source": [
    "X_train.shape"
   ]
  },
  {
   "cell_type": "code",
   "execution_count": 109,
   "metadata": {},
   "outputs": [
    {
     "data": {
      "text/html": [
       "<div>\n",
       "<style scoped>\n",
       "    .dataframe tbody tr th:only-of-type {\n",
       "        vertical-align: middle;\n",
       "    }\n",
       "\n",
       "    .dataframe tbody tr th {\n",
       "        vertical-align: top;\n",
       "    }\n",
       "\n",
       "    .dataframe thead th {\n",
       "        text-align: right;\n",
       "    }\n",
       "</style>\n",
       "<table border=\"1\" class=\"dataframe\">\n",
       "  <thead>\n",
       "    <tr style=\"text-align: right;\">\n",
       "      <th></th>\n",
       "      <th>is_academic_email</th>\n",
       "      <th>is_china_recipient</th>\n",
       "      <th>prior_received</th>\n",
       "      <th>recent_received</th>\n",
       "      <th>prior_responses</th>\n",
       "      <th>recent_responses</th>\n",
       "      <th>prior_submissions_subject</th>\n",
       "      <th>prior_submissions_discipline</th>\n",
       "      <th>recent_submissions_subject</th>\n",
       "      <th>recent_submissions_discipline</th>\n",
       "      <th>...</th>\n",
       "      <th>codes_in_discipline</th>\n",
       "      <th>engaged</th>\n",
       "      <th>cellcode_Non_House</th>\n",
       "      <th>cellcode_SAGETrack</th>\n",
       "      <th>region_India</th>\n",
       "      <th>region_UK</th>\n",
       "      <th>region_US</th>\n",
       "      <th>region_Unknown</th>\n",
       "      <th>prior_response_rate</th>\n",
       "      <th>recent_response_rate</th>\n",
       "    </tr>\n",
       "  </thead>\n",
       "  <tbody>\n",
       "    <tr>\n",
       "      <th>0</th>\n",
       "      <td>0</td>\n",
       "      <td>0</td>\n",
       "      <td>189</td>\n",
       "      <td>16</td>\n",
       "      <td>9</td>\n",
       "      <td>0</td>\n",
       "      <td>0</td>\n",
       "      <td>0</td>\n",
       "      <td>0</td>\n",
       "      <td>0</td>\n",
       "      <td>...</td>\n",
       "      <td>1</td>\n",
       "      <td>0</td>\n",
       "      <td>0</td>\n",
       "      <td>0</td>\n",
       "      <td>0</td>\n",
       "      <td>1</td>\n",
       "      <td>0</td>\n",
       "      <td>0</td>\n",
       "      <td>0.047619</td>\n",
       "      <td>0.000000</td>\n",
       "    </tr>\n",
       "    <tr>\n",
       "      <th>1</th>\n",
       "      <td>1</td>\n",
       "      <td>1</td>\n",
       "      <td>6</td>\n",
       "      <td>7</td>\n",
       "      <td>0</td>\n",
       "      <td>0</td>\n",
       "      <td>0</td>\n",
       "      <td>0</td>\n",
       "      <td>0</td>\n",
       "      <td>0</td>\n",
       "      <td>...</td>\n",
       "      <td>1</td>\n",
       "      <td>0</td>\n",
       "      <td>0</td>\n",
       "      <td>0</td>\n",
       "      <td>0</td>\n",
       "      <td>0</td>\n",
       "      <td>0</td>\n",
       "      <td>0</td>\n",
       "      <td>0.000000</td>\n",
       "      <td>0.000000</td>\n",
       "    </tr>\n",
       "    <tr>\n",
       "      <th>2</th>\n",
       "      <td>1</td>\n",
       "      <td>1</td>\n",
       "      <td>2</td>\n",
       "      <td>3</td>\n",
       "      <td>0</td>\n",
       "      <td>0</td>\n",
       "      <td>0</td>\n",
       "      <td>2</td>\n",
       "      <td>0</td>\n",
       "      <td>2</td>\n",
       "      <td>...</td>\n",
       "      <td>1</td>\n",
       "      <td>0</td>\n",
       "      <td>0</td>\n",
       "      <td>0</td>\n",
       "      <td>0</td>\n",
       "      <td>0</td>\n",
       "      <td>0</td>\n",
       "      <td>0</td>\n",
       "      <td>0.000000</td>\n",
       "      <td>0.000000</td>\n",
       "    </tr>\n",
       "    <tr>\n",
       "      <th>3</th>\n",
       "      <td>1</td>\n",
       "      <td>1</td>\n",
       "      <td>155</td>\n",
       "      <td>23</td>\n",
       "      <td>15</td>\n",
       "      <td>0</td>\n",
       "      <td>0</td>\n",
       "      <td>3</td>\n",
       "      <td>0</td>\n",
       "      <td>0</td>\n",
       "      <td>...</td>\n",
       "      <td>1</td>\n",
       "      <td>0</td>\n",
       "      <td>0</td>\n",
       "      <td>0</td>\n",
       "      <td>0</td>\n",
       "      <td>0</td>\n",
       "      <td>0</td>\n",
       "      <td>0</td>\n",
       "      <td>0.096774</td>\n",
       "      <td>0.000000</td>\n",
       "    </tr>\n",
       "    <tr>\n",
       "      <th>4</th>\n",
       "      <td>1</td>\n",
       "      <td>1</td>\n",
       "      <td>75</td>\n",
       "      <td>36</td>\n",
       "      <td>69</td>\n",
       "      <td>30</td>\n",
       "      <td>0</td>\n",
       "      <td>3</td>\n",
       "      <td>0</td>\n",
       "      <td>0</td>\n",
       "      <td>...</td>\n",
       "      <td>1</td>\n",
       "      <td>0</td>\n",
       "      <td>0</td>\n",
       "      <td>1</td>\n",
       "      <td>0</td>\n",
       "      <td>0</td>\n",
       "      <td>0</td>\n",
       "      <td>0</td>\n",
       "      <td>0.920000</td>\n",
       "      <td>0.833333</td>\n",
       "    </tr>\n",
       "  </tbody>\n",
       "</table>\n",
       "<p>5 rows × 21 columns</p>\n",
       "</div>"
      ],
      "text/plain": [
       "   is_academic_email  is_china_recipient  prior_received  recent_received  \\\n",
       "0                  0                   0             189               16   \n",
       "1                  1                   1               6                7   \n",
       "2                  1                   1               2                3   \n",
       "3                  1                   1             155               23   \n",
       "4                  1                   1              75               36   \n",
       "\n",
       "   prior_responses  recent_responses  prior_submissions_subject  \\\n",
       "0                9                 0                          0   \n",
       "1                0                 0                          0   \n",
       "2                0                 0                          0   \n",
       "3               15                 0                          0   \n",
       "4               69                30                          0   \n",
       "\n",
       "   prior_submissions_discipline  recent_submissions_subject  \\\n",
       "0                             0                           0   \n",
       "1                             0                           0   \n",
       "2                             2                           0   \n",
       "3                             3                           0   \n",
       "4                             3                           0   \n",
       "\n",
       "   recent_submissions_discipline          ...           codes_in_discipline  \\\n",
       "0                              0          ...                             1   \n",
       "1                              0          ...                             1   \n",
       "2                              2          ...                             1   \n",
       "3                              0          ...                             1   \n",
       "4                              0          ...                             1   \n",
       "\n",
       "   engaged  cellcode_Non_House  cellcode_SAGETrack  region_India  region_UK  \\\n",
       "0        0                   0                   0             0          1   \n",
       "1        0                   0                   0             0          0   \n",
       "2        0                   0                   0             0          0   \n",
       "3        0                   0                   0             0          0   \n",
       "4        0                   0                   1             0          0   \n",
       "\n",
       "   region_US  region_Unknown  prior_response_rate  recent_response_rate  \n",
       "0          0               0             0.047619              0.000000  \n",
       "1          0               0             0.000000              0.000000  \n",
       "2          0               0             0.000000              0.000000  \n",
       "3          0               0             0.096774              0.000000  \n",
       "4          0               0             0.920000              0.833333  \n",
       "\n",
       "[5 rows x 21 columns]"
      ]
     },
     "execution_count": 109,
     "metadata": {},
     "output_type": "execute_result"
    }
   ],
   "source": [
    "engaged.head()"
   ]
  },
  {
   "cell_type": "code",
   "execution_count": null,
   "metadata": {},
   "outputs": [],
   "source": []
  }
 ],
 "metadata": {
  "kernelspec": {
   "display_name": "Python 3",
   "language": "python",
   "name": "python3"
  },
  "language_info": {
   "codemirror_mode": {
    "name": "ipython",
    "version": 3
   },
   "file_extension": ".py",
   "mimetype": "text/x-python",
   "name": "python",
   "nbconvert_exporter": "python",
   "pygments_lexer": "ipython3",
   "version": "3.7.1"
  }
 },
 "nbformat": 4,
 "nbformat_minor": 2
}
